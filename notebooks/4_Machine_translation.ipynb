{
  "cells": [
    {
      "cell_type": "markdown",
      "metadata": {
        "id": "view-in-github",
        "colab_type": "text"
      },
      "source": [
        "<a href=\"https://colab.research.google.com/github/jdasam/aat3020-2023/blob/main/notebooks/4_Machine_translation.ipynb\" target=\"_parent\"><img src=\"https://colab.research.google.com/assets/colab-badge.svg\" alt=\"Open In Colab\"/></a>"
      ]
    },
    {
      "cell_type": "markdown",
      "id": "80c87a7a",
      "metadata": {
        "id": "80c87a7a"
      },
      "source": [
        "# Machine Translation"
      ]
    },
    {
      "cell_type": "code",
      "execution_count": 1,
      "id": "Y6OfzjCACzNM",
      "metadata": {
        "colab": {
          "base_uri": "https://localhost:8080/"
        },
        "id": "Y6OfzjCACzNM",
        "outputId": "e9d2af2a-eab1-43d7-dffe-49ab9d9e12bb"
      },
      "outputs": [
        {
          "output_type": "stream",
          "name": "stdout",
          "text": [
            "Requirement already satisfied: transformers in /usr/local/lib/python3.10/dist-packages (4.41.1)\n",
            "Requirement already satisfied: tokenizers in /usr/local/lib/python3.10/dist-packages (0.19.1)\n",
            "Requirement already satisfied: filelock in /usr/local/lib/python3.10/dist-packages (from transformers) (3.14.0)\n",
            "Requirement already satisfied: huggingface-hub<1.0,>=0.23.0 in /usr/local/lib/python3.10/dist-packages (from transformers) (0.23.2)\n",
            "Requirement already satisfied: numpy>=1.17 in /usr/local/lib/python3.10/dist-packages (from transformers) (1.25.2)\n",
            "Requirement already satisfied: packaging>=20.0 in /usr/local/lib/python3.10/dist-packages (from transformers) (24.0)\n",
            "Requirement already satisfied: pyyaml>=5.1 in /usr/local/lib/python3.10/dist-packages (from transformers) (6.0.1)\n",
            "Requirement already satisfied: regex!=2019.12.17 in /usr/local/lib/python3.10/dist-packages (from transformers) (2024.5.15)\n",
            "Requirement already satisfied: requests in /usr/local/lib/python3.10/dist-packages (from transformers) (2.31.0)\n",
            "Requirement already satisfied: safetensors>=0.4.1 in /usr/local/lib/python3.10/dist-packages (from transformers) (0.4.3)\n",
            "Requirement already satisfied: tqdm>=4.27 in /usr/local/lib/python3.10/dist-packages (from transformers) (4.66.4)\n",
            "Requirement already satisfied: fsspec>=2023.5.0 in /usr/local/lib/python3.10/dist-packages (from huggingface-hub<1.0,>=0.23.0->transformers) (2023.6.0)\n",
            "Requirement already satisfied: typing-extensions>=3.7.4.3 in /usr/local/lib/python3.10/dist-packages (from huggingface-hub<1.0,>=0.23.0->transformers) (4.12.0)\n",
            "Requirement already satisfied: charset-normalizer<4,>=2 in /usr/local/lib/python3.10/dist-packages (from requests->transformers) (3.3.2)\n",
            "Requirement already satisfied: idna<4,>=2.5 in /usr/local/lib/python3.10/dist-packages (from requests->transformers) (3.7)\n",
            "Requirement already satisfied: urllib3<3,>=1.21.1 in /usr/local/lib/python3.10/dist-packages (from requests->transformers) (2.0.7)\n",
            "Requirement already satisfied: certifi>=2017.4.17 in /usr/local/lib/python3.10/dist-packages (from requests->transformers) (2024.2.2)\n"
          ]
        }
      ],
      "source": [
        "# install HuggingFace\n",
        "!pip install transformers tokenizers\n",
        "\n",
        "# If you are not using Colab, install below to read xlsx file\n",
        "# !pip install openpyxl"
      ]
    },
    {
      "cell_type": "code",
      "execution_count": 2,
      "id": "518b10da",
      "metadata": {
        "colab": {
          "base_uri": "https://localhost:8080/"
        },
        "id": "518b10da",
        "outputId": "88f82445-a540-410b-dc62-ce77f0e5b9bb"
      },
      "outputs": [
        {
          "output_type": "stream",
          "name": "stdout",
          "text": [
            "Downloading...\n",
            "From (original): https://drive.google.com/uc?id=13CGLEULYccogSLByHXPAxSveLZTtnj8c\n",
            "From (redirected): https://drive.google.com/uc?id=13CGLEULYccogSLByHXPAxSveLZTtnj8c&confirm=t&uuid=a35dd62a-7ac5-4bdd-b33e-522aa7722b4f\n",
            "To: /content/nia_korean_english_csv.zip\n",
            "100% 190M/190M [00:07<00:00, 26.9MB/s]\n"
          ]
        }
      ],
      "source": [
        "'''\n",
        "Download dataset (originally from NIA AI-Hub)\n",
        "'''\n",
        "\n",
        "# !gdown 1CpsqOuuuB3I_PG5DbuqH1ssCFVerU46g\n",
        "# !unzip -q nia-aihub-korean-english.zip\n",
        "\n",
        "# !gdown 1GMFWREWBVcD5vJdwNFadHmzVStclcyKf\n",
        "# !unzip -q nia-aihub-korean-english-txt.zip\n",
        "\n",
        "!gdown 13CGLEULYccogSLByHXPAxSveLZTtnj8c\n",
        "!unzip -q nia_korean_english_csv.zip"
      ]
    },
    {
      "cell_type": "code",
      "execution_count": 3,
      "id": "dWNSKjhdJ1jM",
      "metadata": {
        "id": "dWNSKjhdJ1jM"
      },
      "outputs": [],
      "source": [
        "from pathlib import Path\n",
        "import pandas as pd\n",
        "\n",
        "df = pd.read_csv(\"nia_korean_english.csv\")"
      ]
    },
    {
      "cell_type": "code",
      "source": [
        "df"
      ],
      "metadata": {
        "colab": {
          "base_uri": "https://localhost:8080/",
          "height": 423
        },
        "id": "f7x-RgZcNk9I",
        "outputId": "89631307-cdee-41b6-8be5-f37d6e6ca457"
      },
      "id": "f7x-RgZcNk9I",
      "execution_count": 4,
      "outputs": [
        {
          "output_type": "execute_result",
          "data": {
            "text/plain": [
              "                                                        원문  \\\n",
              "0        'Bible Coloring'은 성경의 아름다운 이야기를 체험 할 수 있는 컬러링 ...   \n",
              "1                                             씨티은행에서 일하세요?   \n",
              "2                    푸리토의 베스트셀러는 해외에서 입소문만으로 4차 완판을 기록하였다.   \n",
              "3         11장에서는 예수님이 이번엔 나사로를 무덤에서 불러내어 죽은 자 가운데서 살리셨습니다.   \n",
              "4           6.5, 7, 8 사이즈가 몇 개나 더 재입고 될지 제게 알려주시면 감사하겠습니다.   \n",
              "...                                                    ...   \n",
              "1602413  힐튼호텔 건너편에서 회현동주민센터로 내려가는 길에는 칙칙한 회색의 석축옹벽이 이어져...   \n",
              "1602414  힘든 분들이 많이 계시지만 조금이나마 어렵지 않도록 도움이 될 수 있도록 저희가 최...   \n",
              "1602415  힘든 역사 속에서 대한민국을 불과 50여년 만에 빛나는 나라로 만들고 업적을 만들 ...   \n",
              "1602416  힘든 일을 하는 데는 무엇보다 정부가 큰 관심을 갖고 있다는 자부심을 갖도록 해야 한다.   \n",
              "1602417  힘을 합쳐 세계 일류통일강국으로 대한민국을 우뚝 세우는 역할을 이 자리의 모든 지도...   \n",
              "\n",
              "                                                       번역문  \n",
              "0        Bible Coloring' is a coloring application that...  \n",
              "1                              Do you work at a City bank?  \n",
              "2        PURITO's bestseller, which recorded 4th rough ...  \n",
              "3        In Chapter 11 Jesus called Lazarus from the to...  \n",
              "4        I would feel grateful to know how many stocks ...  \n",
              "...                                                    ...  \n",
              "1602413  Across from the Hilton Hotel, the path to Hoeh...  \n",
              "1602414  There are a lot of people who are having a har...  \n",
              "1602415  It was possible to make the Republic of Korea ...  \n",
              "1602416  As for doing hard work, most of all, they shou...  \n",
              "1602417  I would like to thank all the leaders here for...  \n",
              "\n",
              "[1602418 rows x 2 columns]"
            ],
            "text/html": [
              "\n",
              "  <div id=\"df-842364f0-7cbf-4e51-9c69-a39594d74c78\" class=\"colab-df-container\">\n",
              "    <div>\n",
              "<style scoped>\n",
              "    .dataframe tbody tr th:only-of-type {\n",
              "        vertical-align: middle;\n",
              "    }\n",
              "\n",
              "    .dataframe tbody tr th {\n",
              "        vertical-align: top;\n",
              "    }\n",
              "\n",
              "    .dataframe thead th {\n",
              "        text-align: right;\n",
              "    }\n",
              "</style>\n",
              "<table border=\"1\" class=\"dataframe\">\n",
              "  <thead>\n",
              "    <tr style=\"text-align: right;\">\n",
              "      <th></th>\n",
              "      <th>원문</th>\n",
              "      <th>번역문</th>\n",
              "    </tr>\n",
              "  </thead>\n",
              "  <tbody>\n",
              "    <tr>\n",
              "      <th>0</th>\n",
              "      <td>'Bible Coloring'은 성경의 아름다운 이야기를 체험 할 수 있는 컬러링 ...</td>\n",
              "      <td>Bible Coloring' is a coloring application that...</td>\n",
              "    </tr>\n",
              "    <tr>\n",
              "      <th>1</th>\n",
              "      <td>씨티은행에서 일하세요?</td>\n",
              "      <td>Do you work at a City bank?</td>\n",
              "    </tr>\n",
              "    <tr>\n",
              "      <th>2</th>\n",
              "      <td>푸리토의 베스트셀러는 해외에서 입소문만으로 4차 완판을 기록하였다.</td>\n",
              "      <td>PURITO's bestseller, which recorded 4th rough ...</td>\n",
              "    </tr>\n",
              "    <tr>\n",
              "      <th>3</th>\n",
              "      <td>11장에서는 예수님이 이번엔 나사로를 무덤에서 불러내어 죽은 자 가운데서 살리셨습니다.</td>\n",
              "      <td>In Chapter 11 Jesus called Lazarus from the to...</td>\n",
              "    </tr>\n",
              "    <tr>\n",
              "      <th>4</th>\n",
              "      <td>6.5, 7, 8 사이즈가 몇 개나 더 재입고 될지 제게 알려주시면 감사하겠습니다.</td>\n",
              "      <td>I would feel grateful to know how many stocks ...</td>\n",
              "    </tr>\n",
              "    <tr>\n",
              "      <th>...</th>\n",
              "      <td>...</td>\n",
              "      <td>...</td>\n",
              "    </tr>\n",
              "    <tr>\n",
              "      <th>1602413</th>\n",
              "      <td>힐튼호텔 건너편에서 회현동주민센터로 내려가는 길에는 칙칙한 회색의 석축옹벽이 이어져...</td>\n",
              "      <td>Across from the Hilton Hotel, the path to Hoeh...</td>\n",
              "    </tr>\n",
              "    <tr>\n",
              "      <th>1602414</th>\n",
              "      <td>힘든 분들이 많이 계시지만 조금이나마 어렵지 않도록 도움이 될 수 있도록 저희가 최...</td>\n",
              "      <td>There are a lot of people who are having a har...</td>\n",
              "    </tr>\n",
              "    <tr>\n",
              "      <th>1602415</th>\n",
              "      <td>힘든 역사 속에서 대한민국을 불과 50여년 만에 빛나는 나라로 만들고 업적을 만들 ...</td>\n",
              "      <td>It was possible to make the Republic of Korea ...</td>\n",
              "    </tr>\n",
              "    <tr>\n",
              "      <th>1602416</th>\n",
              "      <td>힘든 일을 하는 데는 무엇보다 정부가 큰 관심을 갖고 있다는 자부심을 갖도록 해야 한다.</td>\n",
              "      <td>As for doing hard work, most of all, they shou...</td>\n",
              "    </tr>\n",
              "    <tr>\n",
              "      <th>1602417</th>\n",
              "      <td>힘을 합쳐 세계 일류통일강국으로 대한민국을 우뚝 세우는 역할을 이 자리의 모든 지도...</td>\n",
              "      <td>I would like to thank all the leaders here for...</td>\n",
              "    </tr>\n",
              "  </tbody>\n",
              "</table>\n",
              "<p>1602418 rows × 2 columns</p>\n",
              "</div>\n",
              "    <div class=\"colab-df-buttons\">\n",
              "\n",
              "  <div class=\"colab-df-container\">\n",
              "    <button class=\"colab-df-convert\" onclick=\"convertToInteractive('df-842364f0-7cbf-4e51-9c69-a39594d74c78')\"\n",
              "            title=\"Convert this dataframe to an interactive table.\"\n",
              "            style=\"display:none;\">\n",
              "\n",
              "  <svg xmlns=\"http://www.w3.org/2000/svg\" height=\"24px\" viewBox=\"0 -960 960 960\">\n",
              "    <path d=\"M120-120v-720h720v720H120Zm60-500h600v-160H180v160Zm220 220h160v-160H400v160Zm0 220h160v-160H400v160ZM180-400h160v-160H180v160Zm440 0h160v-160H620v160ZM180-180h160v-160H180v160Zm440 0h160v-160H620v160Z\"/>\n",
              "  </svg>\n",
              "    </button>\n",
              "\n",
              "  <style>\n",
              "    .colab-df-container {\n",
              "      display:flex;\n",
              "      gap: 12px;\n",
              "    }\n",
              "\n",
              "    .colab-df-convert {\n",
              "      background-color: #E8F0FE;\n",
              "      border: none;\n",
              "      border-radius: 50%;\n",
              "      cursor: pointer;\n",
              "      display: none;\n",
              "      fill: #1967D2;\n",
              "      height: 32px;\n",
              "      padding: 0 0 0 0;\n",
              "      width: 32px;\n",
              "    }\n",
              "\n",
              "    .colab-df-convert:hover {\n",
              "      background-color: #E2EBFA;\n",
              "      box-shadow: 0px 1px 2px rgba(60, 64, 67, 0.3), 0px 1px 3px 1px rgba(60, 64, 67, 0.15);\n",
              "      fill: #174EA6;\n",
              "    }\n",
              "\n",
              "    .colab-df-buttons div {\n",
              "      margin-bottom: 4px;\n",
              "    }\n",
              "\n",
              "    [theme=dark] .colab-df-convert {\n",
              "      background-color: #3B4455;\n",
              "      fill: #D2E3FC;\n",
              "    }\n",
              "\n",
              "    [theme=dark] .colab-df-convert:hover {\n",
              "      background-color: #434B5C;\n",
              "      box-shadow: 0px 1px 3px 1px rgba(0, 0, 0, 0.15);\n",
              "      filter: drop-shadow(0px 1px 2px rgba(0, 0, 0, 0.3));\n",
              "      fill: #FFFFFF;\n",
              "    }\n",
              "  </style>\n",
              "\n",
              "    <script>\n",
              "      const buttonEl =\n",
              "        document.querySelector('#df-842364f0-7cbf-4e51-9c69-a39594d74c78 button.colab-df-convert');\n",
              "      buttonEl.style.display =\n",
              "        google.colab.kernel.accessAllowed ? 'block' : 'none';\n",
              "\n",
              "      async function convertToInteractive(key) {\n",
              "        const element = document.querySelector('#df-842364f0-7cbf-4e51-9c69-a39594d74c78');\n",
              "        const dataTable =\n",
              "          await google.colab.kernel.invokeFunction('convertToInteractive',\n",
              "                                                    [key], {});\n",
              "        if (!dataTable) return;\n",
              "\n",
              "        const docLinkHtml = 'Like what you see? Visit the ' +\n",
              "          '<a target=\"_blank\" href=https://colab.research.google.com/notebooks/data_table.ipynb>data table notebook</a>'\n",
              "          + ' to learn more about interactive tables.';\n",
              "        element.innerHTML = '';\n",
              "        dataTable['output_type'] = 'display_data';\n",
              "        await google.colab.output.renderOutput(dataTable, element);\n",
              "        const docLink = document.createElement('div');\n",
              "        docLink.innerHTML = docLinkHtml;\n",
              "        element.appendChild(docLink);\n",
              "      }\n",
              "    </script>\n",
              "  </div>\n",
              "\n",
              "\n",
              "<div id=\"df-8f9c84e9-26bc-4c5b-ae85-5a4cf1f9911b\">\n",
              "  <button class=\"colab-df-quickchart\" onclick=\"quickchart('df-8f9c84e9-26bc-4c5b-ae85-5a4cf1f9911b')\"\n",
              "            title=\"Suggest charts\"\n",
              "            style=\"display:none;\">\n",
              "\n",
              "<svg xmlns=\"http://www.w3.org/2000/svg\" height=\"24px\"viewBox=\"0 0 24 24\"\n",
              "     width=\"24px\">\n",
              "    <g>\n",
              "        <path d=\"M19 3H5c-1.1 0-2 .9-2 2v14c0 1.1.9 2 2 2h14c1.1 0 2-.9 2-2V5c0-1.1-.9-2-2-2zM9 17H7v-7h2v7zm4 0h-2V7h2v10zm4 0h-2v-4h2v4z\"/>\n",
              "    </g>\n",
              "</svg>\n",
              "  </button>\n",
              "\n",
              "<style>\n",
              "  .colab-df-quickchart {\n",
              "      --bg-color: #E8F0FE;\n",
              "      --fill-color: #1967D2;\n",
              "      --hover-bg-color: #E2EBFA;\n",
              "      --hover-fill-color: #174EA6;\n",
              "      --disabled-fill-color: #AAA;\n",
              "      --disabled-bg-color: #DDD;\n",
              "  }\n",
              "\n",
              "  [theme=dark] .colab-df-quickchart {\n",
              "      --bg-color: #3B4455;\n",
              "      --fill-color: #D2E3FC;\n",
              "      --hover-bg-color: #434B5C;\n",
              "      --hover-fill-color: #FFFFFF;\n",
              "      --disabled-bg-color: #3B4455;\n",
              "      --disabled-fill-color: #666;\n",
              "  }\n",
              "\n",
              "  .colab-df-quickchart {\n",
              "    background-color: var(--bg-color);\n",
              "    border: none;\n",
              "    border-radius: 50%;\n",
              "    cursor: pointer;\n",
              "    display: none;\n",
              "    fill: var(--fill-color);\n",
              "    height: 32px;\n",
              "    padding: 0;\n",
              "    width: 32px;\n",
              "  }\n",
              "\n",
              "  .colab-df-quickchart:hover {\n",
              "    background-color: var(--hover-bg-color);\n",
              "    box-shadow: 0 1px 2px rgba(60, 64, 67, 0.3), 0 1px 3px 1px rgba(60, 64, 67, 0.15);\n",
              "    fill: var(--button-hover-fill-color);\n",
              "  }\n",
              "\n",
              "  .colab-df-quickchart-complete:disabled,\n",
              "  .colab-df-quickchart-complete:disabled:hover {\n",
              "    background-color: var(--disabled-bg-color);\n",
              "    fill: var(--disabled-fill-color);\n",
              "    box-shadow: none;\n",
              "  }\n",
              "\n",
              "  .colab-df-spinner {\n",
              "    border: 2px solid var(--fill-color);\n",
              "    border-color: transparent;\n",
              "    border-bottom-color: var(--fill-color);\n",
              "    animation:\n",
              "      spin 1s steps(1) infinite;\n",
              "  }\n",
              "\n",
              "  @keyframes spin {\n",
              "    0% {\n",
              "      border-color: transparent;\n",
              "      border-bottom-color: var(--fill-color);\n",
              "      border-left-color: var(--fill-color);\n",
              "    }\n",
              "    20% {\n",
              "      border-color: transparent;\n",
              "      border-left-color: var(--fill-color);\n",
              "      border-top-color: var(--fill-color);\n",
              "    }\n",
              "    30% {\n",
              "      border-color: transparent;\n",
              "      border-left-color: var(--fill-color);\n",
              "      border-top-color: var(--fill-color);\n",
              "      border-right-color: var(--fill-color);\n",
              "    }\n",
              "    40% {\n",
              "      border-color: transparent;\n",
              "      border-right-color: var(--fill-color);\n",
              "      border-top-color: var(--fill-color);\n",
              "    }\n",
              "    60% {\n",
              "      border-color: transparent;\n",
              "      border-right-color: var(--fill-color);\n",
              "    }\n",
              "    80% {\n",
              "      border-color: transparent;\n",
              "      border-right-color: var(--fill-color);\n",
              "      border-bottom-color: var(--fill-color);\n",
              "    }\n",
              "    90% {\n",
              "      border-color: transparent;\n",
              "      border-bottom-color: var(--fill-color);\n",
              "    }\n",
              "  }\n",
              "</style>\n",
              "\n",
              "  <script>\n",
              "    async function quickchart(key) {\n",
              "      const quickchartButtonEl =\n",
              "        document.querySelector('#' + key + ' button');\n",
              "      quickchartButtonEl.disabled = true;  // To prevent multiple clicks.\n",
              "      quickchartButtonEl.classList.add('colab-df-spinner');\n",
              "      try {\n",
              "        const charts = await google.colab.kernel.invokeFunction(\n",
              "            'suggestCharts', [key], {});\n",
              "      } catch (error) {\n",
              "        console.error('Error during call to suggestCharts:', error);\n",
              "      }\n",
              "      quickchartButtonEl.classList.remove('colab-df-spinner');\n",
              "      quickchartButtonEl.classList.add('colab-df-quickchart-complete');\n",
              "    }\n",
              "    (() => {\n",
              "      let quickchartButtonEl =\n",
              "        document.querySelector('#df-8f9c84e9-26bc-4c5b-ae85-5a4cf1f9911b button');\n",
              "      quickchartButtonEl.style.display =\n",
              "        google.colab.kernel.accessAllowed ? 'block' : 'none';\n",
              "    })();\n",
              "  </script>\n",
              "</div>\n",
              "\n",
              "  <div id=\"id_edc0dec5-1f00-4f05-b412-efa343e7db13\">\n",
              "    <style>\n",
              "      .colab-df-generate {\n",
              "        background-color: #E8F0FE;\n",
              "        border: none;\n",
              "        border-radius: 50%;\n",
              "        cursor: pointer;\n",
              "        display: none;\n",
              "        fill: #1967D2;\n",
              "        height: 32px;\n",
              "        padding: 0 0 0 0;\n",
              "        width: 32px;\n",
              "      }\n",
              "\n",
              "      .colab-df-generate:hover {\n",
              "        background-color: #E2EBFA;\n",
              "        box-shadow: 0px 1px 2px rgba(60, 64, 67, 0.3), 0px 1px 3px 1px rgba(60, 64, 67, 0.15);\n",
              "        fill: #174EA6;\n",
              "      }\n",
              "\n",
              "      [theme=dark] .colab-df-generate {\n",
              "        background-color: #3B4455;\n",
              "        fill: #D2E3FC;\n",
              "      }\n",
              "\n",
              "      [theme=dark] .colab-df-generate:hover {\n",
              "        background-color: #434B5C;\n",
              "        box-shadow: 0px 1px 3px 1px rgba(0, 0, 0, 0.15);\n",
              "        filter: drop-shadow(0px 1px 2px rgba(0, 0, 0, 0.3));\n",
              "        fill: #FFFFFF;\n",
              "      }\n",
              "    </style>\n",
              "    <button class=\"colab-df-generate\" onclick=\"generateWithVariable('df')\"\n",
              "            title=\"Generate code using this dataframe.\"\n",
              "            style=\"display:none;\">\n",
              "\n",
              "  <svg xmlns=\"http://www.w3.org/2000/svg\" height=\"24px\"viewBox=\"0 0 24 24\"\n",
              "       width=\"24px\">\n",
              "    <path d=\"M7,19H8.4L18.45,9,17,7.55,7,17.6ZM5,21V16.75L18.45,3.32a2,2,0,0,1,2.83,0l1.4,1.43a1.91,1.91,0,0,1,.58,1.4,1.91,1.91,0,0,1-.58,1.4L9.25,21ZM18.45,9,17,7.55Zm-12,3A5.31,5.31,0,0,0,4.9,8.1,5.31,5.31,0,0,0,1,6.5,5.31,5.31,0,0,0,4.9,4.9,5.31,5.31,0,0,0,6.5,1,5.31,5.31,0,0,0,8.1,4.9,5.31,5.31,0,0,0,12,6.5,5.46,5.46,0,0,0,6.5,12Z\"/>\n",
              "  </svg>\n",
              "    </button>\n",
              "    <script>\n",
              "      (() => {\n",
              "      const buttonEl =\n",
              "        document.querySelector('#id_edc0dec5-1f00-4f05-b412-efa343e7db13 button.colab-df-generate');\n",
              "      buttonEl.style.display =\n",
              "        google.colab.kernel.accessAllowed ? 'block' : 'none';\n",
              "\n",
              "      buttonEl.onclick = () => {\n",
              "        google.colab.notebook.generateWithVariable('df');\n",
              "      }\n",
              "      })();\n",
              "    </script>\n",
              "  </div>\n",
              "\n",
              "    </div>\n",
              "  </div>\n"
            ],
            "application/vnd.google.colaboratory.intrinsic+json": {
              "type": "dataframe",
              "variable_name": "df"
            }
          },
          "metadata": {},
          "execution_count": 4
        }
      ]
    },
    {
      "cell_type": "code",
      "execution_count": 5,
      "id": "ca202b9d",
      "metadata": {
        "colab": {
          "base_uri": "https://localhost:8080/",
          "height": 89
        },
        "id": "ca202b9d",
        "outputId": "bf7e3d4d-9bfb-448b-b8ca-4ed8133b70d9",
        "scrolled": true
      },
      "outputs": [
        {
          "output_type": "execute_result",
          "data": {
            "text/plain": [
              "\"\\ndataset_dir = Path('nia_korean_english')\\ndata_list = sorted(list(dataset_dir.glob('*.xlsx')))\\nfor path in data_list:\\n  df = pd.read_excel(path)\\n  kor_text_path = path.parent / (path.stem+'_kor.txt')\\n  eng_text_path = path.parent / (path.stem+'_eng.txt')\\n  with open(kor_text_path, 'w', encoding='utf8') as f:\\n      f.write('\\n'.join(df['원문']))\\n  with open(eng_text_path, 'w', encoding='utf8') as f:\\n      f.write('\\n'.join(df['번역문']))\\n\""
            ],
            "application/vnd.google.colaboratory.intrinsic+json": {
              "type": "string"
            }
          },
          "metadata": {},
          "execution_count": 5
        }
      ],
      "source": [
        "# You don't have to run this\n",
        "'''\n",
        "dataset_dir = Path('nia_korean_english')\n",
        "data_list = sorted(list(dataset_dir.glob('*.xlsx')))\n",
        "for path in data_list:\n",
        "  df = pd.read_excel(path)\n",
        "  kor_text_path = path.parent / (path.stem+'_kor.txt')\n",
        "  eng_text_path = path.parent / (path.stem+'_eng.txt')\n",
        "  with open(kor_text_path, 'w', encoding='utf8') as f:\n",
        "      f.write('\\n'.join(df['원문']))\n",
        "  with open(eng_text_path, 'w', encoding='utf8') as f:\n",
        "      f.write('\\n'.join(df['번역문']))\n",
        "'''\n"
      ]
    },
    {
      "cell_type": "code",
      "execution_count": 6,
      "id": "ff8b8786",
      "metadata": {
        "id": "ff8b8786",
        "colab": {
          "base_uri": "https://localhost:8080/"
        },
        "outputId": "1cbfa22d-9c0f-4883-b566-ea001e7f28e3"
      },
      "outputs": [
        {
          "output_type": "execute_result",
          "data": {
            "text/plain": [
              "(10000          개, 돌고래류, 원숭이, 앵무새 일련의 음성 명령 또는 단어를 배울 수 있다.\n",
              " 10001                     개가 계속 딸꾹질을 한다면 문제가 있는 것이 틀림없습니다.\n",
              " 10002                                      개가 그걸 좋아할 것 같아.\n",
              " 10003                                      개가 정말 예쁘게 생겼네요.\n",
              " 10004                            개가 지저분하게 해 놓은 것을 청소할 거예요.\n",
              " 10005                           개가 짖는 소리 때문에 나는 방금 잠에서 깼어.\n",
              " 10006    개가 하는 행동의 의미를 알고 있는 것은 반려견과 서로를 이해할 수 있는 하나의 방...\n",
              " 10007         개개인들이 가까이 서로 붙어있으면, 그들은 서로 소통하고 많은 정보를 나눕니다.\n",
              " 10008    개개인의 사망 시점을 예측하기는 어려워도 어느 집단에서 일정 기간의 평균 사망자 수...\n",
              " 10009      개개인의 존재가 존중된 후에 제대로 된 society가 이루어질 수 있다고 생각해요.\n",
              " 10010    개교 이래 100년 만에 DJ들과 빠른 비트의 EDM 음악, 현란한 조명들은 저에게...\n",
              " 10011                     개구리는 뱀이 개구리를 먹는다는 것을 알고 어떻게 했나요?\n",
              " 10012                         개구리로 변한 그는 사람들로부터 괴롭힘을 당했어요.\n",
              " 10013    개구쟁이 성격을 지닌 캐릭터로 연령대가 10대 후반에서 20대 초반으로 사춘기를 겪...\n",
              " 10014                 개구쟁이처럼만 지낼 것 같아서 걱정이었는데 사진 보니 자랑스러워.\n",
              " 10015                                개국 기념일 날에는 불꾳 놀이를 해요.\n",
              " 10016         개나 소나 말고, 보고 싶은 것만 보고 보여주고 싶은 사람에게만 보여주고 살자.\n",
              " 10017               개나리 아파트에서는 배우 김윤석의 와이어 액션 장면만 촬영되었습니다.\n",
              " 10018                               개나리는 봄에 피는 꽃의 대표주자입니다.\n",
              " 10019         개념, 범주, 연상 의미 수준에서는, 모두 기타 오류가 가장 많이 산출했습니다.\n",
              " 10020                            개념을 검토해 보시고 의견 주시면 좋겠습니다.\n",
              " 10021                        개념을 설명한 후에 그 개념과 관련된 문제를 푸세요.\n",
              " 10022               개는 고양이와 달리 여기저기 숨지 않고 높은 곳에 올라가지 않습니다.\n",
              " 10023                              개는 산책하러 나가면 냄새를 계속 맡아요.\n",
              " 10024                 개는 상대방에게 자신의 우월감을 드러낼 때 꼬리를 곧게 세웁니다.\n",
              " 10025                             개는 신나게 뛰어놀다가 모래사장에 누워있어.\n",
              " 10026                             개는 엘리베이터 안에서 똥을 쌀 수도 있다.\n",
              " 10027    개는 자신이 가지고 있는 고기의 소중함을 생각하지 않고 다른 고기를 얻기 위해서 욕...\n",
              " 10028                            개는 충성심이 강해서 많은 사람들이 좋아해요.\n",
              " 10029                               개는 털갈이를 하므로 몸에 털이 빠져요.\n",
              " 10030                              개는 호의적이어서 사람 들을 잘 따릅니다.\n",
              " 10031                  개당 $110이며, 이동용 가방을 포함해서 주실 수 있으신지요?\n",
              " 10032                                 개당 납품 단가는 1.26달러입니다.\n",
              " 10033                               개도 사람처럼 의사소통을 할 수 있어요.\n",
              " 10034                             개들은 인간을 그들의 가족으로서 인식합니다.\n",
              " 10035                              개들은 종류가 다양하며 크기도 다양합니다.\n",
              " 10036                                개들은 좋은 후각 신경을 가지고 있다.\n",
              " 10037                     개들은 주인 들을 잘 따르고 우리에게 많은 도움을 줍니다.\n",
              " 10038                                  개들은 주인을 잘 따르는 것 같아.\n",
              " 10039                                    개떵이의 얼음 먹방이 재밌더라.\n",
              " 10040                            개를 데리고 산책하러 나가시면 얼마나 걸려요?\n",
              " 10041     개막 전시회가 전 세계적으로 경쟁력을 갖추면서, 이를 통해 기술 교류가 활발해졌습니다.\n",
              " 10042                          개미 무리는 많은 어려운 일들을 할 수 있습니다.\n",
              " 10043                          개미, 벌, 비둘기, 청어의 공통점이 무엇인가요?\n",
              " 10044                            개미는 무리지어 다니는 동물의 좋은 예입니다.\n",
              " 10045                             개미는 배설을 담당하는 기관이 배에 있어요.\n",
              " 10046                 개미는 자기에게 기대되어 진 모든 일을 하면서 삶을 살 것입니다.\n",
              " 10047                        개미는 절대로 자신의 길을 적에게로 돌리지 않습니다.\n",
              " 10048                          개미들의 경우에는 리더가 없는 것 처럼 보입니다.\n",
              " 10049             개미와 비둘기는 서로 도움을 줬을 때 은혜를 갚을 줄 알고 고마워했어요.\n",
              " Name: 원문, dtype: object,\n",
              " 10000    Dogs, like dolphins and apes and parrots, can ...\n",
              " 10001    If the dog still keeps on hiccuping, then it m...\n",
              " 10002                                The dog will love it.\n",
              " 10003                                He's a beautiful dog.\n",
              " 10004                  I'm going to clean up the dog mess.\n",
              " 10005    I just woke up from my luggage because of the ...\n",
              " 10006    Knowing the meanings of the behaviors of pet d...\n",
              " 10007    When individuals stay closely together, they c...\n",
              " 10008    It is difficult to predict when each individua...\n",
              " 10009    I believe a true society can be achieved only ...\n",
              " 10010    For the first time in 100years since its incep...\n",
              " 10011    What did frog do after knowing that a snake ea...\n",
              " 10012     He turned into a frog and was bullied by people.\n",
              " 10013    The character is a naughty personality who is ...\n",
              " 10014    I thought he was always going get in trouble, ...\n",
              " 10015    There are fireworks on the national foundation...\n",
              " 10016    Not anyone or anything, look what you want to ...\n",
              " 10017    The only scene filmed at Gaenari Apartment was...\n",
              " 10018    The forsythia is a representative flower for t...\n",
              " 10019    In concept, extent, and associated meaning lev...\n",
              " 10020    Please review the concept and give us your opi...\n",
              " 10021    After explaining the concept, solve the proble...\n",
              " 10022    Dogs, different from cats, do not hide and cli...\n",
              " 10023    When the dogs go out for a walk, they keep sniff.\n",
              " 10024    Dogs usually straighten their tails to show th...\n",
              " 10025    The dog was running around and lying on the sand.\n",
              " 10026                     Dogs might shit in the elevator.\n",
              " 10027    The dog didn't think about the value of the me...\n",
              " 10028    Many people love dogs because it has strong lo...\n",
              " 10029             Dogs lose their hair because they do it.\n",
              " 10030         Dogs docile so they follow human with favor.\n",
              " 10031    It's $110 per unit and could you give them to ...\n",
              " 10032              The price of each unit is 1.26 dollars.\n",
              " 10033                    Dogs can communicate like humans.\n",
              " 10034           Dogs see humans as part of their families.\n",
              " 10035    There are many different kinds of dogs that va...\n",
              " 10036                     Dogs have good olfactory nerves.\n",
              " 10037    Dogs are loyal to their owners and give them l...\n",
              " 10038               Dogs seem to follow their owners well.\n",
              " 10039                The Gaeddeong's ice meokbang was fun.\n",
              " 10040               How long do you spend walking the dog?\n",
              " 10041    As opening exhibitions became competitive all ...\n",
              " 10042    Groups of ants can accomplish many difficult t...\n",
              " 10043    What do ants, bees, pigeons and herring all ha...\n",
              " 10044        Ants a good example of such bandying animals.\n",
              " 10045    The ants have the excretion organs in the abdo...\n",
              " 10046    Ants will live their lives, doing all the thin...\n",
              " 10047            Ants never bend their course to an enemy.\n",
              " 10048    In the case of ants, there appears to be no le...\n",
              " 10049    The ant and the dove appreciated each others f...\n",
              " Name: 번역문, dtype: object)"
            ]
          },
          "metadata": {},
          "execution_count": 6
        }
      ],
      "source": [
        "df['원문'][10000:10050], df['번역문'][10000:10050]"
      ]
    },
    {
      "cell_type": "markdown",
      "id": "3df6e584",
      "metadata": {
        "id": "3df6e584"
      },
      "source": [
        "## Huggingface Tokenizer"
      ]
    },
    {
      "cell_type": "code",
      "execution_count": null,
      "id": "6c6f1769",
      "metadata": {
        "colab": {
          "base_uri": "https://localhost:8080/"
        },
        "id": "6c6f1769",
        "outputId": "f1f0dfad-d93b-482d-8c92-d46bc4177580"
      },
      "outputs": [
        {
          "name": "stdout",
          "output_type": "stream",
          "text": [
            "\n",
            "\n",
            "\n",
            "\n",
            "\n",
            "\n"
          ]
        },
        {
          "data": {
            "text/plain": [
              "['hugging_eng_32000/vocab.txt']"
            ]
          },
          "execution_count": 8,
          "metadata": {},
          "output_type": "execute_result"
        }
      ],
      "source": [
        "'''\n",
        "from tokenizers import BertWordPieceTokenizer\n",
        "tokenizer = BertWordPieceTokenizer(strip_accents=False, lowercase=False)\n",
        "\n",
        "num_files = len(data_list)\n",
        "\n",
        "corpus_file   =  [str(path.parent / (path.stem + '_kor.txt')) for path in data_list[:num_files]]\n",
        "# output_dir   = Path('hugging_kor_%d'%(vocab_size))\n",
        "en_corpus_file   =  [str(path.parent / (path.stem + '_eng.txt')) for path in data_list[:num_files]]\n",
        "# output_dir   = Path('hugging_eng_%d'%(vocab_size))\n",
        "\n",
        "vocab_size    = 32000  # Number of maximum size of the vocabulary\n",
        "limit_alphabet= 6000\n",
        "output_dir    = Path('hugging_kor_%d'%(vocab_size))\n",
        "en_output_dir = Path('hugging_eng_%d'%(vocab_size))\n",
        "output_dir.mkdir(exist_ok=True)\n",
        "en_output_dir.mkdir(exist_ok=True)\n",
        "min_frequency = 5\n",
        "\n",
        "tokenizer.train(files=corpus_file,\n",
        "               vocab_size=vocab_size,\n",
        "               min_frequency=min_frequency,\n",
        "               limit_alphabet=limit_alphabet,\n",
        "               show_progress=True)\n",
        "\n",
        "tokenizer.save_model(str(output_dir))\n",
        "\n",
        "en_tokenizer = BertWordPieceTokenizer(strip_accents=False, lowercase=False)\n",
        "en_tokenizer.train(files=en_corpus_file,\n",
        "                vocab_size=vocab_size,\n",
        "                min_frequency=min_frequency,\n",
        "                limit_alphabet=limit_alphabet,\n",
        "                show_progress=True)\n",
        "en_tokenizer.save_model(str(en_output_dir))\n",
        "\n",
        "'''"
      ]
    },
    {
      "cell_type": "code",
      "execution_count": 7,
      "id": "410eb97a",
      "metadata": {
        "colab": {
          "base_uri": "https://localhost:8080/"
        },
        "id": "410eb97a",
        "outputId": "72d54007-4853-4782-aa78-afb1ebe6c414",
        "scrolled": true
      },
      "outputs": [
        {
          "output_type": "stream",
          "name": "stdout",
          "text": [
            "[2, 6481, 21612, 2284, 22271, 6668, 9187, 8671, 4381, 3651, 7637, 17535, 18, 3]\n",
            "나는 친구에게 그 철학자의 책을 선물해 주겠다고 말했습니다.\n",
            "[CLS] 나는 친구에게 그 철학자의 책을 선물해 주겠다고 말했습니다. [SEP]\n"
          ]
        }
      ],
      "source": [
        "from transformers import BertTokenizerFast\n",
        "\n",
        "tokenizer_src = BertTokenizerFast.from_pretrained('hugging_kor_32000',\n",
        "                                                       strip_accents=False,\n",
        "                                                       lowercase=False)\n",
        "tokenizer_tgt = BertTokenizerFast.from_pretrained('hugging_eng_32000',\n",
        "                                                       strip_accents=False,\n",
        "                                                       lowercase=False)\n",
        "\n",
        "tokenized_data = tokenizer_src(df['원문'].iloc[10])\n",
        "print(tokenized_data['input_ids'])\n",
        "print(df['원문'].iloc[10])\n",
        "print(tokenizer_src.decode(tokenized_data['input_ids']))"
      ]
    },
    {
      "cell_type": "code",
      "source": [
        "tokenized_data.keys()"
      ],
      "metadata": {
        "colab": {
          "base_uri": "https://localhost:8080/"
        },
        "id": "DJpUn0dKxK1R",
        "outputId": "3072e168-a96a-4ed2-c8c3-9f24e692a3b4"
      },
      "id": "DJpUn0dKxK1R",
      "execution_count": 8,
      "outputs": [
        {
          "output_type": "execute_result",
          "data": {
            "text/plain": [
              "dict_keys(['input_ids', 'token_type_ids', 'attention_mask'])"
            ]
          },
          "metadata": {},
          "execution_count": 8
        }
      ]
    },
    {
      "cell_type": "code",
      "execution_count": 9,
      "id": "q9GJ7cifk5tg",
      "metadata": {
        "id": "q9GJ7cifk5tg",
        "colab": {
          "base_uri": "https://localhost:8080/"
        },
        "outputId": "25d82cff-c3b2-42c0-cd70-156c5d912454"
      },
      "outputs": [
        {
          "output_type": "execute_result",
          "data": {
            "text/plain": [
              "[2, 6481, 21612, 2284, 22271, 6668, 9187, 8671, 4381, 3651, 7637, 17535, 18, 3]"
            ]
          },
          "metadata": {},
          "execution_count": 9
        }
      ],
      "source": [
        "tokenized_data['input_ids']"
      ]
    },
    {
      "cell_type": "code",
      "source": [
        "tokenized_data['attention_mask']"
      ],
      "metadata": {
        "colab": {
          "base_uri": "https://localhost:8080/"
        },
        "id": "ZHZob7cFxPt9",
        "outputId": "46889374-54d7-44c1-f156-71b7172efe98"
      },
      "id": "ZHZob7cFxPt9",
      "execution_count": 10,
      "outputs": [
        {
          "output_type": "execute_result",
          "data": {
            "text/plain": [
              "[1, 1, 1, 1, 1, 1, 1, 1, 1, 1, 1, 1, 1, 1]"
            ]
          },
          "metadata": {},
          "execution_count": 10
        }
      ]
    },
    {
      "cell_type": "code",
      "execution_count": 11,
      "id": "340f55c0",
      "metadata": {
        "colab": {
          "base_uri": "https://localhost:8080/"
        },
        "id": "340f55c0",
        "outputId": "d9342253-5ed5-4044-8eb9-6bc18328fc19"
      },
      "outputs": [
        {
          "output_type": "execute_result",
          "data": {
            "text/plain": [
              "[[2, 6481, 25257, 8055, 4330, 2537, 10839, 3],\n",
              " [2, 6481, 8199, 21093, 25257, 8055, 4330, 2537, 10839, 3]]"
            ]
          },
          "metadata": {},
          "execution_count": 11
        }
      ],
      "source": [
        "tokenized_ids = tokenizer_src([\"나는 서강대학교에 다닙니다\", \"나는 3년전부터 서강대학교에 다닙니다\"])['input_ids']\n",
        "tokenized_ids"
      ]
    },
    {
      "cell_type": "code",
      "source": [
        "tokenizer_src([\"나는 서강대학교에 다닙니다\", \"나는 3년전부터 서강대학교에 다닙니다\"])['attention_mask']\n"
      ],
      "metadata": {
        "colab": {
          "base_uri": "https://localhost:8080/"
        },
        "id": "7n2UBipMxcgX",
        "outputId": "9fdff54e-5f05-40a6-b2fc-0deab7c99076"
      },
      "id": "7n2UBipMxcgX",
      "execution_count": 12,
      "outputs": [
        {
          "output_type": "execute_result",
          "data": {
            "text/plain": [
              "[[1, 1, 1, 1, 1, 1, 1, 1], [1, 1, 1, 1, 1, 1, 1, 1, 1, 1]]"
            ]
          },
          "metadata": {},
          "execution_count": 12
        }
      ]
    },
    {
      "cell_type": "markdown",
      "id": "26964dcb",
      "metadata": {
        "id": "26964dcb"
      },
      "source": [
        "## Divide Train / Validate/ Test Set\n",
        "- using `np.random.choice`\n",
        "    - To always get the same random shuffling result, you have to use `np.random.seed()`"
      ]
    },
    {
      "cell_type": "code",
      "source": [
        "import numpy as np\n",
        "np.random.choice(list(range(len(df))), size=3, replace=False)"
      ],
      "metadata": {
        "colab": {
          "base_uri": "https://localhost:8080/"
        },
        "id": "-Qb5AD9dx5QD",
        "outputId": "4d7aa27b-0f88-4155-8d5f-3167ca11c25c"
      },
      "id": "-Qb5AD9dx5QD",
      "execution_count": 15,
      "outputs": [
        {
          "output_type": "execute_result",
          "data": {
            "text/plain": [
              "array([1421088, 1192780,  270007])"
            ]
          },
          "metadata": {},
          "execution_count": 15
        }
      ]
    },
    {
      "cell_type": "code",
      "source": [
        "num_entire_samples = int(len(df) * 0.50)\n",
        "num_train_samples = int(num_entire_samples * 0.8)  # 6:2:2, 8:1:1\n",
        "num_valid_samples = int(num_entire_samples * 0.1)\n",
        "# num_test_samples = int(num_entire_samples * 0.1)\n",
        "\n",
        "np.random.seed(0) # fix the random seed\n",
        "randomized_indices = np.random.choice(list(range(len(df))), size=num_entire_samples, replace=False)\n",
        "print(randomized_indices)\n",
        "train_indices = randomized_indices[:num_train_samples]\n",
        "valid_indices = randomized_indices[num_train_samples:num_train_samples+num_valid_samples]\n",
        "test_indices = randomized_indices[num_train_samples+num_valid_samples:]"
      ],
      "metadata": {
        "colab": {
          "base_uri": "https://localhost:8080/"
        },
        "id": "Fdo6DtkByrv9",
        "outputId": "0dc5b2dc-73a1-4971-a0df-1c6c5645cba2"
      },
      "id": "Fdo6DtkByrv9",
      "execution_count": 55,
      "outputs": [
        {
          "output_type": "stream",
          "name": "stdout",
          "text": [
            "[ 778893 1467070  749733 ...  646913 1083324 1547878]\n"
          ]
        }
      ]
    },
    {
      "cell_type": "code",
      "execution_count": 56,
      "id": "B2zJgvXPlh95",
      "metadata": {
        "colab": {
          "base_uri": "https://localhost:8080/",
          "height": 423
        },
        "id": "B2zJgvXPlh95",
        "outputId": "2229e12d-19de-4348-bfb9-23786022391f"
      },
      "outputs": [
        {
          "output_type": "execute_result",
          "data": {
            "text/plain": [
              "                                                        원문  \\\n",
              "778893                키스를 하려는 순간, 저 멀리서 싸움이 벌어지는 소리가 들려왔다.   \n",
              "1467070  구청장은 체육시설을 사용하고자 하는 자가 둘 이상 경합할 때에는 다음 각호의 순위에...   \n",
              "749733                         메이스가 부진해도 이길 수 있다는 가능성을 봤다.   \n",
              "1202387  두 회사가 제휴해 선보인 ‘신한-토스 CMA’는 20∼30대 사이에서 인기를 끌며 ...   \n",
              "1057201  2000년 이후 CS에서 7차전을 치른 팀과 그 전에 끝난 팀간 5차례 경기에서 쉽...   \n",
              "...                                                    ...   \n",
              "641611   신혼희망타운은 결혼 후 7년 이내인 부부로 자격이 한정되는데, 지금으로선 과거 혼인...   \n",
              "669085   신규 인가 업체수는 최대 3개까지로 하고, 차입형 토지신탁 업무는 수익성이 높은 만...   \n",
              "30265                            그는 혈액암으로 3년 동안 병원에 입원했어요.   \n",
              "427304                    전화할 곳이 있어서 그런데, 여기 공중전화가 어디에 있죠?   \n",
              "923643   무슨 말이냐 하면 내신성적이 나쁘면 학종은 물론 수능, 논술도 좋은 성적이 나오기기...   \n",
              "\n",
              "                                                       번역문  \n",
              "778893   The moment we were about to kiss, I heard a fi...  \n",
              "1467070  When two or more persons who intend to use a s...  \n",
              "749733   I saw the possibility that they could win even...  \n",
              "1202387  The \"Shinhan-Toss CMA,\" showed by the between ...  \n",
              "1057201  It was only the Philadelphia Phillies in 2008 ...  \n",
              "...                                                    ...  \n",
              "641611   Newlywed Hope Town is limited to married coupl...  \n",
              "669085   The number of newly licensed companies were de...  \n",
              "30265    He was hospitalized for leukimia for three years.  \n",
              "427304   I have a place to call, so where is the pay ph...  \n",
              "923643   What I mean is that if you have poor grades in...  \n",
              "\n",
              "[640967 rows x 2 columns]"
            ],
            "text/html": [
              "\n",
              "  <div id=\"df-2f604f18-1f05-4abe-b0c1-c9843c0781a6\" class=\"colab-df-container\">\n",
              "    <div>\n",
              "<style scoped>\n",
              "    .dataframe tbody tr th:only-of-type {\n",
              "        vertical-align: middle;\n",
              "    }\n",
              "\n",
              "    .dataframe tbody tr th {\n",
              "        vertical-align: top;\n",
              "    }\n",
              "\n",
              "    .dataframe thead th {\n",
              "        text-align: right;\n",
              "    }\n",
              "</style>\n",
              "<table border=\"1\" class=\"dataframe\">\n",
              "  <thead>\n",
              "    <tr style=\"text-align: right;\">\n",
              "      <th></th>\n",
              "      <th>원문</th>\n",
              "      <th>번역문</th>\n",
              "    </tr>\n",
              "  </thead>\n",
              "  <tbody>\n",
              "    <tr>\n",
              "      <th>778893</th>\n",
              "      <td>키스를 하려는 순간, 저 멀리서 싸움이 벌어지는 소리가 들려왔다.</td>\n",
              "      <td>The moment we were about to kiss, I heard a fi...</td>\n",
              "    </tr>\n",
              "    <tr>\n",
              "      <th>1467070</th>\n",
              "      <td>구청장은 체육시설을 사용하고자 하는 자가 둘 이상 경합할 때에는 다음 각호의 순위에...</td>\n",
              "      <td>When two or more persons who intend to use a s...</td>\n",
              "    </tr>\n",
              "    <tr>\n",
              "      <th>749733</th>\n",
              "      <td>메이스가 부진해도 이길 수 있다는 가능성을 봤다.</td>\n",
              "      <td>I saw the possibility that they could win even...</td>\n",
              "    </tr>\n",
              "    <tr>\n",
              "      <th>1202387</th>\n",
              "      <td>두 회사가 제휴해 선보인 ‘신한-토스 CMA’는 20∼30대 사이에서 인기를 끌며 ...</td>\n",
              "      <td>The \"Shinhan-Toss CMA,\" showed by the between ...</td>\n",
              "    </tr>\n",
              "    <tr>\n",
              "      <th>1057201</th>\n",
              "      <td>2000년 이후 CS에서 7차전을 치른 팀과 그 전에 끝난 팀간 5차례 경기에서 쉽...</td>\n",
              "      <td>It was only the Philadelphia Phillies in 2008 ...</td>\n",
              "    </tr>\n",
              "    <tr>\n",
              "      <th>...</th>\n",
              "      <td>...</td>\n",
              "      <td>...</td>\n",
              "    </tr>\n",
              "    <tr>\n",
              "      <th>641611</th>\n",
              "      <td>신혼희망타운은 결혼 후 7년 이내인 부부로 자격이 한정되는데, 지금으로선 과거 혼인...</td>\n",
              "      <td>Newlywed Hope Town is limited to married coupl...</td>\n",
              "    </tr>\n",
              "    <tr>\n",
              "      <th>669085</th>\n",
              "      <td>신규 인가 업체수는 최대 3개까지로 하고, 차입형 토지신탁 업무는 수익성이 높은 만...</td>\n",
              "      <td>The number of newly licensed companies were de...</td>\n",
              "    </tr>\n",
              "    <tr>\n",
              "      <th>30265</th>\n",
              "      <td>그는 혈액암으로 3년 동안 병원에 입원했어요.</td>\n",
              "      <td>He was hospitalized for leukimia for three years.</td>\n",
              "    </tr>\n",
              "    <tr>\n",
              "      <th>427304</th>\n",
              "      <td>전화할 곳이 있어서 그런데, 여기 공중전화가 어디에 있죠?</td>\n",
              "      <td>I have a place to call, so where is the pay ph...</td>\n",
              "    </tr>\n",
              "    <tr>\n",
              "      <th>923643</th>\n",
              "      <td>무슨 말이냐 하면 내신성적이 나쁘면 학종은 물론 수능, 논술도 좋은 성적이 나오기기...</td>\n",
              "      <td>What I mean is that if you have poor grades in...</td>\n",
              "    </tr>\n",
              "  </tbody>\n",
              "</table>\n",
              "<p>640967 rows × 2 columns</p>\n",
              "</div>\n",
              "    <div class=\"colab-df-buttons\">\n",
              "\n",
              "  <div class=\"colab-df-container\">\n",
              "    <button class=\"colab-df-convert\" onclick=\"convertToInteractive('df-2f604f18-1f05-4abe-b0c1-c9843c0781a6')\"\n",
              "            title=\"Convert this dataframe to an interactive table.\"\n",
              "            style=\"display:none;\">\n",
              "\n",
              "  <svg xmlns=\"http://www.w3.org/2000/svg\" height=\"24px\" viewBox=\"0 -960 960 960\">\n",
              "    <path d=\"M120-120v-720h720v720H120Zm60-500h600v-160H180v160Zm220 220h160v-160H400v160Zm0 220h160v-160H400v160ZM180-400h160v-160H180v160Zm440 0h160v-160H620v160ZM180-180h160v-160H180v160Zm440 0h160v-160H620v160Z\"/>\n",
              "  </svg>\n",
              "    </button>\n",
              "\n",
              "  <style>\n",
              "    .colab-df-container {\n",
              "      display:flex;\n",
              "      gap: 12px;\n",
              "    }\n",
              "\n",
              "    .colab-df-convert {\n",
              "      background-color: #E8F0FE;\n",
              "      border: none;\n",
              "      border-radius: 50%;\n",
              "      cursor: pointer;\n",
              "      display: none;\n",
              "      fill: #1967D2;\n",
              "      height: 32px;\n",
              "      padding: 0 0 0 0;\n",
              "      width: 32px;\n",
              "    }\n",
              "\n",
              "    .colab-df-convert:hover {\n",
              "      background-color: #E2EBFA;\n",
              "      box-shadow: 0px 1px 2px rgba(60, 64, 67, 0.3), 0px 1px 3px 1px rgba(60, 64, 67, 0.15);\n",
              "      fill: #174EA6;\n",
              "    }\n",
              "\n",
              "    .colab-df-buttons div {\n",
              "      margin-bottom: 4px;\n",
              "    }\n",
              "\n",
              "    [theme=dark] .colab-df-convert {\n",
              "      background-color: #3B4455;\n",
              "      fill: #D2E3FC;\n",
              "    }\n",
              "\n",
              "    [theme=dark] .colab-df-convert:hover {\n",
              "      background-color: #434B5C;\n",
              "      box-shadow: 0px 1px 3px 1px rgba(0, 0, 0, 0.15);\n",
              "      filter: drop-shadow(0px 1px 2px rgba(0, 0, 0, 0.3));\n",
              "      fill: #FFFFFF;\n",
              "    }\n",
              "  </style>\n",
              "\n",
              "    <script>\n",
              "      const buttonEl =\n",
              "        document.querySelector('#df-2f604f18-1f05-4abe-b0c1-c9843c0781a6 button.colab-df-convert');\n",
              "      buttonEl.style.display =\n",
              "        google.colab.kernel.accessAllowed ? 'block' : 'none';\n",
              "\n",
              "      async function convertToInteractive(key) {\n",
              "        const element = document.querySelector('#df-2f604f18-1f05-4abe-b0c1-c9843c0781a6');\n",
              "        const dataTable =\n",
              "          await google.colab.kernel.invokeFunction('convertToInteractive',\n",
              "                                                    [key], {});\n",
              "        if (!dataTable) return;\n",
              "\n",
              "        const docLinkHtml = 'Like what you see? Visit the ' +\n",
              "          '<a target=\"_blank\" href=https://colab.research.google.com/notebooks/data_table.ipynb>data table notebook</a>'\n",
              "          + ' to learn more about interactive tables.';\n",
              "        element.innerHTML = '';\n",
              "        dataTable['output_type'] = 'display_data';\n",
              "        await google.colab.output.renderOutput(dataTable, element);\n",
              "        const docLink = document.createElement('div');\n",
              "        docLink.innerHTML = docLinkHtml;\n",
              "        element.appendChild(docLink);\n",
              "      }\n",
              "    </script>\n",
              "  </div>\n",
              "\n",
              "\n",
              "<div id=\"df-765a98e3-496b-478d-8836-94cef975745a\">\n",
              "  <button class=\"colab-df-quickchart\" onclick=\"quickchart('df-765a98e3-496b-478d-8836-94cef975745a')\"\n",
              "            title=\"Suggest charts\"\n",
              "            style=\"display:none;\">\n",
              "\n",
              "<svg xmlns=\"http://www.w3.org/2000/svg\" height=\"24px\"viewBox=\"0 0 24 24\"\n",
              "     width=\"24px\">\n",
              "    <g>\n",
              "        <path d=\"M19 3H5c-1.1 0-2 .9-2 2v14c0 1.1.9 2 2 2h14c1.1 0 2-.9 2-2V5c0-1.1-.9-2-2-2zM9 17H7v-7h2v7zm4 0h-2V7h2v10zm4 0h-2v-4h2v4z\"/>\n",
              "    </g>\n",
              "</svg>\n",
              "  </button>\n",
              "\n",
              "<style>\n",
              "  .colab-df-quickchart {\n",
              "      --bg-color: #E8F0FE;\n",
              "      --fill-color: #1967D2;\n",
              "      --hover-bg-color: #E2EBFA;\n",
              "      --hover-fill-color: #174EA6;\n",
              "      --disabled-fill-color: #AAA;\n",
              "      --disabled-bg-color: #DDD;\n",
              "  }\n",
              "\n",
              "  [theme=dark] .colab-df-quickchart {\n",
              "      --bg-color: #3B4455;\n",
              "      --fill-color: #D2E3FC;\n",
              "      --hover-bg-color: #434B5C;\n",
              "      --hover-fill-color: #FFFFFF;\n",
              "      --disabled-bg-color: #3B4455;\n",
              "      --disabled-fill-color: #666;\n",
              "  }\n",
              "\n",
              "  .colab-df-quickchart {\n",
              "    background-color: var(--bg-color);\n",
              "    border: none;\n",
              "    border-radius: 50%;\n",
              "    cursor: pointer;\n",
              "    display: none;\n",
              "    fill: var(--fill-color);\n",
              "    height: 32px;\n",
              "    padding: 0;\n",
              "    width: 32px;\n",
              "  }\n",
              "\n",
              "  .colab-df-quickchart:hover {\n",
              "    background-color: var(--hover-bg-color);\n",
              "    box-shadow: 0 1px 2px rgba(60, 64, 67, 0.3), 0 1px 3px 1px rgba(60, 64, 67, 0.15);\n",
              "    fill: var(--button-hover-fill-color);\n",
              "  }\n",
              "\n",
              "  .colab-df-quickchart-complete:disabled,\n",
              "  .colab-df-quickchart-complete:disabled:hover {\n",
              "    background-color: var(--disabled-bg-color);\n",
              "    fill: var(--disabled-fill-color);\n",
              "    box-shadow: none;\n",
              "  }\n",
              "\n",
              "  .colab-df-spinner {\n",
              "    border: 2px solid var(--fill-color);\n",
              "    border-color: transparent;\n",
              "    border-bottom-color: var(--fill-color);\n",
              "    animation:\n",
              "      spin 1s steps(1) infinite;\n",
              "  }\n",
              "\n",
              "  @keyframes spin {\n",
              "    0% {\n",
              "      border-color: transparent;\n",
              "      border-bottom-color: var(--fill-color);\n",
              "      border-left-color: var(--fill-color);\n",
              "    }\n",
              "    20% {\n",
              "      border-color: transparent;\n",
              "      border-left-color: var(--fill-color);\n",
              "      border-top-color: var(--fill-color);\n",
              "    }\n",
              "    30% {\n",
              "      border-color: transparent;\n",
              "      border-left-color: var(--fill-color);\n",
              "      border-top-color: var(--fill-color);\n",
              "      border-right-color: var(--fill-color);\n",
              "    }\n",
              "    40% {\n",
              "      border-color: transparent;\n",
              "      border-right-color: var(--fill-color);\n",
              "      border-top-color: var(--fill-color);\n",
              "    }\n",
              "    60% {\n",
              "      border-color: transparent;\n",
              "      border-right-color: var(--fill-color);\n",
              "    }\n",
              "    80% {\n",
              "      border-color: transparent;\n",
              "      border-right-color: var(--fill-color);\n",
              "      border-bottom-color: var(--fill-color);\n",
              "    }\n",
              "    90% {\n",
              "      border-color: transparent;\n",
              "      border-bottom-color: var(--fill-color);\n",
              "    }\n",
              "  }\n",
              "</style>\n",
              "\n",
              "  <script>\n",
              "    async function quickchart(key) {\n",
              "      const quickchartButtonEl =\n",
              "        document.querySelector('#' + key + ' button');\n",
              "      quickchartButtonEl.disabled = true;  // To prevent multiple clicks.\n",
              "      quickchartButtonEl.classList.add('colab-df-spinner');\n",
              "      try {\n",
              "        const charts = await google.colab.kernel.invokeFunction(\n",
              "            'suggestCharts', [key], {});\n",
              "      } catch (error) {\n",
              "        console.error('Error during call to suggestCharts:', error);\n",
              "      }\n",
              "      quickchartButtonEl.classList.remove('colab-df-spinner');\n",
              "      quickchartButtonEl.classList.add('colab-df-quickchart-complete');\n",
              "    }\n",
              "    (() => {\n",
              "      let quickchartButtonEl =\n",
              "        document.querySelector('#df-765a98e3-496b-478d-8836-94cef975745a button');\n",
              "      quickchartButtonEl.style.display =\n",
              "        google.colab.kernel.accessAllowed ? 'block' : 'none';\n",
              "    })();\n",
              "  </script>\n",
              "</div>\n",
              "\n",
              "  <div id=\"id_e7d362c1-54aa-4b68-8ca5-8cab8ce75305\">\n",
              "    <style>\n",
              "      .colab-df-generate {\n",
              "        background-color: #E8F0FE;\n",
              "        border: none;\n",
              "        border-radius: 50%;\n",
              "        cursor: pointer;\n",
              "        display: none;\n",
              "        fill: #1967D2;\n",
              "        height: 32px;\n",
              "        padding: 0 0 0 0;\n",
              "        width: 32px;\n",
              "      }\n",
              "\n",
              "      .colab-df-generate:hover {\n",
              "        background-color: #E2EBFA;\n",
              "        box-shadow: 0px 1px 2px rgba(60, 64, 67, 0.3), 0px 1px 3px 1px rgba(60, 64, 67, 0.15);\n",
              "        fill: #174EA6;\n",
              "      }\n",
              "\n",
              "      [theme=dark] .colab-df-generate {\n",
              "        background-color: #3B4455;\n",
              "        fill: #D2E3FC;\n",
              "      }\n",
              "\n",
              "      [theme=dark] .colab-df-generate:hover {\n",
              "        background-color: #434B5C;\n",
              "        box-shadow: 0px 1px 3px 1px rgba(0, 0, 0, 0.15);\n",
              "        filter: drop-shadow(0px 1px 2px rgba(0, 0, 0, 0.3));\n",
              "        fill: #FFFFFF;\n",
              "      }\n",
              "    </style>\n",
              "    <button class=\"colab-df-generate\" onclick=\"generateWithVariable('train_df')\"\n",
              "            title=\"Generate code using this dataframe.\"\n",
              "            style=\"display:none;\">\n",
              "\n",
              "  <svg xmlns=\"http://www.w3.org/2000/svg\" height=\"24px\"viewBox=\"0 0 24 24\"\n",
              "       width=\"24px\">\n",
              "    <path d=\"M7,19H8.4L18.45,9,17,7.55,7,17.6ZM5,21V16.75L18.45,3.32a2,2,0,0,1,2.83,0l1.4,1.43a1.91,1.91,0,0,1,.58,1.4,1.91,1.91,0,0,1-.58,1.4L9.25,21ZM18.45,9,17,7.55Zm-12,3A5.31,5.31,0,0,0,4.9,8.1,5.31,5.31,0,0,0,1,6.5,5.31,5.31,0,0,0,4.9,4.9,5.31,5.31,0,0,0,6.5,1,5.31,5.31,0,0,0,8.1,4.9,5.31,5.31,0,0,0,12,6.5,5.46,5.46,0,0,0,6.5,12Z\"/>\n",
              "  </svg>\n",
              "    </button>\n",
              "    <script>\n",
              "      (() => {\n",
              "      const buttonEl =\n",
              "        document.querySelector('#id_e7d362c1-54aa-4b68-8ca5-8cab8ce75305 button.colab-df-generate');\n",
              "      buttonEl.style.display =\n",
              "        google.colab.kernel.accessAllowed ? 'block' : 'none';\n",
              "\n",
              "      buttonEl.onclick = () => {\n",
              "        google.colab.notebook.generateWithVariable('train_df');\n",
              "      }\n",
              "      })();\n",
              "    </script>\n",
              "  </div>\n",
              "\n",
              "    </div>\n",
              "  </div>\n"
            ],
            "application/vnd.google.colaboratory.intrinsic+json": {
              "type": "dataframe",
              "variable_name": "train_df"
            }
          },
          "metadata": {},
          "execution_count": 56
        }
      ],
      "source": [
        "train_df = df.iloc[train_indices] # filter dataframe by sample indices\n",
        "test_df = df.iloc[test_indices]\n",
        "train_df"
      ]
    },
    {
      "cell_type": "markdown",
      "id": "ba4a138a",
      "metadata": {
        "id": "ba4a138a"
      },
      "source": [
        "## Define Dataset\n",
        "- Each datasample has to return source sentence and target sentence\n",
        "- You need a Tokenizer to get the tokenized result\n"
      ]
    },
    {
      "cell_type": "code",
      "execution_count": 57,
      "id": "b088f662",
      "metadata": {
        "colab": {
          "base_uri": "https://localhost:8080/"
        },
        "id": "b088f662",
        "outputId": "186fd475-b8c0-48f8-a3ce-4c67ad22ba34"
      },
      "outputs": [
        {
          "output_type": "stream",
          "name": "stdout",
          "text": [
            "640967\n"
          ]
        },
        {
          "output_type": "execute_result",
          "data": {
            "text/plain": [
              "(tensor([    2, 30329,  4416, 21091,  8488,    16,  3600, 12590,  4384, 27730,\n",
              "         17247, 13085, 11828,  6854,    18,     3]),\n",
              " tensor([    2,  1023,  3800,  1287,  1266,  1350,  1042, 13046,    16,    77,\n",
              "          3729,    69,  4585,  2180,  1068,  1039,  1023,  5928,    18,     3]))"
            ]
          },
          "metadata": {},
          "execution_count": 57
        }
      ],
      "source": [
        "import torch\n",
        "\n",
        "class Dataset:\n",
        "  def __init__(self, df, src_tokenizer, tgt_tokenizer):\n",
        "    self.data = df\n",
        "    self.src_tokenizer = src_tokenizer\n",
        "    self.tgt_tokenizer = tgt_tokenizer\n",
        "\n",
        "  def __len__(self):\n",
        "    return len(self.data)\n",
        "\n",
        "  def __getitem__(self, idx):\n",
        "    # get the idx-th sentence pair\n",
        "    pair = self.data.iloc[idx]\n",
        "    src_sentence = pair['원문']\n",
        "    tgt_sentence = pair['번역문']\n",
        "\n",
        "    src_token_ids = self.src_tokenizer(src_sentence)['input_ids']\n",
        "    tgt_token_idx = self.tgt_tokenizer(tgt_sentence)['input_ids']\n",
        "\n",
        "    # convert them to torch.LongTensor\n",
        "\n",
        "    return torch.LongTensor(src_token_ids), torch.LongTensor(tgt_token_idx)\n",
        "\n",
        "trainset = Dataset(train_df, tokenizer_src, tokenizer_tgt)\n",
        "testset = Dataset(test_df, tokenizer_src, tokenizer_tgt)\n",
        "print(len(trainset))\n",
        "trainset[0]"
      ]
    },
    {
      "cell_type": "markdown",
      "source": [
        "## Define Model for Batch Size 1"
      ],
      "metadata": {
        "id": "tIZREGV-2Y8B"
      },
      "id": "tIZREGV-2Y8B"
    },
    {
      "cell_type": "code",
      "source": [
        "train_loader = torch.utils.data.DataLoader(trainset, batch_size=1)\n",
        "batch = next(iter(train_loader))\n",
        "print(batch)\n",
        "\n",
        "src, tgt = batch"
      ],
      "metadata": {
        "colab": {
          "base_uri": "https://localhost:8080/"
        },
        "id": "4QICpUzO4WeN",
        "outputId": "21d8759b-f343-49cc-9157-6423a6be8336"
      },
      "id": "4QICpUzO4WeN",
      "execution_count": 19,
      "outputs": [
        {
          "output_type": "stream",
          "name": "stdout",
          "text": [
            "[tensor([[    2, 30329,  4416, 21091,  8488,    16,  3600, 12590,  4384, 27730,\n",
            "         17247, 13085, 11828,  6854,    18,     3]]), tensor([[    2,  1023,  3800,  1287,  1266,  1350,  1042, 13046,    16,    77,\n",
            "          3729,    69,  4585,  2180,  1068,  1039,  1023,  5928,    18,     3]])]\n"
          ]
        }
      ]
    },
    {
      "cell_type": "code",
      "source": [
        "tokenizer_src.vocab_size"
      ],
      "metadata": {
        "colab": {
          "base_uri": "https://localhost:8080/"
        },
        "id": "jQF0daJf3tUA",
        "outputId": "fb062453-1164-43c9-ef0b-6bc4cc1c2c5f"
      },
      "id": "jQF0daJf3tUA",
      "execution_count": 20,
      "outputs": [
        {
          "output_type": "execute_result",
          "data": {
            "text/plain": [
              "32000"
            ]
          },
          "metadata": {},
          "execution_count": 20
        }
      ]
    },
    {
      "cell_type": "code",
      "source": [
        "import torch.nn as nn\n",
        "from torch.nn.utils.rnn import PackedSequence\n",
        "\n",
        "class Translator(nn.Module):\n",
        "  def __init__(self, src_vocab_size, tgt_vocab_size, hidden_dim=32):\n",
        "    super().__init__()\n",
        "\n",
        "    # define the token ßembedding layer\n",
        "    self.src_embedding = nn.Embedding(src_vocab_size, hidden_dim)\n",
        "    self.encoder = nn.GRU(input_size=hidden_dim, hidden_size=hidden_dim, batch_first=True, num_layers=2)\n",
        "    # if batch_first=False (default)\n",
        "    # RNN considers input as T x N x C\n",
        "    # if bathc_first=True\n",
        "    # RNN considers input as N x T x C\n",
        "\n",
        "    self.tgt_embedding = nn.Embedding(tgt_vocab_size, hidden_dim)\n",
        "    self.decoder = nn.GRU(input_size=hidden_dim, hidden_size=hidden_dim, batch_first=True, num_layers=2)\n",
        "    self.proj = nn.Linear(in_features=hidden_dim, out_features=tgt_vocab_size)\n",
        "\n",
        "  def forward(self, src_sentence, tgt_sentence):\n",
        "    if isinstance(src_sentence, PackedSequence):\n",
        "      src_emb = self.src_embedding(src_sentence.data)\n",
        "      src_emb = PackedSequence(data=src_emb, batch_sizes=src_sentence.batch_sizes,\n",
        "                               sorted_indices=src_sentence.sorted_indices, unsorted_indices=src_sentence.unsorted_indices)\n",
        "      tgt_emb = self.tgt_embedding(tgt_sentence.data)\n",
        "      tgt_emb = PackedSequence(tgt_emb, tgt_sentence[1], tgt_sentence[2], tgt_sentence[3])\n",
        "    else:\n",
        "      src_emb = self.src_embedding(src_sentence)\n",
        "      tgt_emb = self.tgt_embedding(tgt_sentence)\n",
        "    encoder_out, enc_last_hidden = self.encoder(src_emb) # GRU returns two output: hidden_state_for_every_t, last_hidden\n",
        "\n",
        "\n",
        "    decoder_out, dec_last_hidden = self.decoder(tgt_emb, enc_last_hidden) # feed encoder's last hidden state as decoder's initial hidden state\n",
        "\n",
        "    # print(src_sentence.shape, src_emb.shape, encoder_out.shape, enc_last_hidden.shape)\n",
        "    # print(tgt_emb.shape, decoder_out.shape, dec_last_hidden.shape)\n",
        "    if isinstance(decoder_out, PackedSequence):\n",
        "      return self.proj(decoder_out.data)\n",
        "    else:\n",
        "      return self.proj(decoder_out) # return logit, instead of softmax\n",
        "\n",
        "model = Translator(tokenizer_src.vocab_size, tokenizer_tgt.vocab_size)\n",
        "out = model(src, tgt) # you have to provide target sentence to the model during the training\n"
      ],
      "metadata": {
        "id": "Ffe2reUy2a8C"
      },
      "id": "Ffe2reUy2a8C",
      "execution_count": 21,
      "outputs": []
    },
    {
      "cell_type": "code",
      "source": [
        "# model's output is logit\n",
        "batch_idx = 0\n",
        "t_idx = 0\n",
        "print(tgt[batch_idx])\n",
        "logit = out[batch_idx, t_idx] # 0th batch, 0th token\n",
        "prob = logit.softmax(dim=-1)\n",
        "\n",
        "# calculate negative log likelihood\n",
        "# which means, negative log probability of correct next word\n",
        "correct_next_token_id = tgt[batch_idx, t_idx + 1]\n",
        "loss = -torch.log(prob[correct_next_token_id])\n",
        "print(loss)\n",
        "\n",
        "# we can calculate loss with log_softmax\n",
        "loss = -logit.log_softmax(dim=-1)[correct_next_token_id] # numerically more stable\n",
        "loss"
      ],
      "metadata": {
        "colab": {
          "base_uri": "https://localhost:8080/"
        },
        "id": "FGAZBNMVECAx",
        "outputId": "536e0b99-5ca9-488e-ec4c-3130d7d006b7"
      },
      "id": "FGAZBNMVECAx",
      "execution_count": 22,
      "outputs": [
        {
          "output_type": "stream",
          "name": "stdout",
          "text": [
            "tensor([    2,  1023,  3800,  1287,  1266,  1350,  1042, 13046,    16,    77,\n",
            "         3729,    69,  4585,  2180,  1068,  1039,  1023,  5928,    18,     3])\n",
            "tensor(10.1646, grad_fn=<NegBackward0>)\n"
          ]
        },
        {
          "output_type": "execute_result",
          "data": {
            "text/plain": [
              "tensor(10.1646, grad_fn=<NegBackward0>)"
            ]
          },
          "metadata": {},
          "execution_count": 22
        }
      ]
    },
    {
      "cell_type": "code",
      "source": [
        "# we want to calculate this loss for every token in the sentence\n",
        "logit = out[batch_idx]\n",
        "for a, b in zip(logit, tgt[batch_idx,1:]):\n",
        "  print(a,b, a[b])"
      ],
      "metadata": {
        "colab": {
          "base_uri": "https://localhost:8080/"
        },
        "id": "B3P-1umxFNmV",
        "outputId": "6f6fba16-b89d-4a25-a759-bf32d6524dbe"
      },
      "id": "B3P-1umxFNmV",
      "execution_count": 23,
      "outputs": [
        {
          "output_type": "stream",
          "name": "stdout",
          "text": [
            "tensor([-0.1506, -0.0038,  0.0160,  ...,  0.1021,  0.2317, -0.0776],\n",
            "       grad_fn=<UnbindBackward0>) tensor(1023) tensor(0.2160, grad_fn=<SelectBackward0>)\n",
            "tensor([-0.1831,  0.0612,  0.0080,  ...,  0.1231,  0.2252, -0.0051],\n",
            "       grad_fn=<UnbindBackward0>) tensor(3800) tensor(-0.1560, grad_fn=<SelectBackward0>)\n",
            "tensor([-0.1731,  0.0712, -0.0104,  ...,  0.1733,  0.2217,  0.0287],\n",
            "       grad_fn=<UnbindBackward0>) tensor(1287) tensor(-0.0660, grad_fn=<SelectBackward0>)\n",
            "tensor([-0.1976,  0.1163, -0.0471,  ...,  0.2321,  0.1722, -0.0367],\n",
            "       grad_fn=<UnbindBackward0>) tensor(1266) tensor(0.0330, grad_fn=<SelectBackward0>)\n",
            "tensor([-0.1786,  0.0612, -0.0303,  ...,  0.2418,  0.2804, -0.0172],\n",
            "       grad_fn=<UnbindBackward0>) tensor(1350) tensor(0.1247, grad_fn=<SelectBackward0>)\n",
            "tensor([-0.1777,  0.0200, -0.0598,  ...,  0.1751,  0.2881, -0.0238],\n",
            "       grad_fn=<UnbindBackward0>) tensor(1042) tensor(0.0968, grad_fn=<SelectBackward0>)\n",
            "tensor([-0.1929,  0.0839, -0.1616,  ...,  0.1633,  0.2212,  0.0029],\n",
            "       grad_fn=<UnbindBackward0>) tensor(13046) tensor(0.1994, grad_fn=<SelectBackward0>)\n",
            "tensor([-0.1827,  0.0796, -0.1367,  ...,  0.1384,  0.2587,  0.0295],\n",
            "       grad_fn=<UnbindBackward0>) tensor(16) tensor(-0.0648, grad_fn=<SelectBackward0>)\n",
            "tensor([-0.1186,  0.0276, -0.0099,  ...,  0.1378,  0.2495,  0.0087],\n",
            "       grad_fn=<UnbindBackward0>) tensor(77) tensor(-0.1467, grad_fn=<SelectBackward0>)\n",
            "tensor([-0.0971, -0.0045, -0.0061,  ...,  0.1231,  0.2080,  0.0683],\n",
            "       grad_fn=<UnbindBackward0>) tensor(3729) tensor(-0.0414, grad_fn=<SelectBackward0>)\n",
            "tensor([-0.0814,  0.0286,  0.0291,  ...,  0.1455,  0.1751,  0.1270],\n",
            "       grad_fn=<UnbindBackward0>) tensor(69) tensor(-0.1909, grad_fn=<SelectBackward0>)\n",
            "tensor([-0.0378, -0.0085,  0.0785,  ...,  0.1678,  0.1225,  0.1804],\n",
            "       grad_fn=<UnbindBackward0>) tensor(4585) tensor(-0.2361, grad_fn=<SelectBackward0>)\n",
            "tensor([-0.0877,  0.0227,  0.0448,  ...,  0.1451,  0.1820,  0.1426],\n",
            "       grad_fn=<UnbindBackward0>) tensor(2180) tensor(0.0086, grad_fn=<SelectBackward0>)\n",
            "tensor([-0.1195,  0.0270, -0.0237,  ...,  0.1106,  0.2132,  0.1336],\n",
            "       grad_fn=<UnbindBackward0>) tensor(1068) tensor(0.0580, grad_fn=<SelectBackward0>)\n",
            "tensor([-0.2218,  0.0160, -0.1420,  ...,  0.1071,  0.2636,  0.0166],\n",
            "       grad_fn=<UnbindBackward0>) tensor(1039) tensor(-0.0029, grad_fn=<SelectBackward0>)\n",
            "tensor([-0.2907,  0.0163, -0.1780,  ...,  0.0918,  0.2990, -0.0848],\n",
            "       grad_fn=<UnbindBackward0>) tensor(1023) tensor(0.0911, grad_fn=<SelectBackward0>)\n",
            "tensor([-0.2670,  0.0148, -0.0626,  ...,  0.1398,  0.3022, -0.0013],\n",
            "       grad_fn=<UnbindBackward0>) tensor(5928) tensor(0.1133, grad_fn=<SelectBackward0>)\n",
            "tensor([-0.2102,  0.0206,  0.0094,  ...,  0.1566,  0.2627,  0.0284],\n",
            "       grad_fn=<UnbindBackward0>) tensor(18) tensor(0.0923, grad_fn=<SelectBackward0>)\n",
            "tensor([-0.1821,  0.0175,  0.0451,  ...,  0.1817,  0.2568,  0.0540],\n",
            "       grad_fn=<UnbindBackward0>) tensor(3) tensor(-0.0398, grad_fn=<SelectBackward0>)\n"
          ]
        }
      ]
    },
    {
      "cell_type": "code",
      "source": [
        "correct_ids = tgt[0, 1:]\n",
        "logit[ torch.arange(len(correct_ids)), correct_ids]"
      ],
      "metadata": {
        "colab": {
          "base_uri": "https://localhost:8080/"
        },
        "id": "bE0NHAKjGovh",
        "outputId": "239341d0-045e-4cb9-f113-88b8bce49a78"
      },
      "id": "bE0NHAKjGovh",
      "execution_count": 24,
      "outputs": [
        {
          "output_type": "execute_result",
          "data": {
            "text/plain": [
              "tensor([ 0.2160, -0.1560, -0.0660,  0.0330,  0.1247,  0.0968,  0.1994, -0.0648,\n",
              "        -0.1467, -0.0414, -0.1909, -0.2361,  0.0086,  0.0580, -0.0029,  0.0911,\n",
              "         0.1133,  0.0923, -0.0398], grad_fn=<IndexBackward0>)"
            ]
          },
          "metadata": {},
          "execution_count": 24
        }
      ]
    },
    {
      "cell_type": "code",
      "source": [
        "def get_nll(pred, target):\n",
        "  if pred.ndim == 3:\n",
        "    pred = torch.flatten(pred, 0, 1) # N x T x C -> (N x T ) x C\n",
        "  target = target.flatten()\n",
        "  log_prob = pred.log_softmax(dim=-1)\n",
        "  loss = -log_prob[torch.arange(len(target)), target]\n",
        "  return loss.mean()\n",
        "\n",
        "get_nll(logit, correct_ids)\n"
      ],
      "metadata": {
        "colab": {
          "base_uri": "https://localhost:8080/"
        },
        "id": "VZGIavIEF1MT",
        "outputId": "8642e464-37bd-4c70-ae18-6c6ffab606d8"
      },
      "id": "VZGIavIEF1MT",
      "execution_count": 25,
      "outputs": [
        {
          "output_type": "execute_result",
          "data": {
            "text/plain": [
              "tensor(10.3779, grad_fn=<MeanBackward0>)"
            ]
          },
          "metadata": {},
          "execution_count": 25
        }
      ]
    },
    {
      "cell_type": "code",
      "source": [
        "from tqdm.auto import tqdm\n",
        "\n",
        "model = Translator(tokenizer_src.vocab_size, tokenizer_tgt.vocab_size)\n",
        "optimizer = torch.optim.Adam(model.parameters(), lr=1e-3)\n",
        "\n",
        "DEV = 'cuda'\n",
        "model.to(DEV)\n",
        "\n",
        "loss_record = []\n",
        "for batch in tqdm(train_loader):\n",
        "  src, tgt = batch\n",
        "  logit = model(src.to(DEV), tgt.to(DEV))\n",
        "\n",
        "  next_toks = tgt[:, 1:]\n",
        "  loss = get_nll(logit, next_toks)\n",
        "\n",
        "  loss.backward()\n",
        "  optimizer.step()\n",
        "  optimizer.zero_grad()\n",
        "\n",
        "  loss_record.append(loss.item())\n",
        "  # break\n",
        "# loss_record"
      ],
      "metadata": {
        "colab": {
          "base_uri": "https://localhost:8080/",
          "height": 395,
          "referenced_widgets": [
            "4f87ead7c95a4c448c6bbddd3d4b57f8",
            "a448e4343b9947cca6d201589e533219",
            "5734b35a84b14229bffa035f3bcae21c",
            "dd1dd20a02a44e64a03d962098a78768",
            "92874f7b7b2a49a09ffd3e17172819aa",
            "562b9600d99e409ebf1d59c87864cd62",
            "117e554658a84176b2838ba2722c961d",
            "44ea97c1501543d6b107031cd9279e94",
            "1db603a7b22248e5a33bf3e72ad594a8",
            "2ff76a839ba64471bcd0c9320baf0c10",
            "f57cb2218d3748d1809286f5fa78fccc"
          ]
        },
        "id": "Oets7SY9H1NB",
        "outputId": "249bc98e-1877-4a07-bf40-895ba7fc2ab9"
      },
      "id": "Oets7SY9H1NB",
      "execution_count": 26,
      "outputs": [
        {
          "output_type": "display_data",
          "data": {
            "text/plain": [
              "  0%|          | 0/12819 [00:00<?, ?it/s]"
            ],
            "application/vnd.jupyter.widget-view+json": {
              "version_major": 2,
              "version_minor": 0,
              "model_id": "4f87ead7c95a4c448c6bbddd3d4b57f8"
            }
          },
          "metadata": {}
        },
        {
          "output_type": "error",
          "ename": "KeyboardInterrupt",
          "evalue": "",
          "traceback": [
            "\u001b[0;31m---------------------------------------------------------------------------\u001b[0m",
            "\u001b[0;31mKeyboardInterrupt\u001b[0m                         Traceback (most recent call last)",
            "\u001b[0;32m<ipython-input-26-b9798a62f916>\u001b[0m in \u001b[0;36m<cell line: 10>\u001b[0;34m()\u001b[0m\n\u001b[1;32m     15\u001b[0m   \u001b[0mloss\u001b[0m \u001b[0;34m=\u001b[0m \u001b[0mget_nll\u001b[0m\u001b[0;34m(\u001b[0m\u001b[0mlogit\u001b[0m\u001b[0;34m,\u001b[0m \u001b[0mnext_toks\u001b[0m\u001b[0;34m)\u001b[0m\u001b[0;34m\u001b[0m\u001b[0;34m\u001b[0m\u001b[0m\n\u001b[1;32m     16\u001b[0m \u001b[0;34m\u001b[0m\u001b[0m\n\u001b[0;32m---> 17\u001b[0;31m   \u001b[0mloss\u001b[0m\u001b[0;34m.\u001b[0m\u001b[0mbackward\u001b[0m\u001b[0;34m(\u001b[0m\u001b[0;34m)\u001b[0m\u001b[0;34m\u001b[0m\u001b[0;34m\u001b[0m\u001b[0m\n\u001b[0m\u001b[1;32m     18\u001b[0m   \u001b[0moptimizer\u001b[0m\u001b[0;34m.\u001b[0m\u001b[0mstep\u001b[0m\u001b[0;34m(\u001b[0m\u001b[0;34m)\u001b[0m\u001b[0;34m\u001b[0m\u001b[0;34m\u001b[0m\u001b[0m\n\u001b[1;32m     19\u001b[0m   \u001b[0moptimizer\u001b[0m\u001b[0;34m.\u001b[0m\u001b[0mzero_grad\u001b[0m\u001b[0;34m(\u001b[0m\u001b[0;34m)\u001b[0m\u001b[0;34m\u001b[0m\u001b[0;34m\u001b[0m\u001b[0m\n",
            "\u001b[0;32m/usr/local/lib/python3.10/dist-packages/torch/_tensor.py\u001b[0m in \u001b[0;36mbackward\u001b[0;34m(self, gradient, retain_graph, create_graph, inputs)\u001b[0m\n\u001b[1;32m    523\u001b[0m                 \u001b[0minputs\u001b[0m\u001b[0;34m=\u001b[0m\u001b[0minputs\u001b[0m\u001b[0;34m,\u001b[0m\u001b[0;34m\u001b[0m\u001b[0;34m\u001b[0m\u001b[0m\n\u001b[1;32m    524\u001b[0m             )\n\u001b[0;32m--> 525\u001b[0;31m         torch.autograd.backward(\n\u001b[0m\u001b[1;32m    526\u001b[0m             \u001b[0mself\u001b[0m\u001b[0;34m,\u001b[0m \u001b[0mgradient\u001b[0m\u001b[0;34m,\u001b[0m \u001b[0mretain_graph\u001b[0m\u001b[0;34m,\u001b[0m \u001b[0mcreate_graph\u001b[0m\u001b[0;34m,\u001b[0m \u001b[0minputs\u001b[0m\u001b[0;34m=\u001b[0m\u001b[0minputs\u001b[0m\u001b[0;34m\u001b[0m\u001b[0;34m\u001b[0m\u001b[0m\n\u001b[1;32m    527\u001b[0m         )\n",
            "\u001b[0;32m/usr/local/lib/python3.10/dist-packages/torch/autograd/__init__.py\u001b[0m in \u001b[0;36mbackward\u001b[0;34m(tensors, grad_tensors, retain_graph, create_graph, grad_variables, inputs)\u001b[0m\n\u001b[1;32m    265\u001b[0m     \u001b[0;31m# some Python versions print out the first line of a multi-line function\u001b[0m\u001b[0;34m\u001b[0m\u001b[0;34m\u001b[0m\u001b[0m\n\u001b[1;32m    266\u001b[0m     \u001b[0;31m# calls in the traceback and some print out the last line\u001b[0m\u001b[0;34m\u001b[0m\u001b[0;34m\u001b[0m\u001b[0m\n\u001b[0;32m--> 267\u001b[0;31m     _engine_run_backward(\n\u001b[0m\u001b[1;32m    268\u001b[0m         \u001b[0mtensors\u001b[0m\u001b[0;34m,\u001b[0m\u001b[0;34m\u001b[0m\u001b[0;34m\u001b[0m\u001b[0m\n\u001b[1;32m    269\u001b[0m         \u001b[0mgrad_tensors_\u001b[0m\u001b[0;34m,\u001b[0m\u001b[0;34m\u001b[0m\u001b[0;34m\u001b[0m\u001b[0m\n",
            "\u001b[0;32m/usr/local/lib/python3.10/dist-packages/torch/autograd/graph.py\u001b[0m in \u001b[0;36m_engine_run_backward\u001b[0;34m(t_outputs, *args, **kwargs)\u001b[0m\n\u001b[1;32m    742\u001b[0m         \u001b[0munregister_hooks\u001b[0m \u001b[0;34m=\u001b[0m \u001b[0m_register_logging_hooks_on_whole_graph\u001b[0m\u001b[0;34m(\u001b[0m\u001b[0mt_outputs\u001b[0m\u001b[0;34m)\u001b[0m\u001b[0;34m\u001b[0m\u001b[0;34m\u001b[0m\u001b[0m\n\u001b[1;32m    743\u001b[0m     \u001b[0;32mtry\u001b[0m\u001b[0;34m:\u001b[0m\u001b[0;34m\u001b[0m\u001b[0;34m\u001b[0m\u001b[0m\n\u001b[0;32m--> 744\u001b[0;31m         return Variable._execution_engine.run_backward(  # Calls into the C++ engine to run the backward pass\n\u001b[0m\u001b[1;32m    745\u001b[0m             \u001b[0mt_outputs\u001b[0m\u001b[0;34m,\u001b[0m \u001b[0;34m*\u001b[0m\u001b[0margs\u001b[0m\u001b[0;34m,\u001b[0m \u001b[0;34m**\u001b[0m\u001b[0mkwargs\u001b[0m\u001b[0;34m\u001b[0m\u001b[0;34m\u001b[0m\u001b[0m\n\u001b[1;32m    746\u001b[0m         )  # Calls into the C++ engine to run the backward pass\n",
            "\u001b[0;31mKeyboardInterrupt\u001b[0m: "
          ]
        }
      ]
    },
    {
      "cell_type": "code",
      "source": [
        "import matplotlib.pyplot as plt\n",
        "plt.plot(loss_record)"
      ],
      "metadata": {
        "colab": {
          "base_uri": "https://localhost:8080/",
          "height": 448
        },
        "id": "Ze6kdw9sI2dQ",
        "outputId": "ac077523-15ed-425e-c65b-69840cdf9a0b"
      },
      "id": "Ze6kdw9sI2dQ",
      "execution_count": 27,
      "outputs": [
        {
          "output_type": "execute_result",
          "data": {
            "text/plain": [
              "[<matplotlib.lines.Line2D at 0x7a7b38929c30>]"
            ]
          },
          "metadata": {},
          "execution_count": 27
        },
        {
          "output_type": "display_data",
          "data": {
            "text/plain": [
              "<Figure size 640x480 with 1 Axes>"
            ],
            "image/png": "[encoded data removed]"
          },
          "metadata": {}
        }
      ]
    },
    {
      "cell_type": "markdown",
      "source": [],
      "metadata": {
        "id": "Jw1p02eFHTk4"
      },
      "id": "Jw1p02eFHTk4"
    },
    {
      "cell_type": "code",
      "source": [
        "'''\n",
        "\n",
        "for time_step in src_sentence:\n",
        "  rnn(time_step)\n",
        "\n",
        "'''"
      ],
      "metadata": {
        "id": "O223F8km7det"
      },
      "id": "O223F8km7det",
      "execution_count": null,
      "outputs": []
    },
    {
      "cell_type": "markdown",
      "id": "f4a9f0ec",
      "metadata": {
        "id": "f4a9f0ec"
      },
      "source": [
        "## Define Collate function\n",
        "- After implementing Dataset, we have to declare DataLoader that groups several training samples as a single batch\n",
        "- However, we cannot batchify the melodies in straightforward way, because the length of each melody is different\n",
        "- In this problem, you will learn about how to handle sequences of different length as a batch\n"
      ]
    },
    {
      "cell_type": "code",
      "execution_count": 28,
      "id": "afc533f7",
      "metadata": {
        "colab": {
          "base_uri": "https://localhost:8080/"
        },
        "id": "afc533f7",
        "outputId": "635c02d0-05a4-4221-dfbe-65185c47baaa"
      },
      "outputs": [
        {
          "output_type": "execute_result",
          "data": {
            "text/plain": [
              "([tensor([    2, 30329,  4416, 21091,  8488,    16,  3600, 12590,  4384, 27730,\n",
              "          17247, 13085, 11828,  6854,    18,     3]),\n",
              "  tensor([    2,  6674, 27025,  4387, 25610,  6487, 10866,  2625,  6505,  2215,\n",
              "           4426,  4710,  7096,  6521, 14801, 21598,  3555,  8972,  2284, 10536,\n",
              "           9822,  7819,  4346,  6411,  6425,    18,     3]),\n",
              "  tensor([    2,  9978,  7122,  9794,  8321, 21739,  3252,  6646,  9670, 11571,\n",
              "             18,     3]),\n",
              "  tensor([    2,  2622, 10820, 17035,  4381, 13788,   145, 10696,    17,  4009,\n",
              "           4339,    71,  4550,  4666,   146,  2517, 22704,  4456, 11551,  8569,\n",
              "           2394,  4529,  6606,  7391,  7365, 11930,  4470, 17188,  4416, 26888,\n",
              "             18,     3]),\n",
              "  tensor([    2, 12066,  6589,    71,  4495,  6412,    27,  4719,  7162, 19311,\n",
              "          28967,  2284,  7337,  8925,  4058,  4363,    25,  9071, 11067,  7841,\n",
              "           8395, 18856,  4330, 19433, 10082,  8213,  4379,  6546, 10319, 27227,\n",
              "           5102, 16104,  4146,  7549,  4469,  7148,    18,     3]),\n",
              "  tensor([    2,  9974,  3257,  9332,  3602,  6658, 12952, 14219,  6763, 10141,\n",
              "           4330,  3303, 12279,    16,  6701,  6471,  2651, 25198,  6947, 16976,\n",
              "          11725,  6438, 14044,  7149,    18,     3]),\n",
              "  tensor([    2,  7099,  4313,  8238, 10041,  7099,  6867,    18,     3]),\n",
              "  tensor([    2,  3314, 16059,  6550, 10707, 21998,  6962, 10831,  3314,  7627,\n",
              "           3967, 20031,  4387, 11139,  9232, 13979, 29914, 24922,  3252,  6646,\n",
              "           8191,  8590,    18,     3])],\n",
              " [tensor([    2,  1023,  3800,  1287,  1266,  1350,  1042, 13046,    16,    77,\n",
              "           3729,    69,  4585,  2180,  1068,  1039,  1023,  5928,    18,     3]),\n",
              "  tensor([    2,  1322,  1495,  1142,  1333,  2977,  1172, 12845,  1042,  1677,\n",
              "             69,  3383,  3157,  7854,  1099,  1730,  1431,    16,  1023,  1315,\n",
              "           1034,  1023,  1378,  1245,  7060,  1099,  1023,  1637,  4253,  1386,\n",
              "           1730,  1034,  1023,  2039,   785,    16,  1045,  1431,  3239,  1245,\n",
              "           1065,  1039,  1023,  1637,  1034,  5372,    30,     3]),\n",
              "  tensor([    2,    77,  4087,  1023,  3323,  1067,  1331,  1741,  2063,  1629,\n",
              "           1341, 11557,   784,  1106,  6589,    18,     3]),\n",
              "  tensor([    2,  1023,     6, 10586,  5447,    17, 27616, 15516,   779,    16,\n",
              "              6,  2973,  1113,  1023,  1644,  1495,  1557,    16,  1165,  6882,\n",
              "           4502,  2083,  1319,  1039,  1334,  6679,  1045,  7405,    16, 14427,\n",
              "           1042, 23969,    16,  1687,  5298,  1039,  1887,  1411,  1185,    18,\n",
              "              3]),\n",
              "  tensor([    2,  1089,  1106,  1496,  1023,  1680, 14148,  5258,   787,  3128,\n",
              "           1396,  1680,  1091,  1116,  1039,  6361,  1067,  1023,  1647,  1067,\n",
              "           1414,  2420,  3861,  1693,  7548,  1644,    69,  1647,  1067,  3704,\n",
              "           2406,    27,  1107,    71,   785,  1045,    69,  1647,  1067,  3818,\n",
              "           5017,  1042,  1023,  1904,  4070,  1067,  5473,  1824,  1067,    18,\n",
              "              3]),\n",
              "  tensor([    2,  1112,  5207,  3522,  1113,    69,  3830,  1824,  1528,  3244,\n",
              "           1106,  4911,  1039,  1549,  2543,    16,  1045,  1089,  2865,    69,\n",
              "           2684,  6632,  1090,  7048,  2198,  2543,  9881,    16,  1467,  1023,\n",
              "             89,    18,    87,    18,    16, 11268,  1099,  1089,    18,     3]),\n",
              "  tensor([    2,    77,  4934,  1023,  1452,  2397,  1023, 10249,  2557,    18,\n",
              "              3]),\n",
              "  tensor([    2,  1090,  1023,  2103,  1034,  3766,  1165,  7068, 20783,   818,\n",
              "           9158,    16,  1687,    16,  1258,  1109,  1616,  4103,  1067,  9726,\n",
              "           6868,  1433,  5317,  1042,  1785,  1431, 10779,  4271,  1034,  3766,\n",
              "             18,     3])])"
            ]
          },
          "metadata": {},
          "execution_count": 28
        }
      ],
      "source": [
        "'''\n",
        "To handle that problem, you have to make your collate function\n",
        "'''\n",
        "def your_collate_function(raw_batch):\n",
        "  '''\n",
        "  You can make your own function to handle the batch\n",
        "  '''\n",
        "  src = [x[0] for x in raw_batch]\n",
        "  tgt = [x[1] for x in raw_batch]\n",
        "\n",
        "  return src, tgt # This returns the first sample of each batch. So it will avoid the error, but it doesn't do proper batchifying\n",
        "\n",
        "batch_size = 8\n",
        "raw_batch = [trainset[i] for i in range(batch_size)] # This is the input for the collate function\n",
        "batch = your_collate_function(raw_batch)\n",
        "\n",
        "'''\n",
        "This is what the 'collate_fn' does in DataLoader\n",
        "'''\n",
        "\n",
        "train_loader = torch.utils.data.DataLoader(trainset, batch_size=batch_size, collate_fn=your_collate_function)\n",
        "batch_by_loader = next(iter(train_loader))\n",
        "batch_by_loader"
      ]
    },
    {
      "cell_type": "code",
      "source": [
        "raw_batch = [trainset[i] for i in range(5)] # this is how the collate_fn of DataLoadeer gets input\n",
        "src = [sample[0] for sample in raw_batch]\n",
        "tgt = [sample[1] for sample in raw_batch]\n",
        "\n",
        "src"
      ],
      "metadata": {
        "colab": {
          "base_uri": "https://localhost:8080/"
        },
        "id": "472U6cfSObPz",
        "outputId": "8b9cb03b-7c92-4d62-bdd1-0c5149d57d20"
      },
      "id": "472U6cfSObPz",
      "execution_count": 29,
      "outputs": [
        {
          "output_type": "execute_result",
          "data": {
            "text/plain": [
              "[tensor([    2, 30329,  4416, 21091,  8488,    16,  3600, 12590,  4384, 27730,\n",
              "         17247, 13085, 11828,  6854,    18,     3]),\n",
              " tensor([    2,  6674, 27025,  4387, 25610,  6487, 10866,  2625,  6505,  2215,\n",
              "          4426,  4710,  7096,  6521, 14801, 21598,  3555,  8972,  2284, 10536,\n",
              "          9822,  7819,  4346,  6411,  6425,    18,     3]),\n",
              " tensor([    2,  9978,  7122,  9794,  8321, 21739,  3252,  6646,  9670, 11571,\n",
              "            18,     3]),\n",
              " tensor([    2,  2622, 10820, 17035,  4381, 13788,   145, 10696,    17,  4009,\n",
              "          4339,    71,  4550,  4666,   146,  2517, 22704,  4456, 11551,  8569,\n",
              "          2394,  4529,  6606,  7391,  7365, 11930,  4470, 17188,  4416, 26888,\n",
              "            18,     3]),\n",
              " tensor([    2, 12066,  6589,    71,  4495,  6412,    27,  4719,  7162, 19311,\n",
              "         28967,  2284,  7337,  8925,  4058,  4363,    25,  9071, 11067,  7841,\n",
              "          8395, 18856,  4330, 19433, 10082,  8213,  4379,  6546, 10319, 27227,\n",
              "          5102, 16104,  4146,  7549,  4469,  7148,    18,     3])]"
            ]
          },
          "metadata": {},
          "execution_count": 29
        }
      ]
    },
    {
      "cell_type": "code",
      "source": [
        "# pack this list of tensor\n",
        "from torch.nn.utils.rnn import pack_sequence\n",
        "\n",
        "pack_sequence(src, enforce_sorted=False)"
      ],
      "metadata": {
        "colab": {
          "base_uri": "https://localhost:8080/"
        },
        "id": "aPo8OHlaOcW2",
        "outputId": "f94a2c2f-8e86-4cd8-e174-617d96f54257"
      },
      "id": "aPo8OHlaOcW2",
      "execution_count": 30,
      "outputs": [
        {
          "output_type": "execute_result",
          "data": {
            "text/plain": [
              "PackedSequence(data=tensor([    2,     2,     2,     2,     2, 12066,  2622,  6674, 30329,  9978,\n",
              "         6589, 10820, 27025,  4416,  7122,    71, 17035,  4387, 21091,  9794,\n",
              "         4495,  4381, 25610,  8488,  8321,  6412, 13788,  6487,    16, 21739,\n",
              "           27,   145, 10866,  3600,  3252,  4719, 10696,  2625, 12590,  6646,\n",
              "         7162,    17,  6505,  4384,  9670, 19311,  4009,  2215, 27730, 11571,\n",
              "        28967,  4339,  4426, 17247,    18,  2284,    71,  4710, 13085,     3,\n",
              "         7337,  4550,  7096, 11828,  8925,  4666,  6521,  6854,  4058,   146,\n",
              "        14801,    18,  4363,  2517, 21598,     3,    25, 22704,  3555,  9071,\n",
              "         4456,  8972, 11067, 11551,  2284,  7841,  8569, 10536,  8395,  2394,\n",
              "         9822, 18856,  4529,  7819,  4330,  6606,  4346, 19433,  7391,  6411,\n",
              "        10082,  7365,  6425,  8213, 11930,    18,  4379,  4470,     3,  6546,\n",
              "        17188, 10319,  4416, 27227, 26888,  5102,    18, 16104,     3,  4146,\n",
              "         7549,  4469,  7148,    18,     3]), batch_sizes=tensor([5, 5, 5, 5, 5, 5, 5, 5, 5, 5, 5, 5, 4, 4, 4, 4, 3, 3, 3, 3, 3, 3, 3, 3,\n",
              "        3, 3, 3, 2, 2, 2, 2, 2, 1, 1, 1, 1, 1, 1]), sorted_indices=tensor([4, 3, 1, 0, 2]), unsorted_indices=tensor([3, 2, 4, 1, 0]))"
            ]
          },
          "metadata": {},
          "execution_count": 30
        }
      ]
    },
    {
      "cell_type": "code",
      "source": [
        "def pack_collate(raw_batch):\n",
        "  src = [sample[0] for sample in raw_batch]\n",
        "  tgt = [sample[1] for sample in raw_batch]\n",
        "\n",
        "  i_tgt = [x[:-1] for x in tgt]\n",
        "  o_tgt = [x[1:] for x in tgt]\n",
        "\n",
        "  return pack_sequence(src, enforce_sorted=False), pack_sequence(i_tgt, enforce_sorted=False), pack_sequence(o_tgt, enforce_sorted=False)\n",
        "\n",
        "\n",
        "pack_collate(raw_batch)\n"
      ],
      "metadata": {
        "colab": {
          "base_uri": "https://localhost:8080/"
        },
        "id": "899mpSs1Ppee",
        "outputId": "bcb74937-9544-47dd-9185-0d99c092b6fc"
      },
      "id": "899mpSs1Ppee",
      "execution_count": 31,
      "outputs": [
        {
          "output_type": "execute_result",
          "data": {
            "text/plain": [
              "(PackedSequence(data=tensor([    2,     2,     2,     2,     2, 12066,  2622,  6674, 30329,  9978,\n",
              "          6589, 10820, 27025,  4416,  7122,    71, 17035,  4387, 21091,  9794,\n",
              "          4495,  4381, 25610,  8488,  8321,  6412, 13788,  6487,    16, 21739,\n",
              "            27,   145, 10866,  3600,  3252,  4719, 10696,  2625, 12590,  6646,\n",
              "          7162,    17,  6505,  4384,  9670, 19311,  4009,  2215, 27730, 11571,\n",
              "         28967,  4339,  4426, 17247,    18,  2284,    71,  4710, 13085,     3,\n",
              "          7337,  4550,  7096, 11828,  8925,  4666,  6521,  6854,  4058,   146,\n",
              "         14801,    18,  4363,  2517, 21598,     3,    25, 22704,  3555,  9071,\n",
              "          4456,  8972, 11067, 11551,  2284,  7841,  8569, 10536,  8395,  2394,\n",
              "          9822, 18856,  4529,  7819,  4330,  6606,  4346, 19433,  7391,  6411,\n",
              "         10082,  7365,  6425,  8213, 11930,    18,  4379,  4470,     3,  6546,\n",
              "         17188, 10319,  4416, 27227, 26888,  5102,    18, 16104,     3,  4146,\n",
              "          7549,  4469,  7148,    18,     3]), batch_sizes=tensor([5, 5, 5, 5, 5, 5, 5, 5, 5, 5, 5, 5, 4, 4, 4, 4, 3, 3, 3, 3, 3, 3, 3, 3,\n",
              "         3, 3, 3, 2, 2, 2, 2, 2, 1, 1, 1, 1, 1, 1]), sorted_indices=tensor([4, 3, 1, 0, 2]), unsorted_indices=tensor([3, 2, 4, 1, 0])),\n",
              " PackedSequence(data=tensor([    2,     2,     2,     2,     2,  1089,  1322,  1023,  1023,    77,\n",
              "          1106,  1495,     6,  3800,  4087,  1496,  1142, 10586,  1287,  1023,\n",
              "          1023,  1333,  5447,  1266,  3323,  1680,  2977,    17,  1350,  1067,\n",
              "         14148,  1172, 27616,  1042,  1331,  5258, 12845, 15516, 13046,  1741,\n",
              "           787,  1042,   779,    16,  2063,  3128,  1677,    16,    77,  1629,\n",
              "          1396,    69,     6,  3729,  1341,  1680,  3383,  2973,    69, 11557,\n",
              "          1091,  3157,  1113,  4585,   784,  1116,  7854,  1023,  2180,  1106,\n",
              "          1039,  1099,  1644,  1068,  6589,  6361,  1730,  1495,  1039,    18,\n",
              "          1067,  1431,  1557,  1023,  1023,    16,    16,  5928,  1647,  1023,\n",
              "          1165,    18,  1067,  1315,  6882,  1414,  1034,  4502,  2420,  1023,\n",
              "          2083,  3861,  1378,  1319,  1693,  1245,  1039,  7548,  7060,  1334,\n",
              "          1644,  1099,  6679,    69,  1023,  1045,  1647,  1637,  7405,  1067,\n",
              "          4253,    16,  3704,  1386, 14427,  2406,  1730,  1042,    27,  1034,\n",
              "         23969,  1107,  1023,    16,    71,  2039,  1687,   785,   785,  5298,\n",
              "          1045,    16,  1039,    69,  1045,  1887,  1647,  1431,  1411,  1067,\n",
              "          3239,  1185,  3818,  1245,    18,  5017,  1065,  1042,  1039,  1023,\n",
              "          1023,  1904,  1637,  4070,  1034,  1067,  5372,  5473,    30,  1824,\n",
              "          1067,    18]), batch_sizes=tensor([5, 5, 5, 5, 5, 5, 5, 5, 5, 5, 5, 5, 5, 5, 5, 5, 4, 4, 4, 3, 3, 3, 3, 3,\n",
              "         3, 3, 3, 3, 3, 3, 3, 3, 3, 3, 3, 3, 3, 3, 3, 3, 2, 2, 2, 2, 2, 2, 2, 1,\n",
              "         1, 1]), sorted_indices=tensor([4, 1, 3, 0, 2]), unsorted_indices=tensor([3, 1, 4, 2, 0])),\n",
              " PackedSequence(data=tensor([ 1089,  1322,  1023,  1023,    77,  1106,  1495,     6,  3800,  4087,\n",
              "          1496,  1142, 10586,  1287,  1023,  1023,  1333,  5447,  1266,  3323,\n",
              "          1680,  2977,    17,  1350,  1067, 14148,  1172, 27616,  1042,  1331,\n",
              "          5258, 12845, 15516, 13046,  1741,   787,  1042,   779,    16,  2063,\n",
              "          3128,  1677,    16,    77,  1629,  1396,    69,     6,  3729,  1341,\n",
              "          1680,  3383,  2973,    69, 11557,  1091,  3157,  1113,  4585,   784,\n",
              "          1116,  7854,  1023,  2180,  1106,  1039,  1099,  1644,  1068,  6589,\n",
              "          6361,  1730,  1495,  1039,    18,  1067,  1431,  1557,  1023,     3,\n",
              "          1023,    16,    16,  5928,  1647,  1023,  1165,    18,  1067,  1315,\n",
              "          6882,     3,  1414,  1034,  4502,  2420,  1023,  2083,  3861,  1378,\n",
              "          1319,  1693,  1245,  1039,  7548,  7060,  1334,  1644,  1099,  6679,\n",
              "            69,  1023,  1045,  1647,  1637,  7405,  1067,  4253,    16,  3704,\n",
              "          1386, 14427,  2406,  1730,  1042,    27,  1034, 23969,  1107,  1023,\n",
              "            16,    71,  2039,  1687,   785,   785,  5298,  1045,    16,  1039,\n",
              "            69,  1045,  1887,  1647,  1431,  1411,  1067,  3239,  1185,  3818,\n",
              "          1245,    18,  5017,  1065,     3,  1042,  1039,  1023,  1023,  1904,\n",
              "          1637,  4070,  1034,  1067,  5372,  5473,    30,  1824,     3,  1067,\n",
              "            18,     3]), batch_sizes=tensor([5, 5, 5, 5, 5, 5, 5, 5, 5, 5, 5, 5, 5, 5, 5, 5, 4, 4, 4, 3, 3, 3, 3, 3,\n",
              "         3, 3, 3, 3, 3, 3, 3, 3, 3, 3, 3, 3, 3, 3, 3, 3, 2, 2, 2, 2, 2, 2, 2, 1,\n",
              "         1, 1]), sorted_indices=tensor([4, 1, 3, 0, 2]), unsorted_indices=tensor([3, 1, 4, 2, 0])))"
            ]
          },
          "metadata": {},
          "execution_count": 31
        }
      ]
    },
    {
      "cell_type": "code",
      "source": [
        "train_loader = torch.utils.data.DataLoader(trainset, batch_size=256, shuffle=True, collate_fn=pack_collate)\n",
        "print(len(train_loader)) # number of batch per epoch\n",
        "src, i_tgt, o_tgt = next(iter(train_loader))\n",
        "model.to(DEV)\n",
        "model(src.to(DEV), i_tgt.to(DEV)).shape, o_tgt.data.shape\n",
        "\n",
        "loss = get_nll(model(src.to(DEV), i_tgt.to(DEV)), o_tgt.data)\n",
        "loss"
      ],
      "metadata": {
        "colab": {
          "base_uri": "https://localhost:8080/"
        },
        "id": "Y-OBzrWaQuBY",
        "outputId": "9d42d38e-7072-495c-806a-b00034a97958"
      },
      "id": "Y-OBzrWaQuBY",
      "execution_count": 41,
      "outputs": [
        {
          "output_type": "stream",
          "name": "stdout",
          "text": [
            "501\n"
          ]
        },
        {
          "output_type": "execute_result",
          "data": {
            "text/plain": [
              "tensor(6.9101, device='cuda:0', grad_fn=<MeanBackward0>)"
            ]
          },
          "metadata": {},
          "execution_count": 41
        }
      ]
    },
    {
      "cell_type": "code",
      "source": [
        "from tqdm.auto import tqdm\n",
        "\n",
        "# model = Translator(tokenizer_src.vocab_size, tokenizer_tgt.vocab_size)\n",
        "# optimizer = torch.optim.Adam(model.parameters(), lr=1e-3)\n",
        "train_loader = torch.utils.data.DataLoader(trainset, batch_size=256, shuffle=True, collate_fn=pack_collate)\n",
        "# loss_record = []\n",
        "model.train()\n",
        "DEV = 'cuda'\n",
        "model.to(DEV)\n",
        "\n",
        "n_epoch = 2\n",
        "\n",
        "for epoch in range(n_epoch):\n",
        "  for batch in tqdm(train_loader):\n",
        "    src, i_tgt, o_tgt = batch\n",
        "    logit = model(src.to(DEV), i_tgt.to(DEV))\n",
        "\n",
        "    loss = get_nll(logit, o_tgt.data)\n",
        "\n",
        "    loss.backward()\n",
        "    optimizer.step()\n",
        "    optimizer.zero_grad()\n",
        "\n",
        "    loss_record.append(loss.item())\n",
        "    # break\n",
        "  # loss_record"
      ],
      "metadata": {
        "colab": {
          "base_uri": "https://localhost:8080/",
          "height": 81,
          "referenced_widgets": [
            "e377e2eade2e4d6399d73430df237263",
            "a695f99cd2e5445daf7c3e03dafbcb89",
            "87165c0467e940b591ece385395a78cd",
            "5c316362d4874968aa9bdd293e863820",
            "36b4c93d5709441493ad4f8f8359c8af",
            "f695a43efb7642fd8cf8317b32227a25",
            "494bc8febfbe4da6bc6910d4d524da0d",
            "a96c86ff943c467bb3217e9c89afad96",
            "c0f50ce2c805407ab692b57beacdf244",
            "8c95084c8b884be9a281d15d265a5502",
            "76d497c2eade4316be44ec3ffa88b051",
            "d49d345071774ce3ab06bde5c014d274",
            "b1de3d03881f4fd590089c38c32c907d",
            "9ad4279642d04354880bc1da390a0355",
            "e820e5ba80d648dea0f4c3ccc4751aef",
            "ecc23a04ca7c4192bbf6854aa9c34410",
            "442b57ebd2804718b7f63a57cb09e3a1",
            "2ad791462af74dd49e6f3cd2b5a16cd5",
            "cee0a65d72a043ffb6723908ba69dd59",
            "9b12e9389f7d4baab45eeeedca4de003",
            "5b861a0ac2354e2482eeef33cf4c372d",
            "3c5fd502b5b949e3a5927a6483cb3bde"
          ]
        },
        "id": "EOkwSUMvS3iV",
        "outputId": "75d6ec48-d16d-443d-88db-a09568d2c00e"
      },
      "id": "EOkwSUMvS3iV",
      "execution_count": 59,
      "outputs": [
        {
          "output_type": "display_data",
          "data": {
            "text/plain": [
              "  0%|          | 0/2504 [00:00<?, ?it/s]"
            ],
            "application/vnd.jupyter.widget-view+json": {
              "version_major": 2,
              "version_minor": 0,
              "model_id": "e377e2eade2e4d6399d73430df237263"
            }
          },
          "metadata": {}
        },
        {
          "output_type": "display_data",
          "data": {
            "text/plain": [
              "  0%|          | 0/2504 [00:00<?, ?it/s]"
            ],
            "application/vnd.jupyter.widget-view+json": {
              "version_major": 2,
              "version_minor": 0,
              "model_id": "d49d345071774ce3ab06bde5c014d274"
            }
          },
          "metadata": {}
        }
      ]
    },
    {
      "cell_type": "code",
      "source": [
        "plt.plot(loss_record)"
      ],
      "metadata": {
        "colab": {
          "base_uri": "https://localhost:8080/",
          "height": 448
        },
        "id": "Z7bcEbd8TBVm",
        "outputId": "8dced038-35ad-4825-ce27-a26b623457e0"
      },
      "id": "Z7bcEbd8TBVm",
      "execution_count": 60,
      "outputs": [
        {
          "output_type": "execute_result",
          "data": {
            "text/plain": [
              "[<matplotlib.lines.Line2D at 0x7a7acaff14b0>]"
            ]
          },
          "metadata": {},
          "execution_count": 60
        },
        {
          "output_type": "display_data",
          "data": {
            "text/plain": [
              "<Figure size 640x480 with 1 Axes>"
            ],
            "image/png": "[encoded data removed]"
          },
          "metadata": {}
        }
      ]
    },
    {
      "cell_type": "code",
      "source": [
        "# Make Inference code\n",
        "model.cpu()\n",
        "model.eval()\n",
        "\n",
        "\n",
        "def translate(self, src_sentence):\n",
        "  # Run Encoder\n",
        "  src_emb = self.src_embedding(src_sentence)\n",
        "  encoder_out, enc_last_hidden = self.encoder(src_emb) # GRU returns two output: hidden_state_for_every_t, last_hidden\n",
        "\n",
        "  # Run decoder step by step\n",
        "  current_token = torch.LongTensor([[2]]) # 2 represents start of sentence token\n",
        "  print(current_token.shape)\n",
        "  dec_last_hidden = enc_last_hidden\n",
        "\n",
        "  outputs = []\n",
        "  # Make for loop to generate the next target token\n",
        "  # While True:\n",
        "  for i in range(10):\n",
        "    tgt_emb = self.tgt_embedding(current_token)\n",
        "    decoder_out, dec_last_hidden = self.decoder(tgt_emb, dec_last_hidden) # feed encoder's last hidden state as decoder's initial hidden state\n",
        "    logit = self.proj(decoder_out)\n",
        "    current_token = logit.argmax(dim=-1)\n",
        "\n",
        "    if current_token == 3: # 3 represents end of sentence token\n",
        "      break\n",
        "    outputs.append(current_token.item())\n",
        "  # print(src_sentence.shape, src_emb.shape, encoder_out.shape, enc_last_hidden.shape)\n",
        "  # print(tgt_emb.shape, decoder_out.shape, dec_last_hidden.shape)\n",
        "  return outputs\n",
        "\n",
        "test_sentence = '나는 학교에 갑니다'\n",
        "test_tokens = tokenizer_src(test_sentence)['input_ids']\n",
        "test_tokens = torch.LongTensor(test_tokens).unsqueeze(0) # unsqueeze to make batch dimension)\n",
        "\n",
        "tokenizer_tgt.decode(translate(model, test_tokens))"
      ],
      "metadata": {
        "id": "PBuW0Jsa2jHF",
        "outputId": "0e34b3e8-f583-410d-f084-962736909277",
        "colab": {
          "base_uri": "https://localhost:8080/",
          "height": 53
        }
      },
      "id": "PBuW0Jsa2jHF",
      "execution_count": 61,
      "outputs": [
        {
          "output_type": "stream",
          "name": "stdout",
          "text": [
            "torch.Size([1, 1])\n"
          ]
        },
        {
          "output_type": "execute_result",
          "data": {
            "text/plain": [
              "\"i'm sorry to be able to be possible\""
            ],
            "application/vnd.google.colaboratory.intrinsic+json": {
              "type": "string"
            }
          },
          "metadata": {},
          "execution_count": 61
        }
      ]
    },
    {
      "cell_type": "markdown",
      "source": [
        "## Make Attention"
      ],
      "metadata": {
        "id": "hAmUniRnD4dL"
      },
      "id": "hAmUniRnD4dL"
    },
    {
      "cell_type": "code",
      "source": [
        "src_sentence, tgt_sentence = trainset[0]\n"
      ],
      "metadata": {
        "id": "ZLQGPTzyEElF",
        "outputId": "5ab91aee-011e-4455-c7f5-1a190546827f",
        "colab": {
          "base_uri": "https://localhost:8080/"
        }
      },
      "id": "ZLQGPTzyEElF",
      "execution_count": 65,
      "outputs": [
        {
          "output_type": "execute_result",
          "data": {
            "text/plain": [
              "tensor([    2, 30329,  4416, 21091,  8488,    16,  3600, 12590,  4384, 27730,\n",
              "        17247, 13085, 11828,  6854,    18,     3])"
            ]
          },
          "metadata": {},
          "execution_count": 65
        }
      ]
    },
    {
      "cell_type": "code",
      "source": [
        "\n",
        "src_emb = model.src_embedding(src_sentence.unsqueeze(0))\n",
        "encoder_out, enc_last_hidden = model.encoder(src_emb) # GRU returns two output: hidden_state_for_every_t, last_hidden\n",
        "\n",
        "tgt_emb = model.tgt_embedding(tgt_sentence.unsqueeze(0))\n",
        "decoder_out, dec_last_hidden = model.decoder(tgt_emb, enc_last_hidden)\n",
        "encoder_out.shape, decoder_out.shape\n",
        "\n",
        "for t in range(decoder_out.shape[1]): # for every timestep in decoder sentence\n",
        "  current_dec_out = decoder_out[:, t:t+1, :]\n",
        "  print(current_dec_out.shape, encoder_out.shape)\n",
        "  attn_score = torch.bmm(encoder_out, current_dec_out.transpose(1,2))[..., 0]\n",
        "  attn_weight = torch.softmax(attn_score, dim=-1)\n",
        "  print(attn_score)\n",
        "  # print(attn_weight.shape)\n",
        "  attn_vector = attn_weight.unsqueeze(-1) * encoder_out\n",
        "  break"
      ],
      "metadata": {
        "id": "2vxlSizrEJN3",
        "outputId": "fcdb04fa-fb82-40de-ea61-273fd9d2c9bb",
        "colab": {
          "base_uri": "https://localhost:8080/"
        }
      },
      "id": "2vxlSizrEJN3",
      "execution_count": 90,
      "outputs": [
        {
          "output_type": "stream",
          "name": "stdout",
          "text": [
            "torch.Size([1, 1, 32]) torch.Size([1, 16, 32])\n",
            "tensor([[-0.0891,  3.6333,  6.7153,  8.4450,  9.6623, 10.5891, 11.4343, 12.4152,\n",
            "         13.3703, 13.9861, 14.7606, 14.6994, 14.3175, 15.0144, 15.7311, 17.0638]],\n",
            "       grad_fn=<SelectBackward0>)\n"
          ]
        }
      ]
    },
    {
      "cell_type": "code",
      "source": [],
      "metadata": {
        "id": "zAj4jwIkD6Q6"
      },
      "id": "zAj4jwIkD6Q6",
      "execution_count": null,
      "outputs": []
    },
    {
      "cell_type": "code",
      "source": [
        "test_tokens"
      ],
      "metadata": {
        "id": "5VmBFR1-8Pj-",
        "outputId": "ad509a0f-361e-4bc3-eedc-2c5b8ed81cf6",
        "colab": {
          "base_uri": "https://localhost:8080/"
        }
      },
      "id": "5VmBFR1-8Pj-",
      "execution_count": 51,
      "outputs": [
        {
          "output_type": "execute_result",
          "data": {
            "text/plain": [
              "tensor([[    2,  6481, 10307, 14803,     3]])"
            ]
          },
          "metadata": {},
          "execution_count": 51
        }
      ]
    },
    {
      "cell_type": "code",
      "source": [],
      "metadata": {
        "id": "VPfE339m6U6e"
      },
      "id": "VPfE339m6U6e",
      "execution_count": null,
      "outputs": []
    },
    {
      "cell_type": "markdown",
      "id": "22db0716",
      "metadata": {
        "id": "22db0716"
      },
      "source": [
        "#### Pad Sequence and Pack Sequence\n",
        "In PyTorch, there are two ways to batchify a group of sequence with different length.\n",
        "- `torch.nn.utils.rnn.pad_sequence`\n",
        "    - This function takes list of tensors with different length and return padded sequence\n",
        "    - Padding is adding some constant number as a PAD token to match the length of short sequence to the maximum length\n",
        "        - e.g. If there are sequence of length (3,7,4), we can add 4 zeros to sequence with length 3, 3 zeros to sequence with length 4 to make them length 7\n",
        "    - In default, we use 0 for padding (zero padding)\n",
        "    - The result\n",
        "- `torch.nn.utils.rnn.pack_sequence`\n",
        "    - pad_sequence"
      ]
    },
    {
      "cell_type": "markdown",
      "id": "1c8cce88",
      "metadata": {
        "id": "1c8cce88"
      },
      "source": [
        "Cells below show the example of `pad_sequence`"
      ]
    },
    {
      "cell_type": "code",
      "execution_count": null,
      "id": "fe229f85",
      "metadata": {
        "colab": {
          "base_uri": "https://localhost:8080/"
        },
        "id": "fe229f85",
        "outputId": "b9e9292f-63b7-4f09-b518-82e8b812f250"
      },
      "outputs": [
        {
          "data": {
            "text/plain": [
              "tensor([[ 3., 27., 15.],\n",
              "        [ 2., 26., 14.],\n",
              "        [ 1., 25., 13.],\n",
              "        [ 0., 24., 12.],\n",
              "        [ 0., 23., 11.],\n",
              "        [ 0., 22., 10.],\n",
              "        [ 0., 21.,  0.],\n",
              "        [ 0., 20.,  0.]])"
            ]
          },
          "execution_count": 19,
          "metadata": {},
          "output_type": "execute_result"
        }
      ],
      "source": [
        "from torch.nn.utils.rnn import pad_sequence, pack_sequence, PackedSequence\n",
        "short = torch.arange(3, -1, -1).float() # [3, 2, 1, 0]\n",
        "long = torch.arange(27,19, -1).float()\n",
        "middle = torch.arange(15,9, -1).float()\n",
        "\n",
        "pad_sequence([short, long, middle], batch_first=False)  # T x N"
      ]
    },
    {
      "cell_type": "code",
      "execution_count": null,
      "id": "0b2a0920",
      "metadata": {
        "colab": {
          "base_uri": "https://localhost:8080/"
        },
        "id": "0b2a0920",
        "outputId": "1e5cc308-9354-4336-8bf0-7dc50ed72061"
      },
      "outputs": [
        {
          "data": {
            "text/plain": [
              "tensor([[ 3.,  2.,  1.,  0.,  0.,  0.,  0.,  0.],\n",
              "        [27., 26., 25., 24., 23., 22., 21., 20.],\n",
              "        [15., 14., 13., 12., 11., 10.,  0.,  0.]])"
            ]
          },
          "execution_count": 20,
          "metadata": {},
          "output_type": "execute_result"
        }
      ],
      "source": [
        "# Default value of batch_first in pad_sequence is False.\n",
        "# So you have to always be careful not to miss batch_first=True in pad_sequence, if you use batch_first=True for your RNN layer.\n",
        "pad_sequence([short, long, middle], batch_first=True)  # N x T"
      ]
    },
    {
      "cell_type": "markdown",
      "id": "4fb5e0dd",
      "metadata": {
        "id": "4fb5e0dd"
      },
      "source": [
        "1) However, the problem is that you can't figure out whether the 0 at the end of each sequence is a padded one, or was included in the original sequence\n",
        "- e.g. `[2, 3, 4, 3, 0]` becomes `[ 2,  3,  4,  5,  0,  0,  0]`. Now we don't know how many zeros were added for padding\n",
        "\n",
        "2) Also, if you run RNN for this padded sequence, RNN will calculate for the padded part also.\n",
        "- RNN doesn't know whether it is padded data, or existing data\n",
        "- This makes computation slower\n",
        "\n",
        "3) If you want to use bi-directional, which also reads the sequence from backward, paddings can make the result different.\n",
        "\n",
        "To solve this issue, we use PackedSequence, by using `pack_sequence`/"
      ]
    },
    {
      "cell_type": "code",
      "execution_count": null,
      "id": "69086d43",
      "metadata": {
        "colab": {
          "base_uri": "https://localhost:8080/"
        },
        "id": "69086d43",
        "outputId": "0091d96c-8bc5-4323-9a23-78935a457cb6"
      },
      "outputs": [
        {
          "data": {
            "text/plain": [
              "PackedSequence(data=tensor([27., 15.,  3., 26., 14.,  2., 25., 13.,  1., 24., 12.,  0., 23., 11.,\n",
              "        22., 10., 21., 20.]), batch_sizes=tensor([3, 3, 3, 3, 2, 2, 1, 1]), sorted_indices=tensor([1, 2, 0]), unsorted_indices=tensor([2, 0, 1]))"
            ]
          },
          "execution_count": 21,
          "metadata": {},
          "output_type": "execute_result"
        }
      ],
      "source": [
        "packed_sequence = pack_sequence([short, long, middle], enforce_sorted=False)\n",
        "packed_sequence"
      ]
    },
    {
      "cell_type": "markdown",
      "id": "4cd50747",
      "metadata": {
        "id": "4cd50747"
      },
      "source": [
        "`PackedSequence` has `data` and `batch_sizes`\n",
        "- `data` contains the flattened value of given batch\n",
        "    - To optimize the computation, the sequences have to be sorted by descending of length\n",
        "- `batch_sizes` represents how many valid batch sample exists for each time step\n",
        "    - `[3, 3, 3, 2, 2, 1, 1]` means that there are 3 sequences for first three time steps, and then 2 sequences for next two steps, and then only 1 sequence for next two steps.\n",
        "- `sorted_indices` shows how the sorted sequences can be converted to original order.\n",
        "    - `[1,2,0]` means that\n",
        "        - the 0th sequence in the sorted sequences (the longest one) was indexed as 1 in the original input batch\n",
        "        - the 1st sequence in the sorted sequences (`middle`) was indexed as 2 in the original input batch\n",
        "        - the 2nd sequence in the sorted sequences (`short`) was index as 0 in the original input batch\n",
        "- `unsorted_indices` shows how the original sequences are sorted.\n",
        "    - `[2,0,1]` means that\n",
        "        - the 0th sequence in the original input was sorted as 2nd in the sorted sequences"
      ]
    },
    {
      "cell_type": "code",
      "execution_count": null,
      "id": "0500f200",
      "metadata": {
        "colab": {
          "base_uri": "https://localhost:8080/"
        },
        "id": "0500f200",
        "outputId": "f78e0501-2311-4907-bf8c-9926c26f7da4"
      },
      "outputs": [
        {
          "name": "stdout",
          "output_type": "stream",
          "text": [
            "Type of output of RNN for PackedSequence: <class 'torch.nn.utils.rnn.PackedSequence'>\n",
            "Type of last_hidden of RNN for PackedSequence: <class 'torch.Tensor'>\n"
          ]
        }
      ],
      "source": [
        "rnn_layer = nn.GRU(1, 1)\n",
        "packed_sequence = pack_sequence([short.unsqueeze(1), long.unsqueeze(1), middle.unsqueeze(1)], enforce_sorted=False)\n",
        "out, last_hidden = rnn_layer(packed_sequence)\n",
        "\n",
        "print(f\"Type of output of RNN for PackedSequence: {type(out)}\")\n",
        "print(f\"Type of last_hidden of RNN for PackedSequence: {type(last_hidden)}\")"
      ]
    },
    {
      "cell_type": "markdown",
      "id": "8f2e3e44",
      "metadata": {
        "id": "8f2e3e44"
      },
      "source": [
        "- RNN or its family of PyTorch can automatically handle `PackedSequence`\n",
        "- However, other layers like `nn.Embedding` or `nn.Linear` cannot take `PackedSequence` as its input\n",
        "- There are two ways to feed `PackedSequence` to these layers\n",
        "    - First, convert PackedSequence to ordinary torch.Tensor by `torch.nn.utils.rnn.pad_packed_sequence`\n",
        "        - This will convert PackedSequence to a tensor of sequneces with same length but different padding\n",
        "    - The other way is to feed only PackedSequence.data, and then declaring new PackedSequence with the output as `data`"
      ]
    },
    {
      "cell_type": "code",
      "execution_count": null,
      "id": "3XBGEIV9sTJ3",
      "metadata": {
        "colab": {
          "base_uri": "https://localhost:8080/"
        },
        "id": "3XBGEIV9sTJ3",
        "outputId": "a1dfa2b2-9289-4b9d-e36f-beeebff82c26"
      },
      "outputs": [
        {
          "data": {
            "text/plain": [
              "PackedSequence(data=tensor([[27.],\n",
              "        [15.],\n",
              "        [ 3.],\n",
              "        [26.],\n",
              "        [14.],\n",
              "        [ 2.],\n",
              "        [25.],\n",
              "        [13.],\n",
              "        [ 1.],\n",
              "        [24.],\n",
              "        [12.],\n",
              "        [ 0.],\n",
              "        [23.],\n",
              "        [11.],\n",
              "        [22.],\n",
              "        [10.],\n",
              "        [21.],\n",
              "        [20.]]), batch_sizes=tensor([3, 3, 3, 3, 2, 2, 1, 1]), sorted_indices=tensor([1, 2, 0]), unsorted_indices=tensor([2, 0, 1]))"
            ]
          },
          "execution_count": 24,
          "metadata": {},
          "output_type": "execute_result"
        }
      ],
      "source": [
        "packed_sequence"
      ]
    },
    {
      "cell_type": "code",
      "execution_count": null,
      "id": "b08620c8",
      "metadata": {
        "colab": {
          "base_uri": "https://localhost:8080/",
          "height": 391
        },
        "id": "b08620c8",
        "outputId": "cfd89d73-ff95-4355-aefe-1983a840d1fe"
      },
      "outputs": [
        {
          "ename": "TypeError",
          "evalue": "ignored",
          "output_type": "error",
          "traceback": [
            "\u001b[0;31m---------------------------------------------------------------------------\u001b[0m",
            "\u001b[0;31mTypeError\u001b[0m                                 Traceback (most recent call last)",
            "\u001b[0;32m<ipython-input-23-7c62b9259c97>\u001b[0m in \u001b[0;36m<cell line: 5>\u001b[0;34m()\u001b[0m\n\u001b[1;32m      3\u001b[0m '''\n\u001b[1;32m      4\u001b[0m \u001b[0mtest_linear_layer\u001b[0m \u001b[0;34m=\u001b[0m \u001b[0mnn\u001b[0m\u001b[0;34m.\u001b[0m\u001b[0mLinear\u001b[0m\u001b[0;34m(\u001b[0m\u001b[0min_features\u001b[0m\u001b[0;34m=\u001b[0m\u001b[0;36m1\u001b[0m\u001b[0;34m,\u001b[0m \u001b[0mout_features\u001b[0m\u001b[0;34m=\u001b[0m\u001b[0;36m2\u001b[0m\u001b[0;34m)\u001b[0m\u001b[0;34m\u001b[0m\u001b[0;34m\u001b[0m\u001b[0m\n\u001b[0;32m----> 5\u001b[0;31m \u001b[0mtest_linear_layer\u001b[0m\u001b[0;34m(\u001b[0m\u001b[0mpacked_sequence\u001b[0m\u001b[0;34m)\u001b[0m\u001b[0;34m\u001b[0m\u001b[0;34m\u001b[0m\u001b[0m\n\u001b[0m",
            "\u001b[0;32m/usr/local/lib/python3.10/dist-packages/torch/nn/modules/module.py\u001b[0m in \u001b[0;36m_call_impl\u001b[0;34m(self, *args, **kwargs)\u001b[0m\n\u001b[1;32m   1499\u001b[0m                 \u001b[0;32mor\u001b[0m \u001b[0m_global_backward_pre_hooks\u001b[0m \u001b[0;32mor\u001b[0m \u001b[0m_global_backward_hooks\u001b[0m\u001b[0;34m\u001b[0m\u001b[0;34m\u001b[0m\u001b[0m\n\u001b[1;32m   1500\u001b[0m                 or _global_forward_hooks or _global_forward_pre_hooks):\n\u001b[0;32m-> 1501\u001b[0;31m             \u001b[0;32mreturn\u001b[0m \u001b[0mforward_call\u001b[0m\u001b[0;34m(\u001b[0m\u001b[0;34m*\u001b[0m\u001b[0margs\u001b[0m\u001b[0;34m,\u001b[0m \u001b[0;34m**\u001b[0m\u001b[0mkwargs\u001b[0m\u001b[0;34m)\u001b[0m\u001b[0;34m\u001b[0m\u001b[0;34m\u001b[0m\u001b[0m\n\u001b[0m\u001b[1;32m   1502\u001b[0m         \u001b[0;31m# Do not call functions when jit is used\u001b[0m\u001b[0;34m\u001b[0m\u001b[0;34m\u001b[0m\u001b[0m\n\u001b[1;32m   1503\u001b[0m         \u001b[0mfull_backward_hooks\u001b[0m\u001b[0;34m,\u001b[0m \u001b[0mnon_full_backward_hooks\u001b[0m \u001b[0;34m=\u001b[0m \u001b[0;34m[\u001b[0m\u001b[0;34m]\u001b[0m\u001b[0;34m,\u001b[0m \u001b[0;34m[\u001b[0m\u001b[0;34m]\u001b[0m\u001b[0;34m\u001b[0m\u001b[0;34m\u001b[0m\u001b[0m\n",
            "\u001b[0;32m/usr/local/lib/python3.10/dist-packages/torch/nn/modules/linear.py\u001b[0m in \u001b[0;36mforward\u001b[0;34m(self, input)\u001b[0m\n\u001b[1;32m    112\u001b[0m \u001b[0;34m\u001b[0m\u001b[0m\n\u001b[1;32m    113\u001b[0m     \u001b[0;32mdef\u001b[0m \u001b[0mforward\u001b[0m\u001b[0;34m(\u001b[0m\u001b[0mself\u001b[0m\u001b[0;34m,\u001b[0m \u001b[0minput\u001b[0m\u001b[0;34m:\u001b[0m \u001b[0mTensor\u001b[0m\u001b[0;34m)\u001b[0m \u001b[0;34m->\u001b[0m \u001b[0mTensor\u001b[0m\u001b[0;34m:\u001b[0m\u001b[0;34m\u001b[0m\u001b[0;34m\u001b[0m\u001b[0m\n\u001b[0;32m--> 114\u001b[0;31m         \u001b[0;32mreturn\u001b[0m \u001b[0mF\u001b[0m\u001b[0;34m.\u001b[0m\u001b[0mlinear\u001b[0m\u001b[0;34m(\u001b[0m\u001b[0minput\u001b[0m\u001b[0;34m,\u001b[0m \u001b[0mself\u001b[0m\u001b[0;34m.\u001b[0m\u001b[0mweight\u001b[0m\u001b[0;34m,\u001b[0m \u001b[0mself\u001b[0m\u001b[0;34m.\u001b[0m\u001b[0mbias\u001b[0m\u001b[0;34m)\u001b[0m\u001b[0;34m\u001b[0m\u001b[0;34m\u001b[0m\u001b[0m\n\u001b[0m\u001b[1;32m    115\u001b[0m \u001b[0;34m\u001b[0m\u001b[0m\n\u001b[1;32m    116\u001b[0m     \u001b[0;32mdef\u001b[0m \u001b[0mextra_repr\u001b[0m\u001b[0;34m(\u001b[0m\u001b[0mself\u001b[0m\u001b[0;34m)\u001b[0m \u001b[0;34m->\u001b[0m \u001b[0mstr\u001b[0m\u001b[0;34m:\u001b[0m\u001b[0;34m\u001b[0m\u001b[0;34m\u001b[0m\u001b[0m\n",
            "\u001b[0;31mTypeError\u001b[0m: linear(): argument 'input' (position 1) must be Tensor, not PackedSequence"
          ]
        }
      ],
      "source": [
        "'''\n",
        "This will make error, because other layers cannot handle PackedSequence\n",
        "'''\n",
        "test_linear_layer = nn.Linear(in_features=1, out_features=2)\n",
        "test_linear_layer(packed_sequence)"
      ]
    },
    {
      "cell_type": "code",
      "execution_count": null,
      "id": "ac9efa09",
      "metadata": {
        "colab": {
          "base_uri": "https://localhost:8080/"
        },
        "id": "ac9efa09",
        "outputId": "6e266ee3-8dca-4314-fe10-91ee15a0def3"
      },
      "outputs": [
        {
          "name": "stdout",
          "output_type": "stream",
          "text": [
            "The padded sequence generated from packed sequence (squeezed for printing): \n",
            " tensor([[ 3., 27., 15.],\n",
            "        [ 2., 26., 14.],\n",
            "        [ 1., 25., 13.],\n",
            "        [ 0., 24., 12.],\n",
            "        [ 0., 23., 11.],\n",
            "        [ 0., 22., 10.],\n",
            "        [ 0., 21.,  0.],\n",
            "        [ 0., 20.,  0.]])\n",
            "\"pad_packed_sequence\" also returns \"batch_lengths\", to clarify the original length before the padding: \n",
            " tensor([4, 8, 6])\n"
          ]
        }
      ],
      "source": [
        "'''\n",
        "One way to to this is using torch.nn.utils.rnn.pad_packed_sequence to convert PackedSequence to ordinary padded tensor\n",
        "'''\n",
        "\n",
        "from torch.nn.utils.rnn import pad_packed_sequence\n",
        "padded_sequence, batch_lengths = pad_packed_sequence(packed_sequence)\n",
        "print(f'The padded sequence generated from packed sequence (squeezed for printing): \\n {padded_sequence.squeeze()}')\n",
        "print(f'\"pad_packed_sequence\" also returns \"batch_lengths\", to clarify the original length before the padding: \\n {batch_lengths}')\n",
        "\n"
      ]
    },
    {
      "cell_type": "code",
      "execution_count": null,
      "id": "8e302fe4",
      "metadata": {
        "colab": {
          "base_uri": "https://localhost:8080/"
        },
        "id": "8e302fe4",
        "outputId": "af6d0e8e-3e46-426a-f23f-ce6e534dff67"
      },
      "outputs": [
        {
          "name": "stdout",
          "output_type": "stream",
          "text": [
            "Output of feeding padded_sequence to a linear layer: tensor([[[ 3.3898,  1.8743],\n",
            "         [24.5948, 12.2365],\n",
            "         [13.9923,  7.0554]],\n",
            "\n",
            "        [[ 2.5063,  1.4426],\n",
            "         [23.7113, 11.8048],\n",
            "         [13.1088,  6.6237]],\n",
            "\n",
            "        [[ 1.6227,  1.0108],\n",
            "         [22.8277, 11.3730],\n",
            "         [12.2252,  6.1919]],\n",
            "\n",
            "        [[ 0.7392,  0.5791],\n",
            "         [21.9442, 10.9413],\n",
            "         [11.3417,  5.7602]],\n",
            "\n",
            "        [[ 0.7392,  0.5791],\n",
            "         [21.0606, 10.5095],\n",
            "         [10.4581,  5.3284]],\n",
            "\n",
            "        [[ 0.7392,  0.5791],\n",
            "         [20.1771, 10.0777],\n",
            "         [ 9.5746,  4.8966]],\n",
            "\n",
            "        [[ 0.7392,  0.5791],\n",
            "         [19.2936,  9.6460],\n",
            "         [ 0.7392,  0.5791]],\n",
            "\n",
            "        [[ 0.7392,  0.5791],\n",
            "         [18.4100,  9.2142],\n",
            "         [ 0.7392,  0.5791]]], grad_fn=<ViewBackward0>)\n",
            "Caution that it returns non-zero values for timestep with zero padding, because linear layer has a bias\n"
          ]
        }
      ],
      "source": [
        "'''\n",
        "Now you can feed padded sequence to linear layer.\n",
        "'''\n",
        "\n",
        "linear_output = test_linear_layer(padded_sequence)\n",
        "print(f\"Output of feeding padded_sequence to a linear layer: {linear_output}\")\n",
        "print(\"Caution that it returns non-zero values for timestep with zero padding, because linear layer has a bias\")"
      ]
    },
    {
      "cell_type": "code",
      "execution_count": null,
      "id": "b1c0e150",
      "metadata": {
        "colab": {
          "base_uri": "https://localhost:8080/"
        },
        "id": "b1c0e150",
        "outputId": "8cb4f6cd-0d17-4eda-f300-85bc96e46004"
      },
      "outputs": [
        {
          "data": {
            "text/plain": [
              "PackedSequence(data=tensor([[24.5948, 12.2365],\n",
              "        [13.9923,  7.0554],\n",
              "        [ 3.3898,  1.8743],\n",
              "        [23.7113, 11.8048],\n",
              "        [13.1088,  6.6237],\n",
              "        [ 2.5063,  1.4426],\n",
              "        [22.8277, 11.3730],\n",
              "        [12.2252,  6.1919],\n",
              "        [ 1.6227,  1.0108],\n",
              "        [21.9442, 10.9413],\n",
              "        [11.3417,  5.7602],\n",
              "        [ 0.7392,  0.5791],\n",
              "        [21.0606, 10.5095],\n",
              "        [10.4581,  5.3284],\n",
              "        [20.1771, 10.0777],\n",
              "        [ 9.5746,  4.8966],\n",
              "        [19.2936,  9.6460],\n",
              "        [18.4100,  9.2142]], grad_fn=<PackPaddedSequenceBackward0>), batch_sizes=tensor([3, 3, 3, 3, 2, 2, 1, 1]), sorted_indices=tensor([1, 2, 0]), unsorted_indices=tensor([2, 0, 1]))"
            ]
          },
          "execution_count": 28,
          "metadata": {},
          "output_type": "execute_result"
        }
      ],
      "source": [
        "'''\n",
        "You can make the output as a PackedSequence, by using torch.nn.utils.rnn.pack_padded_sequence\n",
        "'''\n",
        "from torch.nn.utils.rnn import pack_padded_sequence\n",
        "re_packed_sequence = pack_padded_sequence(linear_output, batch_lengths, enforce_sorted=False)\n",
        "re_packed_sequence"
      ]
    },
    {
      "cell_type": "code",
      "execution_count": null,
      "id": "22117c41",
      "metadata": {
        "colab": {
          "base_uri": "https://localhost:8080/"
        },
        "id": "22117c41",
        "outputId": "9f1bbb93-b344-46c3-dc04-e41d059ad0b6"
      },
      "outputs": [
        {
          "data": {
            "text/plain": [
              "PackedSequence(data=tensor([[24.5948, 12.2365],\n",
              "        [13.9923,  7.0554],\n",
              "        [ 3.3898,  1.8743],\n",
              "        [23.7113, 11.8048],\n",
              "        [13.1088,  6.6237],\n",
              "        [ 2.5063,  1.4426],\n",
              "        [22.8277, 11.3730],\n",
              "        [12.2252,  6.1919],\n",
              "        [ 1.6227,  1.0108],\n",
              "        [21.9442, 10.9413],\n",
              "        [11.3417,  5.7602],\n",
              "        [ 0.7392,  0.5791],\n",
              "        [21.0606, 10.5095],\n",
              "        [10.4581,  5.3284],\n",
              "        [20.1771, 10.0777],\n",
              "        [ 9.5746,  4.8966],\n",
              "        [19.2936,  9.6460],\n",
              "        [18.4100,  9.2142]], grad_fn=<AddmmBackward0>), batch_sizes=tensor([3, 3, 3, 3, 2, 2, 1, 1]), sorted_indices=tensor([1, 2, 0]), unsorted_indices=tensor([2, 0, 1]))"
            ]
          },
          "execution_count": 25,
          "metadata": {},
          "output_type": "execute_result"
        }
      ],
      "source": [
        "'''\n",
        "Another way to do it is using PackedSequence.data\n",
        "'''\n",
        "\n",
        "linear_out_pack = test_linear_layer(packed_sequence.data)\n",
        "packed_sequence_after_linear = PackedSequence(linear_out_pack, packed_sequence.batch_sizes, packed_sequence.sorted_indices, packed_sequence.unsorted_indices)\n",
        "packed_sequence_after_linear"
      ]
    },
    {
      "cell_type": "code",
      "execution_count": null,
      "id": "81dd119c",
      "metadata": {
        "colab": {
          "base_uri": "https://localhost:8080/",
          "height": 261
        },
        "id": "81dd119c",
        "outputId": "4040a73b-c3f9-4f86-d8a7-6119883800e5"
      },
      "outputs": [
        {
          "output_type": "error",
          "ename": "NameError",
          "evalue": "ignored",
          "traceback": [
            "\u001b[0;31m---------------------------------------------------------------------------\u001b[0m",
            "\u001b[0;31mNameError\u001b[0m                                 Traceback (most recent call last)",
            "\u001b[0;32m<ipython-input-5-3d6fe6143c0a>\u001b[0m in \u001b[0;36m<cell line: 7>\u001b[0;34m()\u001b[0m\n\u001b[1;32m      5\u001b[0m   \u001b[0;32mreturn\u001b[0m \u001b[0mpack_sequence\u001b[0m\u001b[0;34m(\u001b[0m\u001b[0msource\u001b[0m\u001b[0;34m,\u001b[0m \u001b[0menforce_sorted\u001b[0m\u001b[0;34m=\u001b[0m\u001b[0;32mFalse\u001b[0m\u001b[0;34m)\u001b[0m\u001b[0;34m,\u001b[0m \u001b[0mpack_sequence\u001b[0m\u001b[0;34m(\u001b[0m\u001b[0mtarget\u001b[0m\u001b[0;34m,\u001b[0m \u001b[0menforce_sorted\u001b[0m\u001b[0;34m=\u001b[0m\u001b[0;32mFalse\u001b[0m\u001b[0;34m)\u001b[0m\u001b[0;34m,\u001b[0m \u001b[0mpack_sequence\u001b[0m\u001b[0;34m(\u001b[0m\u001b[0mshifted_target\u001b[0m\u001b[0;34m,\u001b[0m \u001b[0menforce_sorted\u001b[0m\u001b[0;34m=\u001b[0m\u001b[0;32mFalse\u001b[0m\u001b[0;34m)\u001b[0m\u001b[0;34m\u001b[0m\u001b[0;34m\u001b[0m\u001b[0m\n\u001b[1;32m      6\u001b[0m \u001b[0;34m\u001b[0m\u001b[0m\n\u001b[0;32m----> 7\u001b[0;31m \u001b[0mtrain_loader\u001b[0m \u001b[0;34m=\u001b[0m \u001b[0mDataLoader\u001b[0m\u001b[0;34m(\u001b[0m\u001b[0mtrain_set\u001b[0m\u001b[0;34m,\u001b[0m \u001b[0mbatch_size\u001b[0m\u001b[0;34m=\u001b[0m\u001b[0;36m32\u001b[0m\u001b[0;34m,\u001b[0m \u001b[0mcollate_fn\u001b[0m\u001b[0;34m=\u001b[0m\u001b[0mpack_collate\u001b[0m\u001b[0;34m)\u001b[0m\u001b[0;34m\u001b[0m\u001b[0;34m\u001b[0m\u001b[0m\n\u001b[0m\u001b[1;32m      8\u001b[0m \u001b[0mbatch\u001b[0m \u001b[0;34m=\u001b[0m \u001b[0mnext\u001b[0m\u001b[0;34m(\u001b[0m\u001b[0miter\u001b[0m\u001b[0;34m(\u001b[0m\u001b[0mtrain_loader\u001b[0m\u001b[0;34m)\u001b[0m\u001b[0;34m)\u001b[0m\u001b[0;34m\u001b[0m\u001b[0;34m\u001b[0m\u001b[0m\n\u001b[1;32m      9\u001b[0m \u001b[0mbatch\u001b[0m\u001b[0;34m\u001b[0m\u001b[0;34m\u001b[0m\u001b[0m\n",
            "\u001b[0;31mNameError\u001b[0m: name 'DataLoader' is not defined"
          ]
        }
      ],
      "source": [
        "from torch.nn.utils.rnn import pack_sequence, PackedSequence\n",
        "\n",
        "def pack_collate(raw_batch):\n",
        "  source, target, shifted_target = zip(*raw_batch)\n",
        "  return pack_sequence(source, enforce_sorted=False), pack_sequence(target, enforce_sorted=False), pack_sequence(shifted_target, enforce_sorted=False)\n",
        "\n",
        "train_loader = DataLoader(train_set, batch_size=32, collate_fn=pack_collate)\n",
        "batch = next(iter(train_loader))\n",
        "batch"
      ]
    },
    {
      "cell_type": "code",
      "source": [
        "src, tgt, shifted_tgt = batch\n",
        "src.sorted_indices, tgt.sorted_indices"
      ],
      "metadata": {
        "colab": {
          "base_uri": "https://localhost:8080/"
        },
        "id": "LiWbuM8SPVop",
        "outputId": "21a36a56-2ddd-4d40-b603-223caef71a3d"
      },
      "id": "LiWbuM8SPVop",
      "execution_count": null,
      "outputs": [
        {
          "output_type": "execute_result",
          "data": {
            "text/plain": [
              "(tensor([21, 17, 14,  5, 27,  8, 24, 28,  3,  9, 13, 29,  4, 16,  0, 19, 22,  2,\n",
              "         10, 20, 25, 23, 31, 15,  7, 18, 11, 12, 26, 30,  1,  6]),\n",
              " tensor([21,  5, 24, 13,  3, 17,  8,  4, 14, 16, 28, 27, 29,  0, 19,  9,  2, 22,\n",
              "         25, 20, 18, 23, 31, 11, 10,  7, 30, 15,  1, 12, 26,  6]))"
            ]
          },
          "metadata": {},
          "execution_count": 23
        }
      ]
    },
    {
      "cell_type": "markdown",
      "id": "357c61f4",
      "metadata": {
        "id": "357c61f4"
      },
      "source": [
        "## Define Model\n",
        "![image](https://raw.githubusercontent.com/tensorflow/nmt/master/nmt/g3doc/img/seq2seq.jpg)"
      ]
    },
    {
      "cell_type": "code",
      "execution_count": null,
      "id": "0af0ca29",
      "metadata": {
        "id": "0af0ca29",
        "outputId": "e3776f5b-738b-45a9-ad8f-eceeccaf103f",
        "colab": {
          "base_uri": "https://localhost:8080/",
          "height": 243
        }
      },
      "outputs": [
        {
          "output_type": "error",
          "ename": "NameError",
          "evalue": "ignored",
          "traceback": [
            "\u001b[0;31m---------------------------------------------------------------------------\u001b[0m",
            "\u001b[0;31mNameError\u001b[0m                                 Traceback (most recent call last)",
            "\u001b[0;32m<ipython-input-7-9883e73544ac>\u001b[0m in \u001b[0;36m<cell line: 61>\u001b[0;34m()\u001b[0m\n\u001b[1;32m     59\u001b[0m \u001b[0mdecoder\u001b[0m \u001b[0;34m=\u001b[0m \u001b[0mDecoder\u001b[0m\u001b[0;34m(\u001b[0m\u001b[0mtokenizer_tgt\u001b[0m\u001b[0;34m.\u001b[0m\u001b[0mvocab_size\u001b[0m\u001b[0;34m,\u001b[0m \u001b[0mhidden_size\u001b[0m\u001b[0;34m)\u001b[0m\u001b[0;34m\u001b[0m\u001b[0;34m\u001b[0m\u001b[0m\n\u001b[1;32m     60\u001b[0m \u001b[0;34m\u001b[0m\u001b[0m\n\u001b[0;32m---> 61\u001b[0;31m \u001b[0msrc\u001b[0m\u001b[0;34m,\u001b[0m \u001b[0mtgt\u001b[0m\u001b[0;34m,\u001b[0m \u001b[0mshifted_tgt\u001b[0m \u001b[0;34m=\u001b[0m \u001b[0mbatch\u001b[0m\u001b[0;34m\u001b[0m\u001b[0;34m\u001b[0m\u001b[0m\n\u001b[0m\u001b[1;32m     62\u001b[0m \u001b[0;34m\u001b[0m\u001b[0m\n\u001b[1;32m     63\u001b[0m \u001b[0menc_out\u001b[0m \u001b[0;34m=\u001b[0m \u001b[0mencoder\u001b[0m\u001b[0;34m(\u001b[0m\u001b[0msrc\u001b[0m\u001b[0;34m)\u001b[0m\u001b[0;34m\u001b[0m\u001b[0;34m\u001b[0m\u001b[0m\n",
            "\u001b[0;31mNameError\u001b[0m: name 'batch' is not defined"
          ]
        }
      ],
      "source": [
        "import torch.nn as nn\n",
        "class Seq2seq(nn.Module):\n",
        "  def __init__(self, enc_vocab, dec_vocab, hidden_size, num_layers=2):\n",
        "    super().__init__()\n",
        "    self.encoder = Encoder(enc_vocab, hidden_size, num_layers=num_layers)\n",
        "    self.decoder = Decoder(dec_vocab, hidden_size, num_layers=num_layers)\n",
        "\n",
        "  def forward(self, src, tgt):\n",
        "    enc_out = self.encoder(src)\n",
        "    # if isinstance(src, PackedSequence) and isinstance(tgt, PackedSequence):\n",
        "    #   enc_out = enc_out[:, src.unsorted_indices][:, tgt.sorted_indices ]\n",
        "    dec_out = self.decoder(tgt, enc_out)\n",
        "    return dec_out\n",
        "\n",
        "class Encoder(nn.Module):\n",
        "  def __init__(self, num_vocab, hidden_size, num_layers=2):\n",
        "    super().__init__()\n",
        "    self.emb = nn.Embedding(num_vocab, hidden_size)\n",
        "    self.rnn = nn.GRU(hidden_size, hidden_size, batch_first=True, num_layers=num_layers)\n",
        "    # batch_first True: it takes (Num_samples_in_batch, num_timesteps, num_dim)\n",
        "    # batch_first False: it takes (num_timesteps, Num_samples_in_batch, num_dim)\n",
        "\n",
        "  def forward(self, x):\n",
        "    if isinstance(x, PackedSequence):\n",
        "      emb = PackedSequence(self.emb(x.data), batch_sizes=x.batch_sizes, sorted_indices=x.sorted_indices, unsorted_indices=x.unsorted_indices)\n",
        "    else:\n",
        "      emb = self.emb(x)\n",
        "    out, last_hidden = self.rnn(emb)\n",
        "    # Even though input is PackedSequence, last_hidden is always tensor\n",
        "    # in \"unsorted_order\"\n",
        "    # last_hidden[:, 0] means 0th sample in the raw (unsorted) batch\n",
        "    return last_hidden\n",
        "\n",
        "\n",
        "class Decoder(nn.Module):\n",
        "  def __init__(self, num_vocab, hidden_size, num_layers=2):\n",
        "    super().__init__()\n",
        "    self.emb = nn.Embedding(num_vocab, hidden_size)\n",
        "    self.rnn = nn.GRU(hidden_size, hidden_size, batch_first=True, num_layers=num_layers)\n",
        "    self.proj = nn.Linear(hidden_size, num_vocab)\n",
        "\n",
        "\n",
        "  def forward(self, x, enc_output):\n",
        "    if isinstance(x, PackedSequence):\n",
        "      emb = PackedSequence(self.emb(x.data), batch_sizes=x.batch_sizes, sorted_indices=x.sorted_indices, unsorted_indices=x.unsorted_indices)\n",
        "      out, last_hidden = self.rnn(emb, enc_output)\n",
        "      # You have to feed last_hidden to rnn following unsorted_indices\n",
        "      # when you feed PackedSequence input to RNN.\n",
        "      logit = PackedSequence(self.proj(out.data), batch_sizes=out.batch_sizes, sorted_indices=out.sorted_indices, unsorted_indices=out.unsorted_indices)\n",
        "    else:\n",
        "      emb = self.emb(x)\n",
        "      out, last_hidden = self.rnn(emb, enc_output)\n",
        "      logit = self.proj(out)\n",
        "    return logit\n",
        "\n",
        "hidden_size = 64\n",
        "model = Seq2seq(tokenizer_src.vocab_size, tokenizer_tgt.vocab_size, hidden_size)\n",
        "encoder = Encoder(tokenizer_src.vocab_size, hidden_size)\n",
        "decoder = Decoder(tokenizer_tgt.vocab_size, hidden_size)\n",
        "\n",
        "src, tgt, shifted_tgt = batch\n",
        "\n",
        "enc_out = encoder(src)\n",
        "dec_out = decoder(tgt, enc_out)\n",
        "\n",
        "logit = model(src, tgt)\n",
        "# logit.shape, logit.softmax(dim=-1)"
      ]
    },
    {
      "cell_type": "code",
      "source": [
        "unsorted_enc_out = enc_out[:, src.unsorted_indices]\n",
        "target_sorted_enc_out = unsorted_enc_out[:, tgt.sorted_indices]"
      ],
      "metadata": {
        "id": "Ld6OZjJ_Qdar"
      },
      "id": "Ld6OZjJ_Qdar",
      "execution_count": null,
      "outputs": []
    },
    {
      "cell_type": "code",
      "source": [
        "logit"
      ],
      "metadata": {
        "colab": {
          "base_uri": "https://localhost:8080/"
        },
        "id": "lj7zFQPqOkNk",
        "outputId": "8e09d4dd-2978-4ad7-c4ac-6eec740df0cc"
      },
      "id": "lj7zFQPqOkNk",
      "execution_count": null,
      "outputs": [
        {
          "output_type": "execute_result",
          "data": {
            "text/plain": [
              "PackedSequence(data=tensor([[-0.1037,  0.1473,  0.0048,  ..., -0.0047, -0.1110, -0.0725],\n",
              "        [-0.1180,  0.1796,  0.0051,  ..., -0.0034, -0.1301, -0.0628],\n",
              "        [-0.1426,  0.1752,  0.0121,  ..., -0.0245, -0.0783, -0.0516],\n",
              "        ...,\n",
              "        [ 0.0704,  0.0287,  0.0330,  ...,  0.0372, -0.1235,  0.0724],\n",
              "        [ 0.0297,  0.0548, -0.0590,  ..., -0.0222, -0.1012,  0.0353],\n",
              "        [ 0.0028,  0.0724, -0.0668,  ...,  0.0017, -0.0646,  0.0580]],\n",
              "       grad_fn=<AddmmBackward0>), batch_sizes=tensor([8, 8, 8, 8, 8, 8, 8, 8, 8, 8, 7, 7, 7, 7, 6, 5, 5, 5, 5, 5, 5, 5, 5, 5,\n",
              "        5, 5, 5, 5, 5, 4, 4, 4, 4, 4, 3, 3, 3, 3, 3, 3, 2, 2, 2, 2, 2, 2, 2, 2,\n",
              "        2, 2, 2, 2, 1, 1, 1, 1, 1, 1, 1, 1, 1, 1, 1, 1, 1, 1, 1]), sorted_indices=tensor([5, 3, 4, 0, 2, 7, 1, 6]), unsorted_indices=tensor([3, 6, 4, 1, 2, 0, 7, 5]))"
            ]
          },
          "metadata": {},
          "execution_count": 18
        }
      ]
    },
    {
      "cell_type": "code",
      "execution_count": null,
      "id": "WMGUwt10Whf5",
      "metadata": {
        "colab": {
          "base_uri": "https://localhost:8080/"
        },
        "id": "WMGUwt10Whf5",
        "outputId": "53bf8946-490b-41cd-ca60-8eaa32b28fe9"
      },
      "outputs": [
        {
          "data": {
            "text/plain": [
              "(torch.Size([1, 10, 30679]),\n",
              " torch.Size([1, 10]),\n",
              " tensor([[  76,   10,  746,  810,  906,  335,  412, 2590,   17,    3]]))"
            ]
          },
          "execution_count": 80,
          "metadata": {},
          "output_type": "execute_result"
        }
      ],
      "source": [
        "logit.shape, shifted_tgt.shape, shifted_tgt"
      ]
    },
    {
      "cell_type": "code",
      "execution_count": null,
      "id": "WgvICWU0Wg0j",
      "metadata": {
        "id": "WgvICWU0Wg0j"
      },
      "outputs": [],
      "source": [
        "def nll_loss(pred, target, eps=1e-8):\n",
        "  if pred.ndim == 3:\n",
        "    pred = pred.flatten(0, 1)\n",
        "  if target.ndim == 2:\n",
        "    target = target.flatten(0, 1)\n",
        "  assert pred.ndim == 2\n",
        "  assert target.ndim == 1\n",
        "\n",
        "\n",
        "  return -torch.log(pred[torch.arange(len(target)), target] + eps).mean()\n",
        "\n",
        "# loss = nll_loss(logit.softmax(dim=-1), shifted_tgt)\n",
        "# loss, loss.shape, shifted_tgt"
      ]
    },
    {
      "cell_type": "markdown",
      "id": "13ffb21b",
      "metadata": {
        "id": "13ffb21b"
      },
      "source": [
        "## Define Trainer"
      ]
    },
    {
      "cell_type": "code",
      "execution_count": null,
      "id": "64a3758c",
      "metadata": {
        "id": "64a3758c"
      },
      "outputs": [],
      "source": [
        "from tqdm.auto import tqdm\n",
        "\n",
        "class Trainer:\n",
        "  def __init__(self, model, optimizer, loss_fn, train_loader, valid_loader, device):\n",
        "    self.model = model\n",
        "    self.optimizer = optimizer\n",
        "    self.loss_fn = loss_fn\n",
        "    self.train_loader = train_loader\n",
        "    self.valid_loader = valid_loader\n",
        "\n",
        "    self.model.to(device)\n",
        "\n",
        "    self.best_valid_accuracy = 0\n",
        "    self.device = device\n",
        "\n",
        "    self.training_loss = []\n",
        "    self.validation_loss = []\n",
        "    self.validation_acc = []\n",
        "\n",
        "  def save_model(self, path='kor_eng_translator_model.pt'):\n",
        "    torch.save({'model':self.model.state_dict(), 'optim':self.optimizer.state_dict()}, path)\n",
        "\n",
        "  def train_by_num_epoch(self, num_epochs):\n",
        "    for epoch in tqdm(range(num_epochs)):\n",
        "      self.model.train()\n",
        "      for batch in tqdm(self.train_loader, leave=False):\n",
        "        loss_value = self._train_by_single_batch(batch)\n",
        "        self.training_loss.append(loss_value)\n",
        "      self.model.eval()\n",
        "      validation_loss, validation_acc = self.validate()\n",
        "      self.validation_loss.append(validation_loss)\n",
        "      self.validation_acc.append(validation_acc)\n",
        "\n",
        "      if validation_acc > self.best_valid_accuracy:\n",
        "        print(f\"Saving the model with best validation accuracy: Epoch {epoch+1}, Acc: {validation_acc:.4f} \")\n",
        "        self.save_model('kor_eng_translator_model_best.pt')\n",
        "      else:\n",
        "        self.save_model('kor_eng_translator_model_last.pt')\n",
        "      self.best_valid_accuracy = max(validation_acc, self.best_valid_accuracy)\n",
        "\n",
        "\n",
        "  def _train_by_single_batch(self, batch):\n",
        "    '''\n",
        "    This method updates self.model's parameter with a given batch\n",
        "\n",
        "    batch (tuple): (batch_of_input_text, batch_of_label)\n",
        "\n",
        "    You have to use variables below:\n",
        "\n",
        "    self.model (SentimentModel/torch.nn.Module): A neural network model\n",
        "    self.optimizer (torch.optim.adam.Adam): Adam optimizer that optimizes model's parameter\n",
        "    self.loss_fn (function): function for calculating BCE loss for a given prediction and target\n",
        "    self.device (str): 'cuda' or 'cpu'\n",
        "\n",
        "    output: loss (float): Mean binary cross entropy value for every sample in the training batch\n",
        "    The model's parameters, optimizer's steps has to be updated inside this method\n",
        "\n",
        "    TODO: Complete this method\n",
        "    '''\n",
        "    src, tgt, shifted_tgt = batch\n",
        "    src = src.to(self.device)\n",
        "    tgt = tgt.to(self.device)\n",
        "    shifted_tgt = shifted_tgt.to(self.device)\n",
        "\n",
        "    logit = self.model(src, tgt)\n",
        "\n",
        "    if isinstance(logit, PackedSequence):\n",
        "      prob = logit.data.softmax(dim=-1)\n",
        "      loss = self.loss_fn(prob, shifted_tgt.data)\n",
        "    else:\n",
        "      loss = self.loss_fn(prob, shifted_tgt)\n",
        "    loss.backward()\n",
        "    self.optimizer.step()\n",
        "    self.optimizer.zero_grad()\n",
        "\n",
        "    return loss.item()\n",
        "\n",
        "\n",
        "  def validate(self, external_loader=None):\n",
        "    '''\n",
        "    This method calculates accuracy and loss for given data loader.\n",
        "    It can be used for validation step, or to get test set result\n",
        "\n",
        "    input:\n",
        "      data_loader: If there is no data_loader given, use self.valid_loader as default.\n",
        "\n",
        "\n",
        "    output:\n",
        "      validation_loss (float): Mean Binary Cross Entropy value for every sample in validation set\n",
        "      validation_accuracy (float): Mean Accuracy value for every sample in validation set\n",
        "\n",
        "    TODO: Complete this method\n",
        "\n",
        "    '''\n",
        "\n",
        "    ### Don't change this part\n",
        "    if external_loader and isinstance(external_loader, DataLoader):\n",
        "      loader = external_loader\n",
        "      print('An arbitrary loader is used instead of Validation loader')\n",
        "    else:\n",
        "      loader = self.valid_loader\n",
        "\n",
        "    self.model.eval()\n",
        "\n",
        "    '''\n",
        "    Write your code from here, using loader, self.model, self.loss_fn.\n",
        "    '''\n",
        "\n",
        "hidden_size = 128\n",
        "model = Seq2seq(tokenizer_src.vocab_size, tokenizer_tgt.vocab_size, hidden_size)\n",
        "optimizer = torch.optim.Adam(model.parameters(), lr=1e-3)\n",
        "loss_fn = nll_loss\n",
        "train_loader = DataLoader(train_set, batch_size=64, shuffle=True, collate_fn=pack_collate)\n",
        "valid_loader = DataLoader(valid_set, batch_size=128, shuffle=False, collate_fn=pack_collate)\n",
        "device = 'cuda'\n",
        "\n",
        "trainer = Trainer(model, optimizer, loss_fn, train_loader, valid_loader, device)\n"
      ]
    },
    {
      "cell_type": "code",
      "execution_count": null,
      "id": "-zNWE0znYwwf",
      "metadata": {
        "colab": {
          "base_uri": "https://localhost:8080/"
        },
        "id": "-zNWE0znYwwf",
        "outputId": "c80a4226-068c-4d20-d998-6cc63348d693"
      },
      "outputs": [
        {
          "output_type": "stream",
          "name": "stdout",
          "text": [
            "[10.359963417053223, 10.313287734985352, 10.263622283935547, 10.206441879272461, 10.136489868164062, 10.047164916992188, 9.930057525634766, 9.775178909301758, 9.572907447814941, 9.3184232711792, 9.017634391784668, 8.689282417297363, 8.35786247253418, 8.042617797851562, 7.753167629241943, 7.492118835449219, 7.258220672607422, 7.048532962799072, 6.860129356384277, 6.690823554992676, 6.539017677307129, 6.403351306915283, 6.282470703125, 6.174984931945801, 6.079526901245117, 5.994827747344971, 5.9197821617126465, 5.853461742401123, 5.795093536376953, 5.744019031524658, 5.699643611907959, 5.661417484283447, 5.628849506378174, 5.601459503173828, 5.578672409057617, 5.559847354888916, 5.544384956359863, 5.531750679016113, 5.521424770355225, 5.512904167175293, 5.5057172775268555, 5.49946403503418, 5.4938130378723145, 5.488489151000977, 5.483280181884766, 5.478091239929199, 5.47297477722168, 5.468082904815674, 5.463491439819336, 5.458996295928955, 5.4544267654418945, 5.449832916259766, 5.445329666137695, 5.441020488739014, 5.436959266662598, 5.4331254959106445, 5.429429531097412, 5.4257659912109375, 5.422093868255615, 5.418450832366943, 5.4149065017700195, 5.411503314971924, 5.408212184906006, 5.4049296379089355, 5.401577949523926, 5.398151874542236, 5.394686222076416, 5.3912034034729, 5.387701511383057, 5.384198188781738, 5.380713939666748, 5.377253532409668, 5.37380313873291, 5.370333671569824, 5.366819381713867, 5.363255023956299, 5.359652042388916, 5.356027126312256, 5.3523945808410645, 5.348753929138184, 5.345085144042969, 5.341372966766357, 5.337623119354248, 5.333868980407715, 5.330146789550781, 5.326449394226074, 5.322743892669678, 5.318997859954834, 5.3151960372924805, 5.311343193054199, 5.307466506958008, 5.303586959838867, 5.299708843231201, 5.295834064483643, 5.291963577270508, 5.288084030151367, 5.284177780151367, 5.280236721038818, 5.276272296905518, 5.272297382354736]\n"
          ]
        }
      ],
      "source": [
        "loss_records = []\n",
        "\n",
        "for i in range(100):\n",
        "  loss = trainer._train_by_single_batch(batch)\n",
        "  loss_records.append(loss)\n",
        "print(loss_records)"
      ]
    },
    {
      "cell_type": "code",
      "execution_count": null,
      "id": "mQx4K_3DZS-I",
      "metadata": {
        "colab": {
          "base_uri": "https://localhost:8080/",
          "height": 81,
          "referenced_widgets": [
            "7e0c64845c244720b529a238fb7f03fc",
            "2ce4571ca8c3486db82cf5111b49b979",
            "d01cea5d86be431fa519656159469c88",
            "50f476d7d8e84e8a81539a9a3549c1d4",
            "601a23ba484145af8eec1946779a53d8",
            "0eb7936f98394185a72a8eb807798fe4",
            "4f4102090d5d4f079c0a23a218648049",
            "87be8f11d7304eea98f48b2f49448a24",
            "e718ea3aae714c89aaee1f1f79374cab",
            "4d0a96248ad549d6989d9cc4a58bc10f",
            "ccdb06e71d874d1f8210776f1f74ea28",
            "5daec47eff3040788002690b9d9ff559",
            "fa45e83d15cb442fb7890f9ccedac956",
            "a1f02abecc824b7b9f94ba2546ea7041",
            "3e01a4e4ef104f42a255d072e865d0ec",
            "496ec14697464ddf922fb72560efeabc",
            "bb4843917abc42d68b3df2fbb3d90519",
            "29011e908581492ebcb84b39c77fcc06",
            "91e2fea28b8e4386903bd5dbd39c9a2f",
            "f63757eee857429c83bf8bba81a36ff6",
            "c202c1da2c3549b1b759e9bc8609ffcd",
            "11f296f0327c43378b8e2cca2ac83ce8"
          ]
        },
        "id": "mQx4K_3DZS-I",
        "outputId": "efdf1f48-9588-49c3-9b80-c6e4a1cdb54d"
      },
      "outputs": [
        {
          "data": {
            "application/vnd.jupyter.widget-view+json": {
              "model_id": "7e0c64845c244720b529a238fb7f03fc",
              "version_major": 2,
              "version_minor": 0
            },
            "text/plain": [
              "  0%|          | 0/1 [00:00<?, ?it/s]"
            ]
          },
          "metadata": {},
          "output_type": "display_data"
        },
        {
          "data": {
            "application/vnd.jupyter.widget-view+json": {
              "model_id": "5daec47eff3040788002690b9d9ff559",
              "version_major": 2,
              "version_minor": 0
            },
            "text/plain": [
              "  0%|          | 0/160000 [00:00<?, ?it/s]"
            ]
          },
          "metadata": {},
          "output_type": "display_data"
        }
      ],
      "source": [
        "trainer.train_by_num_epoch(1)"
      ]
    },
    {
      "cell_type": "markdown",
      "id": "4a1eeaf7",
      "metadata": {
        "id": "4a1eeaf7"
      },
      "source": [
        "- You can download pre-trained weight"
      ]
    },
    {
      "cell_type": "code",
      "execution_count": null,
      "id": "d79bbee3",
      "metadata": {
        "id": "d79bbee3",
        "colab": {
          "base_uri": "https://localhost:8080/"
        },
        "outputId": "25e87023-fac9-4d32-f5a7-245a6f691ef7"
      },
      "outputs": [
        {
          "output_type": "stream",
          "name": "stdout",
          "text": [
            "Downloading...\n",
            "From: https://drive.google.com/uc?id=15jL2TaRk6Q47uuPWDruUge6O_gCPv5mp\n",
            "To: /content/kor_eng_translator_model_vanilla_best.pt\n",
            "100% 704M/704M [00:09<00:00, 78.0MB/s]\n"
          ]
        }
      ],
      "source": [
        "# !gdown 127OoPv8-lF5TWeNCq9PNa8igyGQnR-Pe\n",
        "!gdown 15jL2TaRk6Q47uuPWDruUge6O_gCPv5mp"
      ]
    },
    {
      "cell_type": "code",
      "source": [
        "import torch"
      ],
      "metadata": {
        "id": "luIbc92ui73D"
      },
      "id": "luIbc92ui73D",
      "execution_count": null,
      "outputs": []
    },
    {
      "cell_type": "code",
      "source": [
        "state_dict = torch.load(\"kor_eng_translator_model_vanilla_best.pt\")"
      ],
      "metadata": {
        "id": "YvQCKX1xR5hl"
      },
      "id": "YvQCKX1xR5hl",
      "execution_count": null,
      "outputs": []
    },
    {
      "cell_type": "code",
      "execution_count": null,
      "id": "1916a074",
      "metadata": {
        "id": "1916a074",
        "colab": {
          "base_uri": "https://localhost:8080/"
        },
        "outputId": "f8eafc4a-2b22-42a8-da3b-0703a80f0fe9"
      },
      "outputs": [
        {
          "output_type": "execute_result",
          "data": {
            "text/plain": [
              "<All keys matched successfully>"
            ]
          },
          "metadata": {},
          "execution_count": 12
        }
      ],
      "source": [
        "hidden_size = 512\n",
        "model = Seq2seq(tokenizer_src.vocab_size, tokenizer_tgt.vocab_size, hidden_size, num_layers=3)\n",
        "\n",
        "model.load_state_dict(state_dict['model'])"
      ]
    },
    {
      "cell_type": "code",
      "source": [
        "class Translator:\n",
        "  def __init__(self, model, src_tokenizer, tgt_tokenizer):\n",
        "    self.model = model\n",
        "    self.src_tokenizer = src_tokenizer\n",
        "    self.tgt_tokenizer = tgt_tokenizer\n",
        "\n",
        "    self.model.eval()\n",
        "    self.model.cpu()\n",
        "\n",
        "    self.start_token_idx = 2\n",
        "    self.end_token_idx = 3\n",
        "\n",
        "  def __call__(self, astr):\n",
        "    encoded_tokens = self.src_tokenizer.encode(astr)\n",
        "    encoded_tokens = torch.tensor(encoded_tokens, dtype=torch.long)\n",
        "\n",
        "    # run models encoder to get encoder out\n",
        "    enc_out = model.encoder(encoded_tokens)\n",
        "    # run decoder one-by-one\n",
        "    current_token = torch.tensor([self.start_token_idx]) # start of the sentence token\n",
        "    prev_hidden = enc_out\n",
        "    outputs = []\n",
        "    for i in range(50):\n",
        "      emb = self.model.decoder.emb(current_token)\n",
        "      dec_out, cur_hidden = self.model.decoder.rnn(emb, prev_hidden)\n",
        "      logit = self.model.decoder.proj(dec_out)\n",
        "      selected_token_idx = torch.argmax(logit, dim=-1)\n",
        "\n",
        "      # check the generated token is <end> token\n",
        "      if selected_token_idx.squeeze().item() == self.end_token_idx:\n",
        "        break\n",
        "\n",
        "      # update information\n",
        "      current_token = selected_token_idx\n",
        "      prev_hidden = cur_hidden\n",
        "      outputs.append(current_token.item())\n",
        "\n",
        "    return self.tgt_tokenizer.decode(outputs)\n",
        "\n",
        "translator = Translator(model, tokenizer_src, tokenizer_tgt)\n",
        "translator('이 모델은 한국어 문장을 영어로 번역합니다')"
      ],
      "metadata": {
        "id": "i9IHZNrcSmnz",
        "outputId": "f8cda94b-60fa-431e-9263-16212b7dcf72",
        "colab": {
          "base_uri": "https://localhost:8080/",
          "height": 36
        }
      },
      "id": "i9IHZNrcSmnz",
      "execution_count": null,
      "outputs": [
        {
          "output_type": "execute_result",
          "data": {
            "text/plain": [
              "'this model is translated into korean in english.'"
            ],
            "application/vnd.google.colaboratory.intrinsic+json": {
              "type": "string"
            }
          },
          "metadata": {},
          "execution_count": 15
        }
      ]
    },
    {
      "cell_type": "code",
      "source": [
        "tokenizer_src.encode('나는 수업을 듣고 있습니다')"
      ],
      "metadata": {
        "id": "qU0XjE2YTBnb",
        "outputId": "153e695c-62be-4f33-baa6-de9c1e46f8c8",
        "colab": {
          "base_uri": "https://localhost:8080/"
        }
      },
      "id": "qU0XjE2YTBnb",
      "execution_count": null,
      "outputs": [
        {
          "output_type": "execute_result",
          "data": {
            "text/plain": [
              "[2, 6481, 10499, 9414, 6507, 3]"
            ]
          },
          "metadata": {},
          "execution_count": 43
        }
      ]
    }
  ],
  "metadata": {
    "accelerator": "GPU",
    "colab": {
      "gpuType": "T4",
      "provenance": [],
      "include_colab_link": true
    },
    "gpuClass": "standard",
    "kernelspec": {
      "display_name": "Python 3 (ipykernel)",
      "language": "python",
      "name": "python3"
    },
    "language_info": {
      "codemirror_mode": {
        "name": "ipython",
        "version": 3
      },
      "file_extension": ".py",
      "mimetype": "text/x-python",
      "name": "python",
      "nbconvert_exporter": "python",
      "pygments_lexer": "ipython3",
      "version": "3.8.13"
    },
    "widgets": {
      "application/vnd.jupyter.widget-state+json": {
        "0eb7936f98394185a72a8eb807798fe4": {
          "model_module": "@jupyter-widgets/base",
          "model_module_version": "1.2.0",
          "model_name": "LayoutModel",
          "state": {
            "_model_module": "@jupyter-widgets/base",
            "_model_module_version": "1.2.0",
            "_model_name": "LayoutModel",
            "_view_count": null,
            "_view_module": "@jupyter-widgets/base",
            "_view_module_version": "1.2.0",
            "_view_name": "LayoutView",
            "align_content": null,
            "align_items": null,
            "align_self": null,
            "border": null,
            "bottom": null,
            "display": null,
            "flex": null,
            "flex_flow": null,
            "grid_area": null,
            "grid_auto_columns": null,
            "grid_auto_flow": null,
            "grid_auto_rows": null,
            "grid_column": null,
            "grid_gap": null,
            "grid_row": null,
            "grid_template_areas": null,
            "grid_template_columns": null,
            "grid_template_rows": null,
            "height": null,
            "justify_content": null,
            "justify_items": null,
            "left": null,
            "margin": null,
            "max_height": null,
            "max_width": null,
            "min_height": null,
            "min_width": null,
            "object_fit": null,
            "object_position": null,
            "order": null,
            "overflow": null,
            "overflow_x": null,
            "overflow_y": null,
            "padding": null,
            "right": null,
            "top": null,
            "visibility": null,
            "width": null
          }
        },
        "11f296f0327c43378b8e2cca2ac83ce8": {
          "model_module": "@jupyter-widgets/controls",
          "model_module_version": "1.5.0",
          "model_name": "DescriptionStyleModel",
          "state": {
            "_model_module": "@jupyter-widgets/controls",
            "_model_module_version": "1.5.0",
            "_model_name": "DescriptionStyleModel",
            "_view_count": null,
            "_view_module": "@jupyter-widgets/base",
            "_view_module_version": "1.2.0",
            "_view_name": "StyleView",
            "description_width": ""
          }
        },
        "29011e908581492ebcb84b39c77fcc06": {
          "model_module": "@jupyter-widgets/controls",
          "model_module_version": "1.5.0",
          "model_name": "DescriptionStyleModel",
          "state": {
            "_model_module": "@jupyter-widgets/controls",
            "_model_module_version": "1.5.0",
            "_model_name": "DescriptionStyleModel",
            "_view_count": null,
            "_view_module": "@jupyter-widgets/base",
            "_view_module_version": "1.2.0",
            "_view_name": "StyleView",
            "description_width": ""
          }
        },
        "2ce4571ca8c3486db82cf5111b49b979": {
          "model_module": "@jupyter-widgets/controls",
          "model_module_version": "1.5.0",
          "model_name": "HTMLModel",
          "state": {
            "_dom_classes": [],
            "_model_module": "@jupyter-widgets/controls",
            "_model_module_version": "1.5.0",
            "_model_name": "HTMLModel",
            "_view_count": null,
            "_view_module": "@jupyter-widgets/controls",
            "_view_module_version": "1.5.0",
            "_view_name": "HTMLView",
            "description": "",
            "description_tooltip": null,
            "layout": "IPY_MODEL_0eb7936f98394185a72a8eb807798fe4",
            "placeholder": "​",
            "style": "IPY_MODEL_4f4102090d5d4f079c0a23a218648049",
            "value": "  0%"
          }
        },
        "3e01a4e4ef104f42a255d072e865d0ec": {
          "model_module": "@jupyter-widgets/controls",
          "model_module_version": "1.5.0",
          "model_name": "HTMLModel",
          "state": {
            "_dom_classes": [],
            "_model_module": "@jupyter-widgets/controls",
            "_model_module_version": "1.5.0",
            "_model_name": "HTMLModel",
            "_view_count": null,
            "_view_module": "@jupyter-widgets/controls",
            "_view_module_version": "1.5.0",
            "_view_name": "HTMLView",
            "description": "",
            "description_tooltip": null,
            "layout": "IPY_MODEL_c202c1da2c3549b1b759e9bc8609ffcd",
            "placeholder": "​",
            "style": "IPY_MODEL_11f296f0327c43378b8e2cca2ac83ce8",
            "value": " 14326/160000 [02:02&lt;19:28, 124.68it/s]"
          }
        },
        "496ec14697464ddf922fb72560efeabc": {
          "model_module": "@jupyter-widgets/base",
          "model_module_version": "1.2.0",
          "model_name": "LayoutModel",
          "state": {
            "_model_module": "@jupyter-widgets/base",
            "_model_module_version": "1.2.0",
            "_model_name": "LayoutModel",
            "_view_count": null,
            "_view_module": "@jupyter-widgets/base",
            "_view_module_version": "1.2.0",
            "_view_name": "LayoutView",
            "align_content": null,
            "align_items": null,
            "align_self": null,
            "border": null,
            "bottom": null,
            "display": null,
            "flex": null,
            "flex_flow": null,
            "grid_area": null,
            "grid_auto_columns": null,
            "grid_auto_flow": null,
            "grid_auto_rows": null,
            "grid_column": null,
            "grid_gap": null,
            "grid_row": null,
            "grid_template_areas": null,
            "grid_template_columns": null,
            "grid_template_rows": null,
            "height": null,
            "justify_content": null,
            "justify_items": null,
            "left": null,
            "margin": null,
            "max_height": null,
            "max_width": null,
            "min_height": null,
            "min_width": null,
            "object_fit": null,
            "object_position": null,
            "order": null,
            "overflow": null,
            "overflow_x": null,
            "overflow_y": null,
            "padding": null,
            "right": null,
            "top": null,
            "visibility": null,
            "width": null
          }
        },
        "4d0a96248ad549d6989d9cc4a58bc10f": {
          "model_module": "@jupyter-widgets/base",
          "model_module_version": "1.2.0",
          "model_name": "LayoutModel",
          "state": {
            "_model_module": "@jupyter-widgets/base",
            "_model_module_version": "1.2.0",
            "_model_name": "LayoutModel",
            "_view_count": null,
            "_view_module": "@jupyter-widgets/base",
            "_view_module_version": "1.2.0",
            "_view_name": "LayoutView",
            "align_content": null,
            "align_items": null,
            "align_self": null,
            "border": null,
            "bottom": null,
            "display": null,
            "flex": null,
            "flex_flow": null,
            "grid_area": null,
            "grid_auto_columns": null,
            "grid_auto_flow": null,
            "grid_auto_rows": null,
            "grid_column": null,
            "grid_gap": null,
            "grid_row": null,
            "grid_template_areas": null,
            "grid_template_columns": null,
            "grid_template_rows": null,
            "height": null,
            "justify_content": null,
            "justify_items": null,
            "left": null,
            "margin": null,
            "max_height": null,
            "max_width": null,
            "min_height": null,
            "min_width": null,
            "object_fit": null,
            "object_position": null,
            "order": null,
            "overflow": null,
            "overflow_x": null,
            "overflow_y": null,
            "padding": null,
            "right": null,
            "top": null,
            "visibility": null,
            "width": null
          }
        },
        "4f4102090d5d4f079c0a23a218648049": {
          "model_module": "@jupyter-widgets/controls",
          "model_module_version": "1.5.0",
          "model_name": "DescriptionStyleModel",
          "state": {
            "_model_module": "@jupyter-widgets/controls",
            "_model_module_version": "1.5.0",
            "_model_name": "DescriptionStyleModel",
            "_view_count": null,
            "_view_module": "@jupyter-widgets/base",
            "_view_module_version": "1.2.0",
            "_view_name": "StyleView",
            "description_width": ""
          }
        },
        "50f476d7d8e84e8a81539a9a3549c1d4": {
          "model_module": "@jupyter-widgets/controls",
          "model_module_version": "1.5.0",
          "model_name": "HTMLModel",
          "state": {
            "_dom_classes": [],
            "_model_module": "@jupyter-widgets/controls",
            "_model_module_version": "1.5.0",
            "_model_name": "HTMLModel",
            "_view_count": null,
            "_view_module": "@jupyter-widgets/controls",
            "_view_module_version": "1.5.0",
            "_view_name": "HTMLView",
            "description": "",
            "description_tooltip": null,
            "layout": "IPY_MODEL_4d0a96248ad549d6989d9cc4a58bc10f",
            "placeholder": "​",
            "style": "IPY_MODEL_ccdb06e71d874d1f8210776f1f74ea28",
            "value": " 0/1 [00:00&lt;?, ?it/s]"
          }
        },
        "5daec47eff3040788002690b9d9ff559": {
          "model_module": "@jupyter-widgets/controls",
          "model_module_version": "1.5.0",
          "model_name": "HBoxModel",
          "state": {
            "_dom_classes": [],
            "_model_module": "@jupyter-widgets/controls",
            "_model_module_version": "1.5.0",
            "_model_name": "HBoxModel",
            "_view_count": null,
            "_view_module": "@jupyter-widgets/controls",
            "_view_module_version": "1.5.0",
            "_view_name": "HBoxView",
            "box_style": "",
            "children": [
              "IPY_MODEL_fa45e83d15cb442fb7890f9ccedac956",
              "IPY_MODEL_a1f02abecc824b7b9f94ba2546ea7041",
              "IPY_MODEL_3e01a4e4ef104f42a255d072e865d0ec"
            ],
            "layout": "IPY_MODEL_496ec14697464ddf922fb72560efeabc"
          }
        },
        "601a23ba484145af8eec1946779a53d8": {
          "model_module": "@jupyter-widgets/base",
          "model_module_version": "1.2.0",
          "model_name": "LayoutModel",
          "state": {
            "_model_module": "@jupyter-widgets/base",
            "_model_module_version": "1.2.0",
            "_model_name": "LayoutModel",
            "_view_count": null,
            "_view_module": "@jupyter-widgets/base",
            "_view_module_version": "1.2.0",
            "_view_name": "LayoutView",
            "align_content": null,
            "align_items": null,
            "align_self": null,
            "border": null,
            "bottom": null,
            "display": null,
            "flex": null,
            "flex_flow": null,
            "grid_area": null,
            "grid_auto_columns": null,
            "grid_auto_flow": null,
            "grid_auto_rows": null,
            "grid_column": null,
            "grid_gap": null,
            "grid_row": null,
            "grid_template_areas": null,
            "grid_template_columns": null,
            "grid_template_rows": null,
            "height": null,
            "justify_content": null,
            "justify_items": null,
            "left": null,
            "margin": null,
            "max_height": null,
            "max_width": null,
            "min_height": null,
            "min_width": null,
            "object_fit": null,
            "object_position": null,
            "order": null,
            "overflow": null,
            "overflow_x": null,
            "overflow_y": null,
            "padding": null,
            "right": null,
            "top": null,
            "visibility": null,
            "width": null
          }
        },
        "7e0c64845c244720b529a238fb7f03fc": {
          "model_module": "@jupyter-widgets/controls",
          "model_module_version": "1.5.0",
          "model_name": "HBoxModel",
          "state": {
            "_dom_classes": [],
            "_model_module": "@jupyter-widgets/controls",
            "_model_module_version": "1.5.0",
            "_model_name": "HBoxModel",
            "_view_count": null,
            "_view_module": "@jupyter-widgets/controls",
            "_view_module_version": "1.5.0",
            "_view_name": "HBoxView",
            "box_style": "",
            "children": [
              "IPY_MODEL_2ce4571ca8c3486db82cf5111b49b979",
              "IPY_MODEL_d01cea5d86be431fa519656159469c88",
              "IPY_MODEL_50f476d7d8e84e8a81539a9a3549c1d4"
            ],
            "layout": "IPY_MODEL_601a23ba484145af8eec1946779a53d8"
          }
        },
        "87be8f11d7304eea98f48b2f49448a24": {
          "model_module": "@jupyter-widgets/base",
          "model_module_version": "1.2.0",
          "model_name": "LayoutModel",
          "state": {
            "_model_module": "@jupyter-widgets/base",
            "_model_module_version": "1.2.0",
            "_model_name": "LayoutModel",
            "_view_count": null,
            "_view_module": "@jupyter-widgets/base",
            "_view_module_version": "1.2.0",
            "_view_name": "LayoutView",
            "align_content": null,
            "align_items": null,
            "align_self": null,
            "border": null,
            "bottom": null,
            "display": null,
            "flex": null,
            "flex_flow": null,
            "grid_area": null,
            "grid_auto_columns": null,
            "grid_auto_flow": null,
            "grid_auto_rows": null,
            "grid_column": null,
            "grid_gap": null,
            "grid_row": null,
            "grid_template_areas": null,
            "grid_template_columns": null,
            "grid_template_rows": null,
            "height": null,
            "justify_content": null,
            "justify_items": null,
            "left": null,
            "margin": null,
            "max_height": null,
            "max_width": null,
            "min_height": null,
            "min_width": null,
            "object_fit": null,
            "object_position": null,
            "order": null,
            "overflow": null,
            "overflow_x": null,
            "overflow_y": null,
            "padding": null,
            "right": null,
            "top": null,
            "visibility": null,
            "width": null
          }
        },
        "91e2fea28b8e4386903bd5dbd39c9a2f": {
          "model_module": "@jupyter-widgets/base",
          "model_module_version": "1.2.0",
          "model_name": "LayoutModel",
          "state": {
            "_model_module": "@jupyter-widgets/base",
            "_model_module_version": "1.2.0",
            "_model_name": "LayoutModel",
            "_view_count": null,
            "_view_module": "@jupyter-widgets/base",
            "_view_module_version": "1.2.0",
            "_view_name": "LayoutView",
            "align_content": null,
            "align_items": null,
            "align_self": null,
            "border": null,
            "bottom": null,
            "display": null,
            "flex": null,
            "flex_flow": null,
            "grid_area": null,
            "grid_auto_columns": null,
            "grid_auto_flow": null,
            "grid_auto_rows": null,
            "grid_column": null,
            "grid_gap": null,
            "grid_row": null,
            "grid_template_areas": null,
            "grid_template_columns": null,
            "grid_template_rows": null,
            "height": null,
            "justify_content": null,
            "justify_items": null,
            "left": null,
            "margin": null,
            "max_height": null,
            "max_width": null,
            "min_height": null,
            "min_width": null,
            "object_fit": null,
            "object_position": null,
            "order": null,
            "overflow": null,
            "overflow_x": null,
            "overflow_y": null,
            "padding": null,
            "right": null,
            "top": null,
            "visibility": null,
            "width": null
          }
        },
        "a1f02abecc824b7b9f94ba2546ea7041": {
          "model_module": "@jupyter-widgets/controls",
          "model_module_version": "1.5.0",
          "model_name": "FloatProgressModel",
          "state": {
            "_dom_classes": [],
            "_model_module": "@jupyter-widgets/controls",
            "_model_module_version": "1.5.0",
            "_model_name": "FloatProgressModel",
            "_view_count": null,
            "_view_module": "@jupyter-widgets/controls",
            "_view_module_version": "1.5.0",
            "_view_name": "ProgressView",
            "bar_style": "",
            "description": "",
            "description_tooltip": null,
            "layout": "IPY_MODEL_91e2fea28b8e4386903bd5dbd39c9a2f",
            "max": 160000,
            "min": 0,
            "orientation": "horizontal",
            "style": "IPY_MODEL_f63757eee857429c83bf8bba81a36ff6",
            "value": 14326
          }
        },
        "bb4843917abc42d68b3df2fbb3d90519": {
          "model_module": "@jupyter-widgets/base",
          "model_module_version": "1.2.0",
          "model_name": "LayoutModel",
          "state": {
            "_model_module": "@jupyter-widgets/base",
            "_model_module_version": "1.2.0",
            "_model_name": "LayoutModel",
            "_view_count": null,
            "_view_module": "@jupyter-widgets/base",
            "_view_module_version": "1.2.0",
            "_view_name": "LayoutView",
            "align_content": null,
            "align_items": null,
            "align_self": null,
            "border": null,
            "bottom": null,
            "display": null,
            "flex": null,
            "flex_flow": null,
            "grid_area": null,
            "grid_auto_columns": null,
            "grid_auto_flow": null,
            "grid_auto_rows": null,
            "grid_column": null,
            "grid_gap": null,
            "grid_row": null,
            "grid_template_areas": null,
            "grid_template_columns": null,
            "grid_template_rows": null,
            "height": null,
            "justify_content": null,
            "justify_items": null,
            "left": null,
            "margin": null,
            "max_height": null,
            "max_width": null,
            "min_height": null,
            "min_width": null,
            "object_fit": null,
            "object_position": null,
            "order": null,
            "overflow": null,
            "overflow_x": null,
            "overflow_y": null,
            "padding": null,
            "right": null,
            "top": null,
            "visibility": null,
            "width": null
          }
        },
        "c202c1da2c3549b1b759e9bc8609ffcd": {
          "model_module": "@jupyter-widgets/base",
          "model_module_version": "1.2.0",
          "model_name": "LayoutModel",
          "state": {
            "_model_module": "@jupyter-widgets/base",
            "_model_module_version": "1.2.0",
            "_model_name": "LayoutModel",
            "_view_count": null,
            "_view_module": "@jupyter-widgets/base",
            "_view_module_version": "1.2.0",
            "_view_name": "LayoutView",
            "align_content": null,
            "align_items": null,
            "align_self": null,
            "border": null,
            "bottom": null,
            "display": null,
            "flex": null,
            "flex_flow": null,
            "grid_area": null,
            "grid_auto_columns": null,
            "grid_auto_flow": null,
            "grid_auto_rows": null,
            "grid_column": null,
            "grid_gap": null,
            "grid_row": null,
            "grid_template_areas": null,
            "grid_template_columns": null,
            "grid_template_rows": null,
            "height": null,
            "justify_content": null,
            "justify_items": null,
            "left": null,
            "margin": null,
            "max_height": null,
            "max_width": null,
            "min_height": null,
            "min_width": null,
            "object_fit": null,
            "object_position": null,
            "order": null,
            "overflow": null,
            "overflow_x": null,
            "overflow_y": null,
            "padding": null,
            "right": null,
            "top": null,
            "visibility": null,
            "width": null
          }
        },
        "ccdb06e71d874d1f8210776f1f74ea28": {
          "model_module": "@jupyter-widgets/controls",
          "model_module_version": "1.5.0",
          "model_name": "DescriptionStyleModel",
          "state": {
            "_model_module": "@jupyter-widgets/controls",
            "_model_module_version": "1.5.0",
            "_model_name": "DescriptionStyleModel",
            "_view_count": null,
            "_view_module": "@jupyter-widgets/base",
            "_view_module_version": "1.2.0",
            "_view_name": "StyleView",
            "description_width": ""
          }
        },
        "d01cea5d86be431fa519656159469c88": {
          "model_module": "@jupyter-widgets/controls",
          "model_module_version": "1.5.0",
          "model_name": "FloatProgressModel",
          "state": {
            "_dom_classes": [],
            "_model_module": "@jupyter-widgets/controls",
            "_model_module_version": "1.5.0",
            "_model_name": "FloatProgressModel",
            "_view_count": null,
            "_view_module": "@jupyter-widgets/controls",
            "_view_module_version": "1.5.0",
            "_view_name": "ProgressView",
            "bar_style": "",
            "description": "",
            "description_tooltip": null,
            "layout": "IPY_MODEL_87be8f11d7304eea98f48b2f49448a24",
            "max": 1,
            "min": 0,
            "orientation": "horizontal",
            "style": "IPY_MODEL_e718ea3aae714c89aaee1f1f79374cab",
            "value": 0
          }
        },
        "e718ea3aae714c89aaee1f1f79374cab": {
          "model_module": "@jupyter-widgets/controls",
          "model_module_version": "1.5.0",
          "model_name": "ProgressStyleModel",
          "state": {
            "_model_module": "@jupyter-widgets/controls",
            "_model_module_version": "1.5.0",
            "_model_name": "ProgressStyleModel",
            "_view_count": null,
            "_view_module": "@jupyter-widgets/base",
            "_view_module_version": "1.2.0",
            "_view_name": "StyleView",
            "bar_color": null,
            "description_width": ""
          }
        },
        "f63757eee857429c83bf8bba81a36ff6": {
          "model_module": "@jupyter-widgets/controls",
          "model_module_version": "1.5.0",
          "model_name": "ProgressStyleModel",
          "state": {
            "_model_module": "@jupyter-widgets/controls",
            "_model_module_version": "1.5.0",
            "_model_name": "ProgressStyleModel",
            "_view_count": null,
            "_view_module": "@jupyter-widgets/base",
            "_view_module_version": "1.2.0",
            "_view_name": "StyleView",
            "bar_color": null,
            "description_width": ""
          }
        },
        "fa45e83d15cb442fb7890f9ccedac956": {
          "model_module": "@jupyter-widgets/controls",
          "model_module_version": "1.5.0",
          "model_name": "HTMLModel",
          "state": {
            "_dom_classes": [],
            "_model_module": "@jupyter-widgets/controls",
            "_model_module_version": "1.5.0",
            "_model_name": "HTMLModel",
            "_view_count": null,
            "_view_module": "@jupyter-widgets/controls",
            "_view_module_version": "1.5.0",
            "_view_name": "HTMLView",
            "description": "",
            "description_tooltip": null,
            "layout": "IPY_MODEL_bb4843917abc42d68b3df2fbb3d90519",
            "placeholder": "​",
            "style": "IPY_MODEL_29011e908581492ebcb84b39c77fcc06",
            "value": "  9%"
          }
        },
        "4f87ead7c95a4c448c6bbddd3d4b57f8": {
          "model_module": "@jupyter-widgets/controls",
          "model_name": "HBoxModel",
          "model_module_version": "1.5.0",
          "state": {
            "_dom_classes": [],
            "_model_module": "@jupyter-widgets/controls",
            "_model_module_version": "1.5.0",
            "_model_name": "HBoxModel",
            "_view_count": null,
            "_view_module": "@jupyter-widgets/controls",
            "_view_module_version": "1.5.0",
            "_view_name": "HBoxView",
            "box_style": "",
            "children": [
              "IPY_MODEL_a448e4343b9947cca6d201589e533219",
              "IPY_MODEL_5734b35a84b14229bffa035f3bcae21c",
              "IPY_MODEL_dd1dd20a02a44e64a03d962098a78768"
            ],
            "layout": "IPY_MODEL_92874f7b7b2a49a09ffd3e17172819aa"
          }
        },
        "a448e4343b9947cca6d201589e533219": {
          "model_module": "@jupyter-widgets/controls",
          "model_name": "HTMLModel",
          "model_module_version": "1.5.0",
          "state": {
            "_dom_classes": [],
            "_model_module": "@jupyter-widgets/controls",
            "_model_module_version": "1.5.0",
            "_model_name": "HTMLModel",
            "_view_count": null,
            "_view_module": "@jupyter-widgets/controls",
            "_view_module_version": "1.5.0",
            "_view_name": "HTMLView",
            "description": "",
            "description_tooltip": null,
            "layout": "IPY_MODEL_562b9600d99e409ebf1d59c87864cd62",
            "placeholder": "​",
            "style": "IPY_MODEL_117e554658a84176b2838ba2722c961d",
            "value": "  1%"
          }
        },
        "5734b35a84b14229bffa035f3bcae21c": {
          "model_module": "@jupyter-widgets/controls",
          "model_name": "FloatProgressModel",
          "model_module_version": "1.5.0",
          "state": {
            "_dom_classes": [],
            "_model_module": "@jupyter-widgets/controls",
            "_model_module_version": "1.5.0",
            "_model_name": "FloatProgressModel",
            "_view_count": null,
            "_view_module": "@jupyter-widgets/controls",
            "_view_module_version": "1.5.0",
            "_view_name": "ProgressView",
            "bar_style": "danger",
            "description": "",
            "description_tooltip": null,
            "layout": "IPY_MODEL_44ea97c1501543d6b107031cd9279e94",
            "max": 12819,
            "min": 0,
            "orientation": "horizontal",
            "style": "IPY_MODEL_1db603a7b22248e5a33bf3e72ad594a8",
            "value": 136
          }
        },
        "dd1dd20a02a44e64a03d962098a78768": {
          "model_module": "@jupyter-widgets/controls",
          "model_name": "HTMLModel",
          "model_module_version": "1.5.0",
          "state": {
            "_dom_classes": [],
            "_model_module": "@jupyter-widgets/controls",
            "_model_module_version": "1.5.0",
            "_model_name": "HTMLModel",
            "_view_count": null,
            "_view_module": "@jupyter-widgets/controls",
            "_view_module_version": "1.5.0",
            "_view_name": "HTMLView",
            "description": "",
            "description_tooltip": null,
            "layout": "IPY_MODEL_2ff76a839ba64471bcd0c9320baf0c10",
            "placeholder": "​",
            "style": "IPY_MODEL_f57cb2218d3748d1809286f5fa78fccc",
            "value": " 136/12819 [00:01&lt;01:40, 125.89it/s]"
          }
        },
        "92874f7b7b2a49a09ffd3e17172819aa": {
          "model_module": "@jupyter-widgets/base",
          "model_name": "LayoutModel",
          "model_module_version": "1.2.0",
          "state": {
            "_model_module": "@jupyter-widgets/base",
            "_model_module_version": "1.2.0",
            "_model_name": "LayoutModel",
            "_view_count": null,
            "_view_module": "@jupyter-widgets/base",
            "_view_module_version": "1.2.0",
            "_view_name": "LayoutView",
            "align_content": null,
            "align_items": null,
            "align_self": null,
            "border": null,
            "bottom": null,
            "display": null,
            "flex": null,
            "flex_flow": null,
            "grid_area": null,
            "grid_auto_columns": null,
            "grid_auto_flow": null,
            "grid_auto_rows": null,
            "grid_column": null,
            "grid_gap": null,
            "grid_row": null,
            "grid_template_areas": null,
            "grid_template_columns": null,
            "grid_template_rows": null,
            "height": null,
            "justify_content": null,
            "justify_items": null,
            "left": null,
            "margin": null,
            "max_height": null,
            "max_width": null,
            "min_height": null,
            "min_width": null,
            "object_fit": null,
            "object_position": null,
            "order": null,
            "overflow": null,
            "overflow_x": null,
            "overflow_y": null,
            "padding": null,
            "right": null,
            "top": null,
            "visibility": null,
            "width": null
          }
        },
        "562b9600d99e409ebf1d59c87864cd62": {
          "model_module": "@jupyter-widgets/base",
          "model_name": "LayoutModel",
          "model_module_version": "1.2.0",
          "state": {
            "_model_module": "@jupyter-widgets/base",
            "_model_module_version": "1.2.0",
            "_model_name": "LayoutModel",
            "_view_count": null,
            "_view_module": "@jupyter-widgets/base",
            "_view_module_version": "1.2.0",
            "_view_name": "LayoutView",
            "align_content": null,
            "align_items": null,
            "align_self": null,
            "border": null,
            "bottom": null,
            "display": null,
            "flex": null,
            "flex_flow": null,
            "grid_area": null,
            "grid_auto_columns": null,
            "grid_auto_flow": null,
            "grid_auto_rows": null,
            "grid_column": null,
            "grid_gap": null,
            "grid_row": null,
            "grid_template_areas": null,
            "grid_template_columns": null,
            "grid_template_rows": null,
            "height": null,
            "justify_content": null,
            "justify_items": null,
            "left": null,
            "margin": null,
            "max_height": null,
            "max_width": null,
            "min_height": null,
            "min_width": null,
            "object_fit": null,
            "object_position": null,
            "order": null,
            "overflow": null,
            "overflow_x": null,
            "overflow_y": null,
            "padding": null,
            "right": null,
            "top": null,
            "visibility": null,
            "width": null
          }
        },
        "117e554658a84176b2838ba2722c961d": {
          "model_module": "@jupyter-widgets/controls",
          "model_name": "DescriptionStyleModel",
          "model_module_version": "1.5.0",
          "state": {
            "_model_module": "@jupyter-widgets/controls",
            "_model_module_version": "1.5.0",
            "_model_name": "DescriptionStyleModel",
            "_view_count": null,
            "_view_module": "@jupyter-widgets/base",
            "_view_module_version": "1.2.0",
            "_view_name": "StyleView",
            "description_width": ""
          }
        },
        "44ea97c1501543d6b107031cd9279e94": {
          "model_module": "@jupyter-widgets/base",
          "model_name": "LayoutModel",
          "model_module_version": "1.2.0",
          "state": {
            "_model_module": "@jupyter-widgets/base",
            "_model_module_version": "1.2.0",
            "_model_name": "LayoutModel",
            "_view_count": null,
            "_view_module": "@jupyter-widgets/base",
            "_view_module_version": "1.2.0",
            "_view_name": "LayoutView",
            "align_content": null,
            "align_items": null,
            "align_self": null,
            "border": null,
            "bottom": null,
            "display": null,
            "flex": null,
            "flex_flow": null,
            "grid_area": null,
            "grid_auto_columns": null,
            "grid_auto_flow": null,
            "grid_auto_rows": null,
            "grid_column": null,
            "grid_gap": null,
            "grid_row": null,
            "grid_template_areas": null,
            "grid_template_columns": null,
            "grid_template_rows": null,
            "height": null,
            "justify_content": null,
            "justify_items": null,
            "left": null,
            "margin": null,
            "max_height": null,
            "max_width": null,
            "min_height": null,
            "min_width": null,
            "object_fit": null,
            "object_position": null,
            "order": null,
            "overflow": null,
            "overflow_x": null,
            "overflow_y": null,
            "padding": null,
            "right": null,
            "top": null,
            "visibility": null,
            "width": null
          }
        },
        "1db603a7b22248e5a33bf3e72ad594a8": {
          "model_module": "@jupyter-widgets/controls",
          "model_name": "ProgressStyleModel",
          "model_module_version": "1.5.0",
          "state": {
            "_model_module": "@jupyter-widgets/controls",
            "_model_module_version": "1.5.0",
            "_model_name": "ProgressStyleModel",
            "_view_count": null,
            "_view_module": "@jupyter-widgets/base",
            "_view_module_version": "1.2.0",
            "_view_name": "StyleView",
            "bar_color": null,
            "description_width": ""
          }
        },
        "2ff76a839ba64471bcd0c9320baf0c10": {
          "model_module": "@jupyter-widgets/base",
          "model_name": "LayoutModel",
          "model_module_version": "1.2.0",
          "state": {
            "_model_module": "@jupyter-widgets/base",
            "_model_module_version": "1.2.0",
            "_model_name": "LayoutModel",
            "_view_count": null,
            "_view_module": "@jupyter-widgets/base",
            "_view_module_version": "1.2.0",
            "_view_name": "LayoutView",
            "align_content": null,
            "align_items": null,
            "align_self": null,
            "border": null,
            "bottom": null,
            "display": null,
            "flex": null,
            "flex_flow": null,
            "grid_area": null,
            "grid_auto_columns": null,
            "grid_auto_flow": null,
            "grid_auto_rows": null,
            "grid_column": null,
            "grid_gap": null,
            "grid_row": null,
            "grid_template_areas": null,
            "grid_template_columns": null,
            "grid_template_rows": null,
            "height": null,
            "justify_content": null,
            "justify_items": null,
            "left": null,
            "margin": null,
            "max_height": null,
            "max_width": null,
            "min_height": null,
            "min_width": null,
            "object_fit": null,
            "object_position": null,
            "order": null,
            "overflow": null,
            "overflow_x": null,
            "overflow_y": null,
            "padding": null,
            "right": null,
            "top": null,
            "visibility": null,
            "width": null
          }
        },
        "f57cb2218d3748d1809286f5fa78fccc": {
          "model_module": "@jupyter-widgets/controls",
          "model_name": "DescriptionStyleModel",
          "model_module_version": "1.5.0",
          "state": {
            "_model_module": "@jupyter-widgets/controls",
            "_model_module_version": "1.5.0",
            "_model_name": "DescriptionStyleModel",
            "_view_count": null,
            "_view_module": "@jupyter-widgets/base",
            "_view_module_version": "1.2.0",
            "_view_name": "StyleView",
            "description_width": ""
          }
        },
        "e377e2eade2e4d6399d73430df237263": {
          "model_module": "@jupyter-widgets/controls",
          "model_name": "HBoxModel",
          "model_module_version": "1.5.0",
          "state": {
            "_dom_classes": [],
            "_model_module": "@jupyter-widgets/controls",
            "_model_module_version": "1.5.0",
            "_model_name": "HBoxModel",
            "_view_count": null,
            "_view_module": "@jupyter-widgets/controls",
            "_view_module_version": "1.5.0",
            "_view_name": "HBoxView",
            "box_style": "",
            "children": [
              "IPY_MODEL_a695f99cd2e5445daf7c3e03dafbcb89",
              "IPY_MODEL_87165c0467e940b591ece385395a78cd",
              "IPY_MODEL_5c316362d4874968aa9bdd293e863820"
            ],
            "layout": "IPY_MODEL_36b4c93d5709441493ad4f8f8359c8af"
          }
        },
        "a695f99cd2e5445daf7c3e03dafbcb89": {
          "model_module": "@jupyter-widgets/controls",
          "model_name": "HTMLModel",
          "model_module_version": "1.5.0",
          "state": {
            "_dom_classes": [],
            "_model_module": "@jupyter-widgets/controls",
            "_model_module_version": "1.5.0",
            "_model_name": "HTMLModel",
            "_view_count": null,
            "_view_module": "@jupyter-widgets/controls",
            "_view_module_version": "1.5.0",
            "_view_name": "HTMLView",
            "description": "",
            "description_tooltip": null,
            "layout": "IPY_MODEL_f695a43efb7642fd8cf8317b32227a25",
            "placeholder": "​",
            "style": "IPY_MODEL_494bc8febfbe4da6bc6910d4d524da0d",
            "value": "100%"
          }
        },
        "87165c0467e940b591ece385395a78cd": {
          "model_module": "@jupyter-widgets/controls",
          "model_name": "FloatProgressModel",
          "model_module_version": "1.5.0",
          "state": {
            "_dom_classes": [],
            "_model_module": "@jupyter-widgets/controls",
            "_model_module_version": "1.5.0",
            "_model_name": "FloatProgressModel",
            "_view_count": null,
            "_view_module": "@jupyter-widgets/controls",
            "_view_module_version": "1.5.0",
            "_view_name": "ProgressView",
            "bar_style": "success",
            "description": "",
            "description_tooltip": null,
            "layout": "IPY_MODEL_a96c86ff943c467bb3217e9c89afad96",
            "max": 2504,
            "min": 0,
            "orientation": "horizontal",
            "style": "IPY_MODEL_c0f50ce2c805407ab692b57beacdf244",
            "value": 2504
          }
        },
        "5c316362d4874968aa9bdd293e863820": {
          "model_module": "@jupyter-widgets/controls",
          "model_name": "HTMLModel",
          "model_module_version": "1.5.0",
          "state": {
            "_dom_classes": [],
            "_model_module": "@jupyter-widgets/controls",
            "_model_module_version": "1.5.0",
            "_model_name": "HTMLModel",
            "_view_count": null,
            "_view_module": "@jupyter-widgets/controls",
            "_view_module_version": "1.5.0",
            "_view_name": "HTMLView",
            "description": "",
            "description_tooltip": null,
            "layout": "IPY_MODEL_8c95084c8b884be9a281d15d265a5502",
            "placeholder": "​",
            "style": "IPY_MODEL_76d497c2eade4316be44ec3ffa88b051",
            "value": " 2504/2504 [08:40&lt;00:00,  5.50it/s]"
          }
        },
        "36b4c93d5709441493ad4f8f8359c8af": {
          "model_module": "@jupyter-widgets/base",
          "model_name": "LayoutModel",
          "model_module_version": "1.2.0",
          "state": {
            "_model_module": "@jupyter-widgets/base",
            "_model_module_version": "1.2.0",
            "_model_name": "LayoutModel",
            "_view_count": null,
            "_view_module": "@jupyter-widgets/base",
            "_view_module_version": "1.2.0",
            "_view_name": "LayoutView",
            "align_content": null,
            "align_items": null,
            "align_self": null,
            "border": null,
            "bottom": null,
            "display": null,
            "flex": null,
            "flex_flow": null,
            "grid_area": null,
            "grid_auto_columns": null,
            "grid_auto_flow": null,
            "grid_auto_rows": null,
            "grid_column": null,
            "grid_gap": null,
            "grid_row": null,
            "grid_template_areas": null,
            "grid_template_columns": null,
            "grid_template_rows": null,
            "height": null,
            "justify_content": null,
            "justify_items": null,
            "left": null,
            "margin": null,
            "max_height": null,
            "max_width": null,
            "min_height": null,
            "min_width": null,
            "object_fit": null,
            "object_position": null,
            "order": null,
            "overflow": null,
            "overflow_x": null,
            "overflow_y": null,
            "padding": null,
            "right": null,
            "top": null,
            "visibility": null,
            "width": null
          }
        },
        "f695a43efb7642fd8cf8317b32227a25": {
          "model_module": "@jupyter-widgets/base",
          "model_name": "LayoutModel",
          "model_module_version": "1.2.0",
          "state": {
            "_model_module": "@jupyter-widgets/base",
            "_model_module_version": "1.2.0",
            "_model_name": "LayoutModel",
            "_view_count": null,
            "_view_module": "@jupyter-widgets/base",
            "_view_module_version": "1.2.0",
            "_view_name": "LayoutView",
            "align_content": null,
            "align_items": null,
            "align_self": null,
            "border": null,
            "bottom": null,
            "display": null,
            "flex": null,
            "flex_flow": null,
            "grid_area": null,
            "grid_auto_columns": null,
            "grid_auto_flow": null,
            "grid_auto_rows": null,
            "grid_column": null,
            "grid_gap": null,
            "grid_row": null,
            "grid_template_areas": null,
            "grid_template_columns": null,
            "grid_template_rows": null,
            "height": null,
            "justify_content": null,
            "justify_items": null,
            "left": null,
            "margin": null,
            "max_height": null,
            "max_width": null,
            "min_height": null,
            "min_width": null,
            "object_fit": null,
            "object_position": null,
            "order": null,
            "overflow": null,
            "overflow_x": null,
            "overflow_y": null,
            "padding": null,
            "right": null,
            "top": null,
            "visibility": null,
            "width": null
          }
        },
        "494bc8febfbe4da6bc6910d4d524da0d": {
          "model_module": "@jupyter-widgets/controls",
          "model_name": "DescriptionStyleModel",
          "model_module_version": "1.5.0",
          "state": {
            "_model_module": "@jupyter-widgets/controls",
            "_model_module_version": "1.5.0",
            "_model_name": "DescriptionStyleModel",
            "_view_count": null,
            "_view_module": "@jupyter-widgets/base",
            "_view_module_version": "1.2.0",
            "_view_name": "StyleView",
            "description_width": ""
          }
        },
        "a96c86ff943c467bb3217e9c89afad96": {
          "model_module": "@jupyter-widgets/base",
          "model_name": "LayoutModel",
          "model_module_version": "1.2.0",
          "state": {
            "_model_module": "@jupyter-widgets/base",
            "_model_module_version": "1.2.0",
            "_model_name": "LayoutModel",
            "_view_count": null,
            "_view_module": "@jupyter-widgets/base",
            "_view_module_version": "1.2.0",
            "_view_name": "LayoutView",
            "align_content": null,
            "align_items": null,
            "align_self": null,
            "border": null,
            "bottom": null,
            "display": null,
            "flex": null,
            "flex_flow": null,
            "grid_area": null,
            "grid_auto_columns": null,
            "grid_auto_flow": null,
            "grid_auto_rows": null,
            "grid_column": null,
            "grid_gap": null,
            "grid_row": null,
            "grid_template_areas": null,
            "grid_template_columns": null,
            "grid_template_rows": null,
            "height": null,
            "justify_content": null,
            "justify_items": null,
            "left": null,
            "margin": null,
            "max_height": null,
            "max_width": null,
            "min_height": null,
            "min_width": null,
            "object_fit": null,
            "object_position": null,
            "order": null,
            "overflow": null,
            "overflow_x": null,
            "overflow_y": null,
            "padding": null,
            "right": null,
            "top": null,
            "visibility": null,
            "width": null
          }
        },
        "c0f50ce2c805407ab692b57beacdf244": {
          "model_module": "@jupyter-widgets/controls",
          "model_name": "ProgressStyleModel",
          "model_module_version": "1.5.0",
          "state": {
            "_model_module": "@jupyter-widgets/controls",
            "_model_module_version": "1.5.0",
            "_model_name": "ProgressStyleModel",
            "_view_count": null,
            "_view_module": "@jupyter-widgets/base",
            "_view_module_version": "1.2.0",
            "_view_name": "StyleView",
            "bar_color": null,
            "description_width": ""
          }
        },
        "8c95084c8b884be9a281d15d265a5502": {
          "model_module": "@jupyter-widgets/base",
          "model_name": "LayoutModel",
          "model_module_version": "1.2.0",
          "state": {
            "_model_module": "@jupyter-widgets/base",
            "_model_module_version": "1.2.0",
            "_model_name": "LayoutModel",
            "_view_count": null,
            "_view_module": "@jupyter-widgets/base",
            "_view_module_version": "1.2.0",
            "_view_name": "LayoutView",
            "align_content": null,
            "align_items": null,
            "align_self": null,
            "border": null,
            "bottom": null,
            "display": null,
            "flex": null,
            "flex_flow": null,
            "grid_area": null,
            "grid_auto_columns": null,
            "grid_auto_flow": null,
            "grid_auto_rows": null,
            "grid_column": null,
            "grid_gap": null,
            "grid_row": null,
            "grid_template_areas": null,
            "grid_template_columns": null,
            "grid_template_rows": null,
            "height": null,
            "justify_content": null,
            "justify_items": null,
            "left": null,
            "margin": null,
            "max_height": null,
            "max_width": null,
            "min_height": null,
            "min_width": null,
            "object_fit": null,
            "object_position": null,
            "order": null,
            "overflow": null,
            "overflow_x": null,
            "overflow_y": null,
            "padding": null,
            "right": null,
            "top": null,
            "visibility": null,
            "width": null
          }
        },
        "76d497c2eade4316be44ec3ffa88b051": {
          "model_module": "@jupyter-widgets/controls",
          "model_name": "DescriptionStyleModel",
          "model_module_version": "1.5.0",
          "state": {
            "_model_module": "@jupyter-widgets/controls",
            "_model_module_version": "1.5.0",
            "_model_name": "DescriptionStyleModel",
            "_view_count": null,
            "_view_module": "@jupyter-widgets/base",
            "_view_module_version": "1.2.0",
            "_view_name": "StyleView",
            "description_width": ""
          }
        },
        "d49d345071774ce3ab06bde5c014d274": {
          "model_module": "@jupyter-widgets/controls",
          "model_name": "HBoxModel",
          "model_module_version": "1.5.0",
          "state": {
            "_dom_classes": [],
            "_model_module": "@jupyter-widgets/controls",
            "_model_module_version": "1.5.0",
            "_model_name": "HBoxModel",
            "_view_count": null,
            "_view_module": "@jupyter-widgets/controls",
            "_view_module_version": "1.5.0",
            "_view_name": "HBoxView",
            "box_style": "",
            "children": [
              "IPY_MODEL_b1de3d03881f4fd590089c38c32c907d",
              "IPY_MODEL_9ad4279642d04354880bc1da390a0355",
              "IPY_MODEL_e820e5ba80d648dea0f4c3ccc4751aef"
            ],
            "layout": "IPY_MODEL_ecc23a04ca7c4192bbf6854aa9c34410"
          }
        },
        "b1de3d03881f4fd590089c38c32c907d": {
          "model_module": "@jupyter-widgets/controls",
          "model_name": "HTMLModel",
          "model_module_version": "1.5.0",
          "state": {
            "_dom_classes": [],
            "_model_module": "@jupyter-widgets/controls",
            "_model_module_version": "1.5.0",
            "_model_name": "HTMLModel",
            "_view_count": null,
            "_view_module": "@jupyter-widgets/controls",
            "_view_module_version": "1.5.0",
            "_view_name": "HTMLView",
            "description": "",
            "description_tooltip": null,
            "layout": "IPY_MODEL_442b57ebd2804718b7f63a57cb09e3a1",
            "placeholder": "​",
            "style": "IPY_MODEL_2ad791462af74dd49e6f3cd2b5a16cd5",
            "value": "100%"
          }
        },
        "9ad4279642d04354880bc1da390a0355": {
          "model_module": "@jupyter-widgets/controls",
          "model_name": "FloatProgressModel",
          "model_module_version": "1.5.0",
          "state": {
            "_dom_classes": [],
            "_model_module": "@jupyter-widgets/controls",
            "_model_module_version": "1.5.0",
            "_model_name": "FloatProgressModel",
            "_view_count": null,
            "_view_module": "@jupyter-widgets/controls",
            "_view_module_version": "1.5.0",
            "_view_name": "ProgressView",
            "bar_style": "success",
            "description": "",
            "description_tooltip": null,
            "layout": "IPY_MODEL_cee0a65d72a043ffb6723908ba69dd59",
            "max": 2504,
            "min": 0,
            "orientation": "horizontal",
            "style": "IPY_MODEL_9b12e9389f7d4baab45eeeedca4de003",
            "value": 2504
          }
        },
        "e820e5ba80d648dea0f4c3ccc4751aef": {
          "model_module": "@jupyter-widgets/controls",
          "model_name": "HTMLModel",
          "model_module_version": "1.5.0",
          "state": {
            "_dom_classes": [],
            "_model_module": "@jupyter-widgets/controls",
            "_model_module_version": "1.5.0",
            "_model_name": "HTMLModel",
            "_view_count": null,
            "_view_module": "@jupyter-widgets/controls",
            "_view_module_version": "1.5.0",
            "_view_name": "HTMLView",
            "description": "",
            "description_tooltip": null,
            "layout": "IPY_MODEL_5b861a0ac2354e2482eeef33cf4c372d",
            "placeholder": "​",
            "style": "IPY_MODEL_3c5fd502b5b949e3a5927a6483cb3bde",
            "value": " 2504/2504 [08:28&lt;00:00,  3.68it/s]"
          }
        },
        "ecc23a04ca7c4192bbf6854aa9c34410": {
          "model_module": "@jupyter-widgets/base",
          "model_name": "LayoutModel",
          "model_module_version": "1.2.0",
          "state": {
            "_model_module": "@jupyter-widgets/base",
            "_model_module_version": "1.2.0",
            "_model_name": "LayoutModel",
            "_view_count": null,
            "_view_module": "@jupyter-widgets/base",
            "_view_module_version": "1.2.0",
            "_view_name": "LayoutView",
            "align_content": null,
            "align_items": null,
            "align_self": null,
            "border": null,
            "bottom": null,
            "display": null,
            "flex": null,
            "flex_flow": null,
            "grid_area": null,
            "grid_auto_columns": null,
            "grid_auto_flow": null,
            "grid_auto_rows": null,
            "grid_column": null,
            "grid_gap": null,
            "grid_row": null,
            "grid_template_areas": null,
            "grid_template_columns": null,
            "grid_template_rows": null,
            "height": null,
            "justify_content": null,
            "justify_items": null,
            "left": null,
            "margin": null,
            "max_height": null,
            "max_width": null,
            "min_height": null,
            "min_width": null,
            "object_fit": null,
            "object_position": null,
            "order": null,
            "overflow": null,
            "overflow_x": null,
            "overflow_y": null,
            "padding": null,
            "right": null,
            "top": null,
            "visibility": null,
            "width": null
          }
        },
        "442b57ebd2804718b7f63a57cb09e3a1": {
          "model_module": "@jupyter-widgets/base",
          "model_name": "LayoutModel",
          "model_module_version": "1.2.0",
          "state": {
            "_model_module": "@jupyter-widgets/base",
            "_model_module_version": "1.2.0",
            "_model_name": "LayoutModel",
            "_view_count": null,
            "_view_module": "@jupyter-widgets/base",
            "_view_module_version": "1.2.0",
            "_view_name": "LayoutView",
            "align_content": null,
            "align_items": null,
            "align_self": null,
            "border": null,
            "bottom": null,
            "display": null,
            "flex": null,
            "flex_flow": null,
            "grid_area": null,
            "grid_auto_columns": null,
            "grid_auto_flow": null,
            "grid_auto_rows": null,
            "grid_column": null,
            "grid_gap": null,
            "grid_row": null,
            "grid_template_areas": null,
            "grid_template_columns": null,
            "grid_template_rows": null,
            "height": null,
            "justify_content": null,
            "justify_items": null,
            "left": null,
            "margin": null,
            "max_height": null,
            "max_width": null,
            "min_height": null,
            "min_width": null,
            "object_fit": null,
            "object_position": null,
            "order": null,
            "overflow": null,
            "overflow_x": null,
            "overflow_y": null,
            "padding": null,
            "right": null,
            "top": null,
            "visibility": null,
            "width": null
          }
        },
        "2ad791462af74dd49e6f3cd2b5a16cd5": {
          "model_module": "@jupyter-widgets/controls",
          "model_name": "DescriptionStyleModel",
          "model_module_version": "1.5.0",
          "state": {
            "_model_module": "@jupyter-widgets/controls",
            "_model_module_version": "1.5.0",
            "_model_name": "DescriptionStyleModel",
            "_view_count": null,
            "_view_module": "@jupyter-widgets/base",
            "_view_module_version": "1.2.0",
            "_view_name": "StyleView",
            "description_width": ""
          }
        },
        "cee0a65d72a043ffb6723908ba69dd59": {
          "model_module": "@jupyter-widgets/base",
          "model_name": "LayoutModel",
          "model_module_version": "1.2.0",
          "state": {
            "_model_module": "@jupyter-widgets/base",
            "_model_module_version": "1.2.0",
            "_model_name": "LayoutModel",
            "_view_count": null,
            "_view_module": "@jupyter-widgets/base",
            "_view_module_version": "1.2.0",
            "_view_name": "LayoutView",
            "align_content": null,
            "align_items": null,
            "align_self": null,
            "border": null,
            "bottom": null,
            "display": null,
            "flex": null,
            "flex_flow": null,
            "grid_area": null,
            "grid_auto_columns": null,
            "grid_auto_flow": null,
            "grid_auto_rows": null,
            "grid_column": null,
            "grid_gap": null,
            "grid_row": null,
            "grid_template_areas": null,
            "grid_template_columns": null,
            "grid_template_rows": null,
            "height": null,
            "justify_content": null,
            "justify_items": null,
            "left": null,
            "margin": null,
            "max_height": null,
            "max_width": null,
            "min_height": null,
            "min_width": null,
            "object_fit": null,
            "object_position": null,
            "order": null,
            "overflow": null,
            "overflow_x": null,
            "overflow_y": null,
            "padding": null,
            "right": null,
            "top": null,
            "visibility": null,
            "width": null
          }
        },
        "9b12e9389f7d4baab45eeeedca4de003": {
          "model_module": "@jupyter-widgets/controls",
          "model_name": "ProgressStyleModel",
          "model_module_version": "1.5.0",
          "state": {
            "_model_module": "@jupyter-widgets/controls",
            "_model_module_version": "1.5.0",
            "_model_name": "ProgressStyleModel",
            "_view_count": null,
            "_view_module": "@jupyter-widgets/base",
            "_view_module_version": "1.2.0",
            "_view_name": "StyleView",
            "bar_color": null,
            "description_width": ""
          }
        },
        "5b861a0ac2354e2482eeef33cf4c372d": {
          "model_module": "@jupyter-widgets/base",
          "model_name": "LayoutModel",
          "model_module_version": "1.2.0",
          "state": {
            "_model_module": "@jupyter-widgets/base",
            "_model_module_version": "1.2.0",
            "_model_name": "LayoutModel",
            "_view_count": null,
            "_view_module": "@jupyter-widgets/base",
            "_view_module_version": "1.2.0",
            "_view_name": "LayoutView",
            "align_content": null,
            "align_items": null,
            "align_self": null,
            "border": null,
            "bottom": null,
            "display": null,
            "flex": null,
            "flex_flow": null,
            "grid_area": null,
            "grid_auto_columns": null,
            "grid_auto_flow": null,
            "grid_auto_rows": null,
            "grid_column": null,
            "grid_gap": null,
            "grid_row": null,
            "grid_template_areas": null,
            "grid_template_columns": null,
            "grid_template_rows": null,
            "height": null,
            "justify_content": null,
            "justify_items": null,
            "left": null,
            "margin": null,
            "max_height": null,
            "max_width": null,
            "min_height": null,
            "min_width": null,
            "object_fit": null,
            "object_position": null,
            "order": null,
            "overflow": null,
            "overflow_x": null,
            "overflow_y": null,
            "padding": null,
            "right": null,
            "top": null,
            "visibility": null,
            "width": null
          }
        },
        "3c5fd502b5b949e3a5927a6483cb3bde": {
          "model_module": "@jupyter-widgets/controls",
          "model_name": "DescriptionStyleModel",
          "model_module_version": "1.5.0",
          "state": {
            "_model_module": "@jupyter-widgets/controls",
            "_model_module_version": "1.5.0",
            "_model_name": "DescriptionStyleModel",
            "_view_count": null,
            "_view_module": "@jupyter-widgets/base",
            "_view_module_version": "1.2.0",
            "_view_name": "StyleView",
            "description_width": ""
          }
        }
      }
    }
  },
  "nbformat": 4,
  "nbformat_minor": 5
}